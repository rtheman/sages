{
 "cells": [
  {
   "cell_type": "markdown",
   "metadata": {},
   "source": [
    "Initialization and Setup"
   ]
  },
  {
   "cell_type": "code",
   "execution_count": 1,
   "metadata": {},
   "outputs": [
    {
     "name": "stdout",
     "output_type": "stream",
     "text": [
      "/opt/conda/lib/python3.7/site-packages/secretstorage/dhcrypto.py:16: CryptographyDeprecationWarning: int_from_bytes is deprecated, use int.from_bytes instead\n",
      "  from cryptography.utils import int_from_bytes\n",
      "/opt/conda/lib/python3.7/site-packages/secretstorage/util.py:25: CryptographyDeprecationWarning: int_from_bytes is deprecated, use int.from_bytes instead\n",
      "  from cryptography.utils import int_from_bytes\n"
     ]
    }
   ],
   "source": [
    "!pip install -q awswrangler\n",
    "\n",
    "import awswrangler as wr\n",
    "import pandas as pd\n",
    "import boto3\n",
    "import pytz\n",
    "from datetime import datetime\n",
    "from sagemaker import get_execution_role"
   ]
  },
  {
   "cell_type": "markdown",
   "metadata": {},
   "source": [
    "Get Sagemaker's Role"
   ]
  },
  {
   "cell_type": "code",
   "execution_count": 2,
   "metadata": {},
   "outputs": [
    {
     "name": "stderr",
     "output_type": "stream",
     "text": [
      "Couldn't call 'get_role' to get Role ARN from role name AmazonSageMaker-ExecutionRole-20210503T205912 to get Role path.\n",
      "Assuming role was created in SageMaker AWS console, as the name contains `AmazonSageMaker-ExecutionRole`. Defaulting to Role ARN with service-role in path. If this Role ARN is incorrect, please add IAM read permissions to your role or supply the Role Arn directly.\n"
     ]
    },
    {
     "name": "stdout",
     "output_type": "stream",
     "text": [
      "arn:aws:iam::506926764659:role/service-role/AmazonSageMaker-ExecutionRole-20210503T205912\n"
     ]
    }
   ],
   "source": [
    "role = get_execution_role()\n",
    "print(role)"
   ]
  },
  {
   "cell_type": "markdown",
   "metadata": {},
   "source": [
    "# S3 Parameters"
   ]
  },
  {
   "cell_type": "code",
   "execution_count": 5,
   "metadata": {},
   "outputs": [
    {
     "data": {
      "text/plain": [
       "'s3://from-public-data/carrier-perf/transformed/airOT2011all.csv'"
      ]
     },
     "execution_count": 5,
     "metadata": {},
     "output_type": "execute_result"
    }
   ],
   "source": [
    "# Bucket (origin)\n",
    "bucket = 'from-public-data/carrier-perf/transformed'\n",
    "# bucket = 'from-public-data/carrier-perf/transformed/airOT2011'\n",
    "bucket_2007 = 'from-public-data/carrier-perf/transformed/airOT2007'\n",
    "bucket_2011 = 'from-public-data/carrier-perf/transformed/airOT2011'\n",
    "\n",
    "# Files (origin)\n",
    "file_01 = 'airOT201101.csv'\n",
    "file_02 = 'airOT201102.csv'\n",
    "file_03 = 'airOT201103.csv'\n",
    "file_04 = 'airOT201104.csv'\n",
    "file_05 = 'airOT201105.csv'\n",
    "file_06 = 'airOT201106.csv'\n",
    "file_07 = 'airOT201107.csv'\n",
    "file_08 = 'airOT201108.csv'\n",
    "file_09 = 'airOT201109.csv'\n",
    "file_10 = 'airOT201110.csv'\n",
    "file_11 = 'airOT201111.csv'\n",
    "file_12 = 'airOT201112.csv'\n",
    "file_2011 = 'airOT2011all.csv'\n",
    "\n",
    "# Paths to files (origin)\n",
    "path_01 = 's3://{}/{}'.format(bucket, file_01)\n",
    "path_02 = 's3://{}/{}'.format(bucket, file_02)\n",
    "path_03 = 's3://{}/{}'.format(bucket, file_03)\n",
    "path_04 = 's3://{}/{}'.format(bucket, file_04)\n",
    "path_05 = 's3://{}/{}'.format(bucket, file_05)\n",
    "path_06 = 's3://{}/{}'.format(bucket, file_06)\n",
    "path_07 = 's3://{}/{}'.format(bucket, file_07)\n",
    "path_08 = 's3://{}/{}'.format(bucket, file_08)\n",
    "path_09 = 's3://{}/{}'.format(bucket, file_09)\n",
    "path_10 = 's3://{}/{}'.format(bucket, file_10)\n",
    "path_11 = 's3://{}/{}'.format(bucket, file_11)\n",
    "path_12 = 's3://{}/{}'.format(bucket, file_12)\n",
    "path_2011 = 's3://{}/{}'.format(bucket, file_2011)\n",
    "path_gen = 's3://{}'.format(bucket)\n",
    "path_gen_2007 = 's3://{}'.format(bucket_2007)\n",
    "path_gen_2011 = 's3://{}'.format(bucket_2011)\n",
    "\n",
    "path_2011"
   ]
  },
  {
   "cell_type": "markdown",
   "metadata": {},
   "source": [
    "# Reading a single CSV file"
   ]
  },
  {
   "cell_type": "markdown",
   "metadata": {},
   "source": [
    "### a single month"
   ]
  },
  {
   "cell_type": "code",
   "execution_count": null,
   "metadata": {},
   "outputs": [],
   "source": [
    "df = wr.s3.read_csv([path_2011])\n",
    "df"
   ]
  },
  {
   "cell_type": "markdown",
   "metadata": {},
   "source": [
    "### a single year"
   ]
  },
  {
   "cell_type": "code",
   "execution_count": null,
   "metadata": {},
   "outputs": [],
   "source": [
    "bucket = 'from-public-data/carrier-perf/transformed'\n",
    "file = 'airOT2011all.csv'\n",
    "path = 's3://{}/{}'.format(bucket, file)\n",
    "\n",
    "df_blah = wr.s3.read_csv([path])\n",
    "df_blah"
   ]
  },
  {
   "cell_type": "markdown",
   "metadata": {},
   "source": [
    "# Reading multiple CSV files"
   ]
  },
  {
   "cell_type": "code",
   "execution_count": null,
   "metadata": {},
   "outputs": [],
   "source": [
    "# df_combo = wr.s3.read_csv([path_01, path_02, path_03, path_04, path_05, path_06, path_07, path_08, path_09, path_10, path_11, path_12])\n",
    "# df_combo\n",
    "\n",
    "df_2007 = wr.s3.read_csv(path_gen_2007)\n",
    "# df_2011 = wr.s3.read_csv(path_gen_2011)\n",
    "# df_combo = pd.concat([df_2007, df_2011])\n",
    "\n",
    "# df_combo = wr.s3.read_csv(path_gen)"
   ]
  },
  {
   "cell_type": "markdown",
   "metadata": {},
   "source": [
    "# Export CSV back to S3"
   ]
  },
  {
   "cell_type": "code",
   "execution_count": null,
   "metadata": {},
   "outputs": [],
   "source": [
    "file_all = 'airOT2007all.csv'\n",
    "path_all = 's3://{}/{}'.format(bucket, file_all)\n",
    "\n",
    "wr.s3.to_csv(df_combo, path_all, index=False)"
   ]
  },
  {
   "cell_type": "code",
   "execution_count": null,
   "metadata": {},
   "outputs": [],
   "source": []
  }
 ],
 "metadata": {
  "kernelspec": {
   "display_name": "Python 3 (Data Science)",
   "language": "python",
   "name": "python3__SAGEMAKER_INTERNAL__arn:aws:sagemaker:us-west-2:236514542706:image/datascience-1.0"
  },
  "language_info": {
   "codemirror_mode": {
    "name": "ipython",
    "version": 3
   },
   "file_extension": ".py",
   "mimetype": "text/x-python",
   "name": "python",
   "nbconvert_exporter": "python",
   "pygments_lexer": "ipython3",
   "version": "3.7.10"
  }
 },
 "nbformat": 4,
 "nbformat_minor": 4
}
