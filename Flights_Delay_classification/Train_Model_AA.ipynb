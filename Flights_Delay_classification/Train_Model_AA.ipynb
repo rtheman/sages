{
 "cells": [
  {
   "cell_type": "markdown",
   "metadata": {},
   "source": [
    "Libraries & Parameters"
   ]
  },
  {
   "cell_type": "code",
   "execution_count": 1,
   "metadata": {},
   "outputs": [
    {
     "name": "stdout",
     "output_type": "stream",
     "text": [
      "/opt/conda/lib/python3.7/site-packages/secretstorage/dhcrypto.py:16: CryptographyDeprecationWarning: int_from_bytes is deprecated, use int.from_bytes instead\n",
      "  from cryptography.utils import int_from_bytes\n",
      "/opt/conda/lib/python3.7/site-packages/secretstorage/util.py:25: CryptographyDeprecationWarning: int_from_bytes is deprecated, use int.from_bytes instead\n",
      "  from cryptography.utils import int_from_bytes\n",
      "/opt/conda/lib/python3.7/site-packages/secretstorage/dhcrypto.py:16: CryptographyDeprecationWarning: int_from_bytes is deprecated, use int.from_bytes instead\n",
      "  from cryptography.utils import int_from_bytes\n",
      "/opt/conda/lib/python3.7/site-packages/secretstorage/util.py:25: CryptographyDeprecationWarning: int_from_bytes is deprecated, use int.from_bytes instead\n",
      "  from cryptography.utils import int_from_bytes\n"
     ]
    }
   ],
   "source": [
    "!pip install -q awswrangler\n",
    "\n",
    "import awswrangler as wr\n",
    "import pandas as pd\n",
    "\n",
    "import boto3\n",
    "import pytz\n",
    "\n",
    "import numpy as np\n",
    "!pip install -U -q seaborn\n",
    "import seaborn as sns\n",
    "import matplotlib.pyplot as plt\n",
    "\n",
    "import datetime\n",
    "from sagemaker import get_execution_role"
   ]
  },
  {
   "cell_type": "code",
   "execution_count": 2,
   "metadata": {},
   "outputs": [
    {
     "name": "stderr",
     "output_type": "stream",
     "text": [
      "Couldn't call 'get_role' to get Role ARN from role name AmazonSageMaker-ExecutionRole-20210503T205912 to get Role path.\n",
      "Assuming role was created in SageMaker AWS console, as the name contains `AmazonSageMaker-ExecutionRole`. Defaulting to Role ARN with service-role in path. If this Role ARN is incorrect, please add IAM read permissions to your role or supply the Role Arn directly.\n"
     ]
    },
    {
     "name": "stdout",
     "output_type": "stream",
     "text": [
      "arn:aws:iam::506926764659:role/service-role/AmazonSageMaker-ExecutionRole-20210503T205912\n"
     ]
    }
   ],
   "source": [
    "# Get Sagemaker Role\n",
    "role = get_execution_role()\n",
    "print(role)"
   ]
  },
  {
   "cell_type": "markdown",
   "metadata": {},
   "source": [
    "___\n",
    "# 1.) Download Data"
   ]
  },
  {
   "cell_type": "markdown",
   "metadata": {},
   "source": [
    "## S3 parameters"
   ]
  },
  {
   "cell_type": "code",
   "execution_count": 3,
   "metadata": {},
   "outputs": [],
   "source": [
    "# Flight data from Sagemaker Data Wrangler\n",
    "bucket = 'sagemaker-us-west-2-506926764659/export-flow-05-16-30-08-0c003aed/output/data-wrangler-flow-processing-05-16-30-08-0c003aed/b98f4f8c-ddaf-4ee1-99da-b0dd09f47a21/default'\n",
    "filename = 'part-00000-92fade68-00c4-41b3-9182-593084da2eae-c000.csv'\n",
    "path_to_file = 's3://{}/{}'.format(bucket, filename)\n",
    "\n",
    "# # Flight data from entire year of 2011\n",
    "# bucket = 'from-public-data/carrier-perf/transformed'\n",
    "# filename = 'airOT2011all.csv'\n",
    "# path_to_file = 's3://{}/{}'.format(bucket, filename)\n",
    "\n",
    "# # Flight data from 2011_01 \n",
    "# bucket = 'from-public-data/carrier-perf/transformed/airOT2011'\n",
    "# filename = 'airOT201101.csv'\n",
    "# path_to_file = 's3://{}/{}'.format(bucket, filename)\n",
    "\n",
    "\n",
    "# ________________________________________________________________\n",
    "# Supporting dataset useful for EDA and understanding data\n",
    "#   - airport codes\n",
    "#   - airline codes\n",
    "bucket2 = 'from-public-data/carrier-perf/raw'\n",
    "file_airport = 'airports.csv'\n",
    "file_airline = 'airlines.csv'\n",
    "\n",
    "path_to_file_airport = 's3://{}/{}'.format(bucket2, file_airport)\n",
    "path_to_file_airline = 's3://{}/{}'.format(bucket2, file_airline)"
   ]
  },
  {
   "cell_type": "markdown",
   "metadata": {},
   "source": [
    "=== === === === ===\n",
    "## Download data from S3"
   ]
  },
  {
   "cell_type": "markdown",
   "metadata": {},
   "source": [
    "### 1. Flights Performance dataset"
   ]
  },
  {
   "cell_type": "code",
   "execution_count": 4,
   "metadata": {},
   "outputs": [],
   "source": [
    "df = wr.s3.read_csv([path_to_file])\n",
    "# df"
   ]
  },
  {
   "cell_type": "markdown",
   "metadata": {},
   "source": [
    "A whopping 7,294,649 rows (records) of JUST year 2007!  Thanks to all the Sagemaker Data Wrangler, I was able to already do some data cleaning and adjustment:\n",
    "  - Create new variable `late_flight` depending on `DEP_DELAY`\n",
    "  - Trim value to remove outliers for `DEP_DLAY`\n",
    "  - Drop records for Cancelled flights `CANCELED` == 1 (doesn't make much sense to have flights that's irrelevant to flights delay when flight never occur)"
   ]
  },
  {
   "cell_type": "markdown",
   "metadata": {},
   "source": [
    "### 2. Airports & Airlines dataset"
   ]
  },
  {
   "cell_type": "code",
   "execution_count": 5,
   "metadata": {},
   "outputs": [],
   "source": [
    "df_airports = wr.s3.read_csv([path_to_file_airport])\n",
    "df_airlines = wr.s3.read_csv([path_to_file_airline])\n",
    "# df_airlines"
   ]
  },
  {
   "cell_type": "markdown",
   "metadata": {},
   "source": [
    "=== === === === ===\n",
    "## Initial Data Clean-up and Organization"
   ]
  },
  {
   "cell_type": "code",
   "execution_count": 6,
   "metadata": {},
   "outputs": [],
   "source": [
    "# rename 'DAY_OF_MONTH' column to 'DAY' (in prep of transforming to datetime format)\n",
    "df = df.rename(columns={'DAY_OF_MONTH': 'DAY'})\n",
    "# df"
   ]
  },
  {
   "cell_type": "markdown",
   "metadata": {},
   "source": [
    "### 1. Date / Time modifications\n",
    "\n",
    "Make date and time more appropriate.  This will make it easier when making plots."
   ]
  },
  {
   "cell_type": "code",
   "execution_count": 7,
   "metadata": {},
   "outputs": [],
   "source": [
    "# Create a datetime field `DATE`\n",
    "df['DATE'] = pd.to_datetime(df[['YEAR','MONTH','DAY']])"
   ]
  },
  {
   "cell_type": "code",
   "execution_count": 8,
   "metadata": {},
   "outputs": [],
   "source": [
    "# Convert 'HHMM' string to datetime.time\n",
    "def format_heure(chaine):\n",
    "    if pd.isnull(chaine):\n",
    "        return np.nan\n",
    "    else:\n",
    "        if chaine == 2400: chaine = 0\n",
    "        chaine = \"{0:04d}\".format(int(chaine))\n",
    "        heure = datetime.time(int(chaine[0:2]), int(chaine[2:4]))\n",
    "        return heure"
   ]
  },
  {
   "cell_type": "code",
   "execution_count": 9,
   "metadata": {},
   "outputs": [],
   "source": [
    "df['DEP_TIME'] = df['DEP_TIME'].apply(format_heure)\n",
    "df['ARR_TIME'] = df['ARR_TIME'].apply(format_heure)"
   ]
  },
  {
   "cell_type": "markdown",
   "metadata": {},
   "source": [
    "### 2. Organize Columns\n",
    "\n",
    "Let's organize columns (features) to be more logical"
   ]
  },
  {
   "cell_type": "code",
   "execution_count": 10,
   "metadata": {},
   "outputs": [],
   "source": [
    "variables_to_remove = ['ORIGIN_AIRPORT_ID', 'DEST_AIRPORT_ID']\n",
    "df.drop(variables_to_remove, axis = 1, inplace = True)\n",
    "\n",
    "df = df[[\n",
    "    'DATE',\n",
    "    'YEAR',\n",
    "    'MONTH',\n",
    "    'DAY',\n",
    "    'DAY_OF_WEEK',\n",
    "    'UNIQUE_CARRIER',\n",
    "    'ORIGIN',\n",
    "    'DEST',\n",
    "    'DEP_TIME',\n",
    "    'DEP_DELAY',\n",
    "    'DEP_DELAY_no_outlier',\n",
    "    'ACTUAL_ELAPSED_TIME',\n",
    "    'AIR_TIME',\n",
    "    'DISTANCE',\n",
    "    'ARR_TIME',\n",
    "    'ARR_DELAY',\n",
    "    'CARRIER_DELAY',\n",
    "    'WEATHER_DELAY',\n",
    "    'NAS_DELAY',\n",
    "    'SECURITY_DELAY',\n",
    "    'LATE_AIRCRAFT_DELAY',\n",
    "    'late_flight']]"
   ]
  },
  {
   "cell_type": "code",
   "execution_count": 11,
   "metadata": {},
   "outputs": [
    {
     "name": "stdout",
     "output_type": "stream",
     "text": [
      "New dataset has 615933 records with 22 variables, containing only airlines ['AA']\n"
     ]
    }
   ],
   "source": [
    "df_AA = df.loc[df['UNIQUE_CARRIER'] == 'AA']\n",
    "\n",
    "# Set this in prep. for model training\n",
    "df_toTrain = df_AA\n",
    "\n",
    "distinct_airlines = df_AA.UNIQUE_CARRIER.unique()\n",
    "print('New dataset has {0} records with {1} variables, containing only airlines {2}'.format(df_AA.shape[0], df_AA.shape[1], distinct_airlines))"
   ]
  },
  {
   "cell_type": "code",
   "execution_count": 12,
   "metadata": {},
   "outputs": [
    {
     "data": {
      "text/html": [
       "<div>\n",
       "<style scoped>\n",
       "    .dataframe tbody tr th:only-of-type {\n",
       "        vertical-align: middle;\n",
       "    }\n",
       "\n",
       "    .dataframe tbody tr th {\n",
       "        vertical-align: top;\n",
       "    }\n",
       "\n",
       "    .dataframe thead th {\n",
       "        text-align: right;\n",
       "    }\n",
       "</style>\n",
       "<table border=\"1\" class=\"dataframe\">\n",
       "  <thead>\n",
       "    <tr style=\"text-align: right;\">\n",
       "      <th></th>\n",
       "      <th>DATE</th>\n",
       "      <th>YEAR</th>\n",
       "      <th>MONTH</th>\n",
       "      <th>DAY</th>\n",
       "      <th>DAY_OF_WEEK</th>\n",
       "      <th>UNIQUE_CARRIER</th>\n",
       "      <th>ORIGIN</th>\n",
       "      <th>DEST</th>\n",
       "      <th>DEP_TIME</th>\n",
       "      <th>DEP_DELAY</th>\n",
       "      <th>...</th>\n",
       "      <th>AIR_TIME</th>\n",
       "      <th>DISTANCE</th>\n",
       "      <th>ARR_TIME</th>\n",
       "      <th>ARR_DELAY</th>\n",
       "      <th>CARRIER_DELAY</th>\n",
       "      <th>WEATHER_DELAY</th>\n",
       "      <th>NAS_DELAY</th>\n",
       "      <th>SECURITY_DELAY</th>\n",
       "      <th>LATE_AIRCRAFT_DELAY</th>\n",
       "      <th>late_flight</th>\n",
       "    </tr>\n",
       "  </thead>\n",
       "  <tbody>\n",
       "    <tr>\n",
       "      <th>20534</th>\n",
       "      <td>2007-01-01</td>\n",
       "      <td>2007</td>\n",
       "      <td>1</td>\n",
       "      <td>1</td>\n",
       "      <td>1</td>\n",
       "      <td>AA</td>\n",
       "      <td>JFK</td>\n",
       "      <td>LAX</td>\n",
       "      <td>08:54:00</td>\n",
       "      <td>-6.0</td>\n",
       "      <td>...</td>\n",
       "      <td>333.0</td>\n",
       "      <td>2475.0</td>\n",
       "      <td>12:30:00</td>\n",
       "      <td>20.0</td>\n",
       "      <td>0.0</td>\n",
       "      <td>0.0</td>\n",
       "      <td>20.0</td>\n",
       "      <td>0.0</td>\n",
       "      <td>0.0</td>\n",
       "      <td>late</td>\n",
       "    </tr>\n",
       "    <tr>\n",
       "      <th>20535</th>\n",
       "      <td>2007-01-02</td>\n",
       "      <td>2007</td>\n",
       "      <td>1</td>\n",
       "      <td>2</td>\n",
       "      <td>2</td>\n",
       "      <td>AA</td>\n",
       "      <td>JFK</td>\n",
       "      <td>LAX</td>\n",
       "      <td>08:55:00</td>\n",
       "      <td>-5.0</td>\n",
       "      <td>...</td>\n",
       "      <td>326.0</td>\n",
       "      <td>2475.0</td>\n",
       "      <td>12:35:00</td>\n",
       "      <td>25.0</td>\n",
       "      <td>0.0</td>\n",
       "      <td>0.0</td>\n",
       "      <td>25.0</td>\n",
       "      <td>0.0</td>\n",
       "      <td>0.0</td>\n",
       "      <td>late</td>\n",
       "    </tr>\n",
       "    <tr>\n",
       "      <th>20536</th>\n",
       "      <td>2007-01-03</td>\n",
       "      <td>2007</td>\n",
       "      <td>1</td>\n",
       "      <td>3</td>\n",
       "      <td>3</td>\n",
       "      <td>AA</td>\n",
       "      <td>JFK</td>\n",
       "      <td>LAX</td>\n",
       "      <td>08:56:00</td>\n",
       "      <td>-4.0</td>\n",
       "      <td>...</td>\n",
       "      <td>312.0</td>\n",
       "      <td>2475.0</td>\n",
       "      <td>12:13:00</td>\n",
       "      <td>3.0</td>\n",
       "      <td>NaN</td>\n",
       "      <td>NaN</td>\n",
       "      <td>NaN</td>\n",
       "      <td>NaN</td>\n",
       "      <td>NaN</td>\n",
       "      <td>late</td>\n",
       "    </tr>\n",
       "    <tr>\n",
       "      <th>20537</th>\n",
       "      <td>2007-01-04</td>\n",
       "      <td>2007</td>\n",
       "      <td>1</td>\n",
       "      <td>4</td>\n",
       "      <td>4</td>\n",
       "      <td>AA</td>\n",
       "      <td>JFK</td>\n",
       "      <td>LAX</td>\n",
       "      <td>09:01:00</td>\n",
       "      <td>1.0</td>\n",
       "      <td>...</td>\n",
       "      <td>352.0</td>\n",
       "      <td>2475.0</td>\n",
       "      <td>12:49:00</td>\n",
       "      <td>39.0</td>\n",
       "      <td>0.0</td>\n",
       "      <td>0.0</td>\n",
       "      <td>39.0</td>\n",
       "      <td>0.0</td>\n",
       "      <td>0.0</td>\n",
       "      <td>late</td>\n",
       "    </tr>\n",
       "    <tr>\n",
       "      <th>20538</th>\n",
       "      <td>2007-01-05</td>\n",
       "      <td>2007</td>\n",
       "      <td>1</td>\n",
       "      <td>5</td>\n",
       "      <td>5</td>\n",
       "      <td>AA</td>\n",
       "      <td>JFK</td>\n",
       "      <td>LAX</td>\n",
       "      <td>08:55:00</td>\n",
       "      <td>-5.0</td>\n",
       "      <td>...</td>\n",
       "      <td>360.0</td>\n",
       "      <td>2475.0</td>\n",
       "      <td>13:00:00</td>\n",
       "      <td>50.0</td>\n",
       "      <td>0.0</td>\n",
       "      <td>0.0</td>\n",
       "      <td>50.0</td>\n",
       "      <td>0.0</td>\n",
       "      <td>0.0</td>\n",
       "      <td>late</td>\n",
       "    </tr>\n",
       "    <tr>\n",
       "      <th>...</th>\n",
       "      <td>...</td>\n",
       "      <td>...</td>\n",
       "      <td>...</td>\n",
       "      <td>...</td>\n",
       "      <td>...</td>\n",
       "      <td>...</td>\n",
       "      <td>...</td>\n",
       "      <td>...</td>\n",
       "      <td>...</td>\n",
       "      <td>...</td>\n",
       "      <td>...</td>\n",
       "      <td>...</td>\n",
       "      <td>...</td>\n",
       "      <td>...</td>\n",
       "      <td>...</td>\n",
       "      <td>...</td>\n",
       "      <td>...</td>\n",
       "      <td>...</td>\n",
       "      <td>...</td>\n",
       "      <td>...</td>\n",
       "      <td>...</td>\n",
       "    </tr>\n",
       "    <tr>\n",
       "      <th>6770764</th>\n",
       "      <td>2007-12-29</td>\n",
       "      <td>2007</td>\n",
       "      <td>12</td>\n",
       "      <td>29</td>\n",
       "      <td>6</td>\n",
       "      <td>AA</td>\n",
       "      <td>ORD</td>\n",
       "      <td>MCI</td>\n",
       "      <td>10:02:00</td>\n",
       "      <td>22.0</td>\n",
       "      <td>...</td>\n",
       "      <td>69.0</td>\n",
       "      <td>403.0</td>\n",
       "      <td>11:30:00</td>\n",
       "      <td>25.0</td>\n",
       "      <td>0.0</td>\n",
       "      <td>21.0</td>\n",
       "      <td>3.0</td>\n",
       "      <td>0.0</td>\n",
       "      <td>1.0</td>\n",
       "      <td>late</td>\n",
       "    </tr>\n",
       "    <tr>\n",
       "      <th>6770765</th>\n",
       "      <td>2007-12-30</td>\n",
       "      <td>2007</td>\n",
       "      <td>12</td>\n",
       "      <td>30</td>\n",
       "      <td>7</td>\n",
       "      <td>AA</td>\n",
       "      <td>ORD</td>\n",
       "      <td>MCI</td>\n",
       "      <td>09:33:00</td>\n",
       "      <td>-7.0</td>\n",
       "      <td>...</td>\n",
       "      <td>66.0</td>\n",
       "      <td>403.0</td>\n",
       "      <td>10:58:00</td>\n",
       "      <td>-7.0</td>\n",
       "      <td>NaN</td>\n",
       "      <td>NaN</td>\n",
       "      <td>NaN</td>\n",
       "      <td>NaN</td>\n",
       "      <td>NaN</td>\n",
       "      <td>late</td>\n",
       "    </tr>\n",
       "    <tr>\n",
       "      <th>6770766</th>\n",
       "      <td>2007-12-31</td>\n",
       "      <td>2007</td>\n",
       "      <td>12</td>\n",
       "      <td>31</td>\n",
       "      <td>1</td>\n",
       "      <td>AA</td>\n",
       "      <td>ORD</td>\n",
       "      <td>MCI</td>\n",
       "      <td>09:36:00</td>\n",
       "      <td>-4.0</td>\n",
       "      <td>...</td>\n",
       "      <td>79.0</td>\n",
       "      <td>403.0</td>\n",
       "      <td>11:23:00</td>\n",
       "      <td>18.0</td>\n",
       "      <td>0.0</td>\n",
       "      <td>0.0</td>\n",
       "      <td>18.0</td>\n",
       "      <td>0.0</td>\n",
       "      <td>0.0</td>\n",
       "      <td>late</td>\n",
       "    </tr>\n",
       "    <tr>\n",
       "      <th>6770767</th>\n",
       "      <td>2007-12-13</td>\n",
       "      <td>2007</td>\n",
       "      <td>12</td>\n",
       "      <td>13</td>\n",
       "      <td>4</td>\n",
       "      <td>AA</td>\n",
       "      <td>BOS</td>\n",
       "      <td>MIA</td>\n",
       "      <td>09:15:00</td>\n",
       "      <td>0.0</td>\n",
       "      <td>...</td>\n",
       "      <td>176.0</td>\n",
       "      <td>1258.0</td>\n",
       "      <td>12:56:00</td>\n",
       "      <td>11.0</td>\n",
       "      <td>NaN</td>\n",
       "      <td>NaN</td>\n",
       "      <td>NaN</td>\n",
       "      <td>NaN</td>\n",
       "      <td>NaN</td>\n",
       "      <td>late</td>\n",
       "    </tr>\n",
       "    <tr>\n",
       "      <th>6770768</th>\n",
       "      <td>2007-12-13</td>\n",
       "      <td>2007</td>\n",
       "      <td>12</td>\n",
       "      <td>13</td>\n",
       "      <td>4</td>\n",
       "      <td>AA</td>\n",
       "      <td>SEA</td>\n",
       "      <td>DFW</td>\n",
       "      <td>00:33:00</td>\n",
       "      <td>-7.0</td>\n",
       "      <td>...</td>\n",
       "      <td>195.0</td>\n",
       "      <td>1660.0</td>\n",
       "      <td>06:06:00</td>\n",
       "      <td>-9.0</td>\n",
       "      <td>NaN</td>\n",
       "      <td>NaN</td>\n",
       "      <td>NaN</td>\n",
       "      <td>NaN</td>\n",
       "      <td>NaN</td>\n",
       "      <td>late</td>\n",
       "    </tr>\n",
       "  </tbody>\n",
       "</table>\n",
       "<p>615933 rows × 22 columns</p>\n",
       "</div>"
      ],
      "text/plain": [
       "              DATE  YEAR  MONTH  DAY  DAY_OF_WEEK UNIQUE_CARRIER ORIGIN DEST  \\\n",
       "20534   2007-01-01  2007      1    1            1             AA    JFK  LAX   \n",
       "20535   2007-01-02  2007      1    2            2             AA    JFK  LAX   \n",
       "20536   2007-01-03  2007      1    3            3             AA    JFK  LAX   \n",
       "20537   2007-01-04  2007      1    4            4             AA    JFK  LAX   \n",
       "20538   2007-01-05  2007      1    5            5             AA    JFK  LAX   \n",
       "...            ...   ...    ...  ...          ...            ...    ...  ...   \n",
       "6770764 2007-12-29  2007     12   29            6             AA    ORD  MCI   \n",
       "6770765 2007-12-30  2007     12   30            7             AA    ORD  MCI   \n",
       "6770766 2007-12-31  2007     12   31            1             AA    ORD  MCI   \n",
       "6770767 2007-12-13  2007     12   13            4             AA    BOS  MIA   \n",
       "6770768 2007-12-13  2007     12   13            4             AA    SEA  DFW   \n",
       "\n",
       "         DEP_TIME  DEP_DELAY  ...  AIR_TIME  DISTANCE  ARR_TIME  ARR_DELAY  \\\n",
       "20534    08:54:00       -6.0  ...     333.0    2475.0  12:30:00       20.0   \n",
       "20535    08:55:00       -5.0  ...     326.0    2475.0  12:35:00       25.0   \n",
       "20536    08:56:00       -4.0  ...     312.0    2475.0  12:13:00        3.0   \n",
       "20537    09:01:00        1.0  ...     352.0    2475.0  12:49:00       39.0   \n",
       "20538    08:55:00       -5.0  ...     360.0    2475.0  13:00:00       50.0   \n",
       "...           ...        ...  ...       ...       ...       ...        ...   \n",
       "6770764  10:02:00       22.0  ...      69.0     403.0  11:30:00       25.0   \n",
       "6770765  09:33:00       -7.0  ...      66.0     403.0  10:58:00       -7.0   \n",
       "6770766  09:36:00       -4.0  ...      79.0     403.0  11:23:00       18.0   \n",
       "6770767  09:15:00        0.0  ...     176.0    1258.0  12:56:00       11.0   \n",
       "6770768  00:33:00       -7.0  ...     195.0    1660.0  06:06:00       -9.0   \n",
       "\n",
       "        CARRIER_DELAY  WEATHER_DELAY  NAS_DELAY  SECURITY_DELAY  \\\n",
       "20534             0.0            0.0       20.0             0.0   \n",
       "20535             0.0            0.0       25.0             0.0   \n",
       "20536             NaN            NaN        NaN             NaN   \n",
       "20537             0.0            0.0       39.0             0.0   \n",
       "20538             0.0            0.0       50.0             0.0   \n",
       "...               ...            ...        ...             ...   \n",
       "6770764           0.0           21.0        3.0             0.0   \n",
       "6770765           NaN            NaN        NaN             NaN   \n",
       "6770766           0.0            0.0       18.0             0.0   \n",
       "6770767           NaN            NaN        NaN             NaN   \n",
       "6770768           NaN            NaN        NaN             NaN   \n",
       "\n",
       "         LATE_AIRCRAFT_DELAY  late_flight  \n",
       "20534                    0.0         late  \n",
       "20535                    0.0         late  \n",
       "20536                    NaN         late  \n",
       "20537                    0.0         late  \n",
       "20538                    0.0         late  \n",
       "...                      ...          ...  \n",
       "6770764                  1.0         late  \n",
       "6770765                  NaN         late  \n",
       "6770766                  0.0         late  \n",
       "6770767                  NaN         late  \n",
       "6770768                  NaN         late  \n",
       "\n",
       "[615933 rows x 22 columns]"
      ]
     },
     "execution_count": 12,
     "metadata": {},
     "output_type": "execute_result"
    }
   ],
   "source": [
    "df_AA"
   ]
  },
  {
   "cell_type": "markdown",
   "metadata": {},
   "source": [
    "___\n",
    "# 2.) Explorational Data Analysis"
   ]
  },
  {
   "cell_type": "markdown",
   "metadata": {},
   "source": [
    "## Distribution of Target (dependent) Variable `late_flight`"
   ]
  },
  {
   "cell_type": "code",
   "execution_count": 13,
   "metadata": {},
   "outputs": [
    {
     "data": {
      "text/plain": [
       "<matplotlib.axes._subplots.AxesSubplot at 0x7fb40cff8bd0>"
      ]
     },
     "execution_count": 13,
     "metadata": {},
     "output_type": "execute_result"
    },
    {
     "data": {
      "image/png": "[encoded data removed]",
      "text/plain": [
       "<Figure size 432x288 with 1 Axes>"
      ]
     },
     "metadata": {
      "needs_background": "light"
     },
     "output_type": "display_data"
    }
   ],
   "source": [
    "df_AA.late_flight.value_counts().plot(kind='bar')"
   ]
  },
  {
   "cell_type": "code",
   "execution_count": 14,
   "metadata": {},
   "outputs": [
    {
     "data": {
      "text/plain": [
       "late        614475\n",
       "not_late      1458\n",
       "Name: late_flight, dtype: int64"
      ]
     },
     "execution_count": 14,
     "metadata": {},
     "output_type": "execute_result"
    }
   ],
   "source": [
    "df_AA.late_flight.value_counts()"
   ]
  },
  {
   "cell_type": "markdown",
   "metadata": {},
   "source": [
    "**NOTE** Looks like a pretty imbalance distribution of target variable.  Will probably need to use SMOTE and create synthetic data for the minority class."
   ]
  },
  {
   "cell_type": "markdown",
   "metadata": {},
   "source": [
    "## Corrleations"
   ]
  },
  {
   "cell_type": "code",
   "execution_count": 16,
   "metadata": {},
   "outputs": [
    {
     "data": {
      "text/plain": [
       "Text(0.5, 1, 'Correlation Heatmap')"
      ]
     },
     "execution_count": 16,
     "metadata": {},
     "output_type": "execute_result"
    },
    {
     "data": {
      "image/png": "[encoded data removed]",
      "text/plain": [
       "<Figure size 936x648 with 2 Axes>"
      ]
     },
     "metadata": {
      "needs_background": "light"
     },
     "output_type": "display_data"
    }
   ],
   "source": [
    "# increase figure size\n",
    "plt.figure(figsize=(13, 9))\n",
    "heatmap = sns.heatmap(df_AA.corr(), vmin=-1, vmax=1, annot=True, cmap=\"YlGnBu\")\n",
    "\n",
    "# define title\n",
    "heatmap.set_title('Correlation Heatmap', fontdict={'fontsize':15}, pad=12)\n",
    "\n",
    "# ref. https://medium.com/@szabo.bibor/how-to-create-a-seaborn-correlation-heatmap-in-python-834c0686b88e"
   ]
  },
  {
   "cell_type": "markdown",
   "metadata": {},
   "source": [
    "**NOTE** Looks like high correlation between:\n",
    "  - `DEP_DELAY_no_outlier` :: `ARR_DELAY`, which could makes logical sense because if you are late departing, then you are likely to be late arriving\n",
    "  - `ACTUAL_ELAPSED_TIME` :: `DISTANCE` :: `AIR_TIME`, which make sense as each 3-variables are referencing same part of flight"
   ]
  },
  {
   "cell_type": "markdown",
   "metadata": {},
   "source": [
    "# 3.) Train Model"
   ]
  },
  {
   "cell_type": "code",
   "execution_count": 17,
   "metadata": {},
   "outputs": [
    {
     "name": "stdout",
     "output_type": "stream",
     "text": [
      "/opt/conda/lib/python3.7/site-packages/secretstorage/dhcrypto.py:16: CryptographyDeprecationWarning: int_from_bytes is deprecated, use int.from_bytes instead\n",
      "  from cryptography.utils import int_from_bytes\n",
      "/opt/conda/lib/python3.7/site-packages/secretstorage/util.py:25: CryptographyDeprecationWarning: int_from_bytes is deprecated, use int.from_bytes instead\n",
      "  from cryptography.utils import int_from_bytes\n"
     ]
    }
   ],
   "source": [
    "# Download PyCaret\n",
    "!pip install pycaret --quiet"
   ]
  },
  {
   "cell_type": "markdown",
   "metadata": {},
   "source": [
    "## a. Get the Data"
   ]
  },
  {
   "cell_type": "code",
   "execution_count": 36,
   "metadata": {},
   "outputs": [
    {
     "name": "stdout",
     "output_type": "stream",
     "text": [
      "Data for Modeling: (61593, 22)\n",
      "Unseen Data For Predictions: (7233056, 22)\n"
     ]
    }
   ],
   "source": [
    "data = df_toTrain.sample(frac=0.10, random_state=123)\n",
    "data_unseen = df.drop(data.index)\n",
    "\n",
    "data.reset_index(inplace=True, drop=True)\n",
    "data_unseen.reset_index(inplace=True, drop=True)\n",
    "\n",
    "print('Data for Modeling: ' + str(data.shape))\n",
    "print('Unseen Data For Predictions: ' + str(data_unseen.shape))"
   ]
  },
  {
   "cell_type": "markdown",
   "metadata": {},
   "source": [
    "## b. Setting Up Environment in PyCaret"
   ]
  },
  {
   "cell_type": "code",
   "execution_count": 37,
   "metadata": {
    "collapsed": true,
    "jupyter": {
     "outputs_hidden": true
    }
   },
   "outputs": [
    {
     "data": {
      "text/html": [
       "<style  type=\"text/css\" >\n",
       "#T_c96e6_row5_col1,#T_c96e6_row18_col1,#T_c96e6_row29_col1,#T_c96e6_row31_col1,#T_c96e6_row36_col1,#T_c96e6_row42_col1,#T_c96e6_row57_col1{\n",
       "            background-color:  lightgreen;\n",
       "        }</style><table id=\"T_c96e6_\" ><thead>    <tr>        <th class=\"blank level0\" ></th>        <th class=\"col_heading level0 col0\" >Description</th>        <th class=\"col_heading level0 col1\" >Value</th>    </tr></thead><tbody>\n",
       "                <tr>\n",
       "                        <th id=\"T_c96e6_level0_row0\" class=\"row_heading level0 row0\" >0</th>\n",
       "                        <td id=\"T_c96e6_row0_col0\" class=\"data row0 col0\" >session_id</td>\n",
       "                        <td id=\"T_c96e6_row0_col1\" class=\"data row0 col1\" >7316</td>\n",
       "            </tr>\n",
       "            <tr>\n",
       "                        <th id=\"T_c96e6_level0_row1\" class=\"row_heading level0 row1\" >1</th>\n",
       "                        <td id=\"T_c96e6_row1_col0\" class=\"data row1 col0\" >Target</td>\n",
       "                        <td id=\"T_c96e6_row1_col1\" class=\"data row1 col1\" >late_flight</td>\n",
       "            </tr>\n",
       "            <tr>\n",
       "                        <th id=\"T_c96e6_level0_row2\" class=\"row_heading level0 row2\" >2</th>\n",
       "                        <td id=\"T_c96e6_row2_col0\" class=\"data row2 col0\" >Target Type</td>\n",
       "                        <td id=\"T_c96e6_row2_col1\" class=\"data row2 col1\" >Binary</td>\n",
       "            </tr>\n",
       "            <tr>\n",
       "                        <th id=\"T_c96e6_level0_row3\" class=\"row_heading level0 row3\" >3</th>\n",
       "                        <td id=\"T_c96e6_row3_col0\" class=\"data row3 col0\" >Label Encoded</td>\n",
       "                        <td id=\"T_c96e6_row3_col1\" class=\"data row3 col1\" >late: 0, not_late: 1</td>\n",
       "            </tr>\n",
       "            <tr>\n",
       "                        <th id=\"T_c96e6_level0_row4\" class=\"row_heading level0 row4\" >4</th>\n",
       "                        <td id=\"T_c96e6_row4_col0\" class=\"data row4 col0\" >Original Data</td>\n",
       "                        <td id=\"T_c96e6_row4_col1\" class=\"data row4 col1\" >(61593, 22)</td>\n",
       "            </tr>\n",
       "            <tr>\n",
       "                        <th id=\"T_c96e6_level0_row5\" class=\"row_heading level0 row5\" >5</th>\n",
       "                        <td id=\"T_c96e6_row5_col0\" class=\"data row5 col0\" >Missing Values</td>\n",
       "                        <td id=\"T_c96e6_row5_col1\" class=\"data row5 col1\" >True</td>\n",
       "            </tr>\n",
       "            <tr>\n",
       "                        <th id=\"T_c96e6_level0_row6\" class=\"row_heading level0 row6\" >6</th>\n",
       "                        <td id=\"T_c96e6_row6_col0\" class=\"data row6 col0\" >Numeric Features</td>\n",
       "                        <td id=\"T_c96e6_row6_col1\" class=\"data row6 col1\" >12</td>\n",
       "            </tr>\n",
       "            <tr>\n",
       "                        <th id=\"T_c96e6_level0_row7\" class=\"row_heading level0 row7\" >7</th>\n",
       "                        <td id=\"T_c96e6_row7_col0\" class=\"data row7 col0\" >Categorical Features</td>\n",
       "                        <td id=\"T_c96e6_row7_col1\" class=\"data row7 col1\" >4</td>\n",
       "            </tr>\n",
       "            <tr>\n",
       "                        <th id=\"T_c96e6_level0_row8\" class=\"row_heading level0 row8\" >8</th>\n",
       "                        <td id=\"T_c96e6_row8_col0\" class=\"data row8 col0\" >Ordinal Features</td>\n",
       "                        <td id=\"T_c96e6_row8_col1\" class=\"data row8 col1\" >False</td>\n",
       "            </tr>\n",
       "            <tr>\n",
       "                        <th id=\"T_c96e6_level0_row9\" class=\"row_heading level0 row9\" >9</th>\n",
       "                        <td id=\"T_c96e6_row9_col0\" class=\"data row9 col0\" >High Cardinality Features</td>\n",
       "                        <td id=\"T_c96e6_row9_col1\" class=\"data row9 col1\" >False</td>\n",
       "            </tr>\n",
       "            <tr>\n",
       "                        <th id=\"T_c96e6_level0_row10\" class=\"row_heading level0 row10\" >10</th>\n",
       "                        <td id=\"T_c96e6_row10_col0\" class=\"data row10 col0\" >High Cardinality Method</td>\n",
       "                        <td id=\"T_c96e6_row10_col1\" class=\"data row10 col1\" >None</td>\n",
       "            </tr>\n",
       "            <tr>\n",
       "                        <th id=\"T_c96e6_level0_row11\" class=\"row_heading level0 row11\" >11</th>\n",
       "                        <td id=\"T_c96e6_row11_col0\" class=\"data row11 col0\" >Transformed Train Set</td>\n",
       "                        <td id=\"T_c96e6_row11_col1\" class=\"data row11 col1\" >(43115, 214)</td>\n",
       "            </tr>\n",
       "            <tr>\n",
       "                        <th id=\"T_c96e6_level0_row12\" class=\"row_heading level0 row12\" >12</th>\n",
       "                        <td id=\"T_c96e6_row12_col0\" class=\"data row12 col0\" >Transformed Test Set</td>\n",
       "                        <td id=\"T_c96e6_row12_col1\" class=\"data row12 col1\" >(18478, 214)</td>\n",
       "            </tr>\n",
       "            <tr>\n",
       "                        <th id=\"T_c96e6_level0_row13\" class=\"row_heading level0 row13\" >13</th>\n",
       "                        <td id=\"T_c96e6_row13_col0\" class=\"data row13 col0\" >Shuffle Train-Test</td>\n",
       "                        <td id=\"T_c96e6_row13_col1\" class=\"data row13 col1\" >True</td>\n",
       "            </tr>\n",
       "            <tr>\n",
       "                        <th id=\"T_c96e6_level0_row14\" class=\"row_heading level0 row14\" >14</th>\n",
       "                        <td id=\"T_c96e6_row14_col0\" class=\"data row14 col0\" >Stratify Train-Test</td>\n",
       "                        <td id=\"T_c96e6_row14_col1\" class=\"data row14 col1\" >False</td>\n",
       "            </tr>\n",
       "            <tr>\n",
       "                        <th id=\"T_c96e6_level0_row15\" class=\"row_heading level0 row15\" >15</th>\n",
       "                        <td id=\"T_c96e6_row15_col0\" class=\"data row15 col0\" >Fold Generator</td>\n",
       "                        <td id=\"T_c96e6_row15_col1\" class=\"data row15 col1\" >StratifiedKFold</td>\n",
       "            </tr>\n",
       "            <tr>\n",
       "                        <th id=\"T_c96e6_level0_row16\" class=\"row_heading level0 row16\" >16</th>\n",
       "                        <td id=\"T_c96e6_row16_col0\" class=\"data row16 col0\" >Fold Number</td>\n",
       "                        <td id=\"T_c96e6_row16_col1\" class=\"data row16 col1\" >2</td>\n",
       "            </tr>\n",
       "            <tr>\n",
       "                        <th id=\"T_c96e6_level0_row17\" class=\"row_heading level0 row17\" >17</th>\n",
       "                        <td id=\"T_c96e6_row17_col0\" class=\"data row17 col0\" >CPU Jobs</td>\n",
       "                        <td id=\"T_c96e6_row17_col1\" class=\"data row17 col1\" >-1</td>\n",
       "            </tr>\n",
       "            <tr>\n",
       "                        <th id=\"T_c96e6_level0_row18\" class=\"row_heading level0 row18\" >18</th>\n",
       "                        <td id=\"T_c96e6_row18_col0\" class=\"data row18 col0\" >Use GPU</td>\n",
       "                        <td id=\"T_c96e6_row18_col1\" class=\"data row18 col1\" >True</td>\n",
       "            </tr>\n",
       "            <tr>\n",
       "                        <th id=\"T_c96e6_level0_row19\" class=\"row_heading level0 row19\" >19</th>\n",
       "                        <td id=\"T_c96e6_row19_col0\" class=\"data row19 col0\" >Log Experiment</td>\n",
       "                        <td id=\"T_c96e6_row19_col1\" class=\"data row19 col1\" >False</td>\n",
       "            </tr>\n",
       "            <tr>\n",
       "                        <th id=\"T_c96e6_level0_row20\" class=\"row_heading level0 row20\" >20</th>\n",
       "                        <td id=\"T_c96e6_row20_col0\" class=\"data row20 col0\" >Experiment Name</td>\n",
       "                        <td id=\"T_c96e6_row20_col1\" class=\"data row20 col1\" >clf-default-name</td>\n",
       "            </tr>\n",
       "            <tr>\n",
       "                        <th id=\"T_c96e6_level0_row21\" class=\"row_heading level0 row21\" >21</th>\n",
       "                        <td id=\"T_c96e6_row21_col0\" class=\"data row21 col0\" >USI</td>\n",
       "                        <td id=\"T_c96e6_row21_col1\" class=\"data row21 col1\" >6828</td>\n",
       "            </tr>\n",
       "            <tr>\n",
       "                        <th id=\"T_c96e6_level0_row22\" class=\"row_heading level0 row22\" >22</th>\n",
       "                        <td id=\"T_c96e6_row22_col0\" class=\"data row22 col0\" >Imputation Type</td>\n",
       "                        <td id=\"T_c96e6_row22_col1\" class=\"data row22 col1\" >simple</td>\n",
       "            </tr>\n",
       "            <tr>\n",
       "                        <th id=\"T_c96e6_level0_row23\" class=\"row_heading level0 row23\" >23</th>\n",
       "                        <td id=\"T_c96e6_row23_col0\" class=\"data row23 col0\" >Iterative Imputation Iteration</td>\n",
       "                        <td id=\"T_c96e6_row23_col1\" class=\"data row23 col1\" >None</td>\n",
       "            </tr>\n",
       "            <tr>\n",
       "                        <th id=\"T_c96e6_level0_row24\" class=\"row_heading level0 row24\" >24</th>\n",
       "                        <td id=\"T_c96e6_row24_col0\" class=\"data row24 col0\" >Numeric Imputer</td>\n",
       "                        <td id=\"T_c96e6_row24_col1\" class=\"data row24 col1\" >mean</td>\n",
       "            </tr>\n",
       "            <tr>\n",
       "                        <th id=\"T_c96e6_level0_row25\" class=\"row_heading level0 row25\" >25</th>\n",
       "                        <td id=\"T_c96e6_row25_col0\" class=\"data row25 col0\" >Iterative Imputation Numeric Model</td>\n",
       "                        <td id=\"T_c96e6_row25_col1\" class=\"data row25 col1\" >None</td>\n",
       "            </tr>\n",
       "            <tr>\n",
       "                        <th id=\"T_c96e6_level0_row26\" class=\"row_heading level0 row26\" >26</th>\n",
       "                        <td id=\"T_c96e6_row26_col0\" class=\"data row26 col0\" >Categorical Imputer</td>\n",
       "                        <td id=\"T_c96e6_row26_col1\" class=\"data row26 col1\" >constant</td>\n",
       "            </tr>\n",
       "            <tr>\n",
       "                        <th id=\"T_c96e6_level0_row27\" class=\"row_heading level0 row27\" >27</th>\n",
       "                        <td id=\"T_c96e6_row27_col0\" class=\"data row27 col0\" >Iterative Imputation Categorical Model</td>\n",
       "                        <td id=\"T_c96e6_row27_col1\" class=\"data row27 col1\" >None</td>\n",
       "            </tr>\n",
       "            <tr>\n",
       "                        <th id=\"T_c96e6_level0_row28\" class=\"row_heading level0 row28\" >28</th>\n",
       "                        <td id=\"T_c96e6_row28_col0\" class=\"data row28 col0\" >Unknown Categoricals Handling</td>\n",
       "                        <td id=\"T_c96e6_row28_col1\" class=\"data row28 col1\" >least_frequent</td>\n",
       "            </tr>\n",
       "            <tr>\n",
       "                        <th id=\"T_c96e6_level0_row29\" class=\"row_heading level0 row29\" >29</th>\n",
       "                        <td id=\"T_c96e6_row29_col0\" class=\"data row29 col0\" >Normalize</td>\n",
       "                        <td id=\"T_c96e6_row29_col1\" class=\"data row29 col1\" >True</td>\n",
       "            </tr>\n",
       "            <tr>\n",
       "                        <th id=\"T_c96e6_level0_row30\" class=\"row_heading level0 row30\" >30</th>\n",
       "                        <td id=\"T_c96e6_row30_col0\" class=\"data row30 col0\" >Normalize Method</td>\n",
       "                        <td id=\"T_c96e6_row30_col1\" class=\"data row30 col1\" >zscore</td>\n",
       "            </tr>\n",
       "            <tr>\n",
       "                        <th id=\"T_c96e6_level0_row31\" class=\"row_heading level0 row31\" >31</th>\n",
       "                        <td id=\"T_c96e6_row31_col0\" class=\"data row31 col0\" >Transformation</td>\n",
       "                        <td id=\"T_c96e6_row31_col1\" class=\"data row31 col1\" >True</td>\n",
       "            </tr>\n",
       "            <tr>\n",
       "                        <th id=\"T_c96e6_level0_row32\" class=\"row_heading level0 row32\" >32</th>\n",
       "                        <td id=\"T_c96e6_row32_col0\" class=\"data row32 col0\" >Transformation Method</td>\n",
       "                        <td id=\"T_c96e6_row32_col1\" class=\"data row32 col1\" >yeo-johnson</td>\n",
       "            </tr>\n",
       "            <tr>\n",
       "                        <th id=\"T_c96e6_level0_row33\" class=\"row_heading level0 row33\" >33</th>\n",
       "                        <td id=\"T_c96e6_row33_col0\" class=\"data row33 col0\" >PCA</td>\n",
       "                        <td id=\"T_c96e6_row33_col1\" class=\"data row33 col1\" >False</td>\n",
       "            </tr>\n",
       "            <tr>\n",
       "                        <th id=\"T_c96e6_level0_row34\" class=\"row_heading level0 row34\" >34</th>\n",
       "                        <td id=\"T_c96e6_row34_col0\" class=\"data row34 col0\" >PCA Method</td>\n",
       "                        <td id=\"T_c96e6_row34_col1\" class=\"data row34 col1\" >None</td>\n",
       "            </tr>\n",
       "            <tr>\n",
       "                        <th id=\"T_c96e6_level0_row35\" class=\"row_heading level0 row35\" >35</th>\n",
       "                        <td id=\"T_c96e6_row35_col0\" class=\"data row35 col0\" >PCA Components</td>\n",
       "                        <td id=\"T_c96e6_row35_col1\" class=\"data row35 col1\" >None</td>\n",
       "            </tr>\n",
       "            <tr>\n",
       "                        <th id=\"T_c96e6_level0_row36\" class=\"row_heading level0 row36\" >36</th>\n",
       "                        <td id=\"T_c96e6_row36_col0\" class=\"data row36 col0\" >Ignore Low Variance</td>\n",
       "                        <td id=\"T_c96e6_row36_col1\" class=\"data row36 col1\" >True</td>\n",
       "            </tr>\n",
       "            <tr>\n",
       "                        <th id=\"T_c96e6_level0_row37\" class=\"row_heading level0 row37\" >37</th>\n",
       "                        <td id=\"T_c96e6_row37_col0\" class=\"data row37 col0\" >Combine Rare Levels</td>\n",
       "                        <td id=\"T_c96e6_row37_col1\" class=\"data row37 col1\" >False</td>\n",
       "            </tr>\n",
       "            <tr>\n",
       "                        <th id=\"T_c96e6_level0_row38\" class=\"row_heading level0 row38\" >38</th>\n",
       "                        <td id=\"T_c96e6_row38_col0\" class=\"data row38 col0\" >Rare Level Threshold</td>\n",
       "                        <td id=\"T_c96e6_row38_col1\" class=\"data row38 col1\" >None</td>\n",
       "            </tr>\n",
       "            <tr>\n",
       "                        <th id=\"T_c96e6_level0_row39\" class=\"row_heading level0 row39\" >39</th>\n",
       "                        <td id=\"T_c96e6_row39_col0\" class=\"data row39 col0\" >Numeric Binning</td>\n",
       "                        <td id=\"T_c96e6_row39_col1\" class=\"data row39 col1\" >False</td>\n",
       "            </tr>\n",
       "            <tr>\n",
       "                        <th id=\"T_c96e6_level0_row40\" class=\"row_heading level0 row40\" >40</th>\n",
       "                        <td id=\"T_c96e6_row40_col0\" class=\"data row40 col0\" >Remove Outliers</td>\n",
       "                        <td id=\"T_c96e6_row40_col1\" class=\"data row40 col1\" >False</td>\n",
       "            </tr>\n",
       "            <tr>\n",
       "                        <th id=\"T_c96e6_level0_row41\" class=\"row_heading level0 row41\" >41</th>\n",
       "                        <td id=\"T_c96e6_row41_col0\" class=\"data row41 col0\" >Outliers Threshold</td>\n",
       "                        <td id=\"T_c96e6_row41_col1\" class=\"data row41 col1\" >None</td>\n",
       "            </tr>\n",
       "            <tr>\n",
       "                        <th id=\"T_c96e6_level0_row42\" class=\"row_heading level0 row42\" >42</th>\n",
       "                        <td id=\"T_c96e6_row42_col0\" class=\"data row42 col0\" >Remove Multicollinearity</td>\n",
       "                        <td id=\"T_c96e6_row42_col1\" class=\"data row42 col1\" >True</td>\n",
       "            </tr>\n",
       "            <tr>\n",
       "                        <th id=\"T_c96e6_level0_row43\" class=\"row_heading level0 row43\" >43</th>\n",
       "                        <td id=\"T_c96e6_row43_col0\" class=\"data row43 col0\" >Multicollinearity Threshold</td>\n",
       "                        <td id=\"T_c96e6_row43_col1\" class=\"data row43 col1\" >0.950000</td>\n",
       "            </tr>\n",
       "            <tr>\n",
       "                        <th id=\"T_c96e6_level0_row44\" class=\"row_heading level0 row44\" >44</th>\n",
       "                        <td id=\"T_c96e6_row44_col0\" class=\"data row44 col0\" >Clustering</td>\n",
       "                        <td id=\"T_c96e6_row44_col1\" class=\"data row44 col1\" >False</td>\n",
       "            </tr>\n",
       "            <tr>\n",
       "                        <th id=\"T_c96e6_level0_row45\" class=\"row_heading level0 row45\" >45</th>\n",
       "                        <td id=\"T_c96e6_row45_col0\" class=\"data row45 col0\" >Clustering Iteration</td>\n",
       "                        <td id=\"T_c96e6_row45_col1\" class=\"data row45 col1\" >None</td>\n",
       "            </tr>\n",
       "            <tr>\n",
       "                        <th id=\"T_c96e6_level0_row46\" class=\"row_heading level0 row46\" >46</th>\n",
       "                        <td id=\"T_c96e6_row46_col0\" class=\"data row46 col0\" >Polynomial Features</td>\n",
       "                        <td id=\"T_c96e6_row46_col1\" class=\"data row46 col1\" >False</td>\n",
       "            </tr>\n",
       "            <tr>\n",
       "                        <th id=\"T_c96e6_level0_row47\" class=\"row_heading level0 row47\" >47</th>\n",
       "                        <td id=\"T_c96e6_row47_col0\" class=\"data row47 col0\" >Polynomial Degree</td>\n",
       "                        <td id=\"T_c96e6_row47_col1\" class=\"data row47 col1\" >None</td>\n",
       "            </tr>\n",
       "            <tr>\n",
       "                        <th id=\"T_c96e6_level0_row48\" class=\"row_heading level0 row48\" >48</th>\n",
       "                        <td id=\"T_c96e6_row48_col0\" class=\"data row48 col0\" >Trignometry Features</td>\n",
       "                        <td id=\"T_c96e6_row48_col1\" class=\"data row48 col1\" >False</td>\n",
       "            </tr>\n",
       "            <tr>\n",
       "                        <th id=\"T_c96e6_level0_row49\" class=\"row_heading level0 row49\" >49</th>\n",
       "                        <td id=\"T_c96e6_row49_col0\" class=\"data row49 col0\" >Polynomial Threshold</td>\n",
       "                        <td id=\"T_c96e6_row49_col1\" class=\"data row49 col1\" >None</td>\n",
       "            </tr>\n",
       "            <tr>\n",
       "                        <th id=\"T_c96e6_level0_row50\" class=\"row_heading level0 row50\" >50</th>\n",
       "                        <td id=\"T_c96e6_row50_col0\" class=\"data row50 col0\" >Group Features</td>\n",
       "                        <td id=\"T_c96e6_row50_col1\" class=\"data row50 col1\" >False</td>\n",
       "            </tr>\n",
       "            <tr>\n",
       "                        <th id=\"T_c96e6_level0_row51\" class=\"row_heading level0 row51\" >51</th>\n",
       "                        <td id=\"T_c96e6_row51_col0\" class=\"data row51 col0\" >Feature Selection</td>\n",
       "                        <td id=\"T_c96e6_row51_col1\" class=\"data row51 col1\" >False</td>\n",
       "            </tr>\n",
       "            <tr>\n",
       "                        <th id=\"T_c96e6_level0_row52\" class=\"row_heading level0 row52\" >52</th>\n",
       "                        <td id=\"T_c96e6_row52_col0\" class=\"data row52 col0\" >Feature Selection Method</td>\n",
       "                        <td id=\"T_c96e6_row52_col1\" class=\"data row52 col1\" >classic</td>\n",
       "            </tr>\n",
       "            <tr>\n",
       "                        <th id=\"T_c96e6_level0_row53\" class=\"row_heading level0 row53\" >53</th>\n",
       "                        <td id=\"T_c96e6_row53_col0\" class=\"data row53 col0\" >Features Selection Threshold</td>\n",
       "                        <td id=\"T_c96e6_row53_col1\" class=\"data row53 col1\" >None</td>\n",
       "            </tr>\n",
       "            <tr>\n",
       "                        <th id=\"T_c96e6_level0_row54\" class=\"row_heading level0 row54\" >54</th>\n",
       "                        <td id=\"T_c96e6_row54_col0\" class=\"data row54 col0\" >Feature Interaction</td>\n",
       "                        <td id=\"T_c96e6_row54_col1\" class=\"data row54 col1\" >False</td>\n",
       "            </tr>\n",
       "            <tr>\n",
       "                        <th id=\"T_c96e6_level0_row55\" class=\"row_heading level0 row55\" >55</th>\n",
       "                        <td id=\"T_c96e6_row55_col0\" class=\"data row55 col0\" >Feature Ratio</td>\n",
       "                        <td id=\"T_c96e6_row55_col1\" class=\"data row55 col1\" >False</td>\n",
       "            </tr>\n",
       "            <tr>\n",
       "                        <th id=\"T_c96e6_level0_row56\" class=\"row_heading level0 row56\" >56</th>\n",
       "                        <td id=\"T_c96e6_row56_col0\" class=\"data row56 col0\" >Interaction Threshold</td>\n",
       "                        <td id=\"T_c96e6_row56_col1\" class=\"data row56 col1\" >None</td>\n",
       "            </tr>\n",
       "            <tr>\n",
       "                        <th id=\"T_c96e6_level0_row57\" class=\"row_heading level0 row57\" >57</th>\n",
       "                        <td id=\"T_c96e6_row57_col0\" class=\"data row57 col0\" >Fix Imbalance</td>\n",
       "                        <td id=\"T_c96e6_row57_col1\" class=\"data row57 col1\" >True</td>\n",
       "            </tr>\n",
       "            <tr>\n",
       "                        <th id=\"T_c96e6_level0_row58\" class=\"row_heading level0 row58\" >58</th>\n",
       "                        <td id=\"T_c96e6_row58_col0\" class=\"data row58 col0\" >Fix Imbalance Method</td>\n",
       "                        <td id=\"T_c96e6_row58_col1\" class=\"data row58 col1\" >SMOTE</td>\n",
       "            </tr>\n",
       "    </tbody></table>"
      ],
      "text/plain": [
       "<pandas.io.formats.style.Styler at 0x7fb39f68ea10>"
      ]
     },
     "metadata": {},
     "output_type": "display_data"
    }
   ],
   "source": [
    "from pycaret.classification import *\n",
    "exp = setup(data = data, \n",
    "            numeric_features = ['YEAR', 'MONTH','DAY','DAY_OF_WEEK'],\n",
    "            ignore_features = ['DEP_DELAY', 'ARR_DELAY', 'AIR_TIME', 'ARR_TIME'],\n",
    "            target = 'late_flight',\n",
    "            fix_imbalance = True,\n",
    "            normalize = True,\n",
    "            transformation = True,\n",
    "            ignore_low_variance = True,\n",
    "            remove_multicollinearity = True,\n",
    "            multicollinearity_threshold = 0.95,\n",
    "            use_gpu = True,\n",
    "            fold = 2\n",
    "           )"
   ]
  },
  {
   "cell_type": "markdown",
   "metadata": {},
   "source": [
    "## c. Comparing all models"
   ]
  },
  {
   "cell_type": "code",
   "execution_count": 38,
   "metadata": {},
   "outputs": [
    {
     "data": {
      "text/html": [
       "<style  type=\"text/css\" >\n",
       "    #T_362ba_ th {\n",
       "          text-align: left;\n",
       "    }#T_362ba_row0_col0,#T_362ba_row0_col2,#T_362ba_row0_col3,#T_362ba_row0_col4,#T_362ba_row0_col5,#T_362ba_row0_col6,#T_362ba_row0_col7,#T_362ba_row1_col0,#T_362ba_row1_col1,#T_362ba_row1_col2,#T_362ba_row1_col3,#T_362ba_row1_col4,#T_362ba_row1_col5,#T_362ba_row1_col6,#T_362ba_row1_col7,#T_362ba_row2_col0,#T_362ba_row2_col1,#T_362ba_row2_col2,#T_362ba_row2_col3,#T_362ba_row2_col5,#T_362ba_row2_col6,#T_362ba_row2_col7,#T_362ba_row3_col0,#T_362ba_row3_col1,#T_362ba_row3_col2,#T_362ba_row3_col3,#T_362ba_row3_col4,#T_362ba_row3_col5,#T_362ba_row3_col6,#T_362ba_row3_col7,#T_362ba_row4_col0,#T_362ba_row4_col1,#T_362ba_row4_col2,#T_362ba_row4_col3,#T_362ba_row4_col4,#T_362ba_row4_col5,#T_362ba_row4_col6,#T_362ba_row4_col7,#T_362ba_row5_col0,#T_362ba_row5_col1,#T_362ba_row5_col2,#T_362ba_row5_col3,#T_362ba_row5_col4,#T_362ba_row5_col5,#T_362ba_row5_col6,#T_362ba_row5_col7,#T_362ba_row6_col0,#T_362ba_row6_col1,#T_362ba_row6_col3,#T_362ba_row6_col4,#T_362ba_row6_col5,#T_362ba_row6_col6,#T_362ba_row6_col7,#T_362ba_row7_col0,#T_362ba_row7_col1,#T_362ba_row7_col2,#T_362ba_row7_col3,#T_362ba_row7_col4,#T_362ba_row7_col5,#T_362ba_row7_col6,#T_362ba_row7_col7,#T_362ba_row8_col0,#T_362ba_row8_col1,#T_362ba_row8_col2,#T_362ba_row8_col4,#T_362ba_row9_col0,#T_362ba_row9_col1,#T_362ba_row9_col2,#T_362ba_row9_col3,#T_362ba_row9_col4,#T_362ba_row9_col5,#T_362ba_row9_col6,#T_362ba_row9_col7,#T_362ba_row10_col0,#T_362ba_row10_col1,#T_362ba_row10_col2,#T_362ba_row10_col3,#T_362ba_row10_col4,#T_362ba_row10_col5,#T_362ba_row10_col6,#T_362ba_row10_col7,#T_362ba_row11_col0,#T_362ba_row11_col1,#T_362ba_row11_col2,#T_362ba_row11_col3,#T_362ba_row11_col4,#T_362ba_row11_col5,#T_362ba_row11_col6,#T_362ba_row11_col7,#T_362ba_row12_col0,#T_362ba_row12_col1,#T_362ba_row12_col2,#T_362ba_row12_col3,#T_362ba_row12_col4,#T_362ba_row12_col5,#T_362ba_row12_col6,#T_362ba_row12_col7{\n",
       "            text-align:  left;\n",
       "            text-align:  left;\n",
       "        }#T_362ba_row0_col1,#T_362ba_row2_col4,#T_362ba_row6_col2,#T_362ba_row8_col3,#T_362ba_row8_col5,#T_362ba_row8_col6,#T_362ba_row8_col7{\n",
       "            text-align:  left;\n",
       "            text-align:  left;\n",
       "            background-color:  yellow;\n",
       "        }#T_362ba_row0_col8,#T_362ba_row1_col8,#T_362ba_row2_col8,#T_362ba_row3_col8,#T_362ba_row4_col8,#T_362ba_row5_col8,#T_362ba_row6_col8,#T_362ba_row8_col8,#T_362ba_row9_col8,#T_362ba_row10_col8,#T_362ba_row11_col8,#T_362ba_row12_col8{\n",
       "            text-align:  left;\n",
       "            text-align:  left;\n",
       "            background-color:  lightgrey;\n",
       "        }#T_362ba_row7_col8{\n",
       "            text-align:  left;\n",
       "            text-align:  left;\n",
       "            background-color:  yellow;\n",
       "            background-color:  lightgrey;\n",
       "        }</style><table id=\"T_362ba_\" ><thead>    <tr>        <th class=\"blank level0\" ></th>        <th class=\"col_heading level0 col0\" >Model</th>        <th class=\"col_heading level0 col1\" >Accuracy</th>        <th class=\"col_heading level0 col2\" >AUC</th>        <th class=\"col_heading level0 col3\" >Recall</th>        <th class=\"col_heading level0 col4\" >Prec.</th>        <th class=\"col_heading level0 col5\" >F1</th>        <th class=\"col_heading level0 col6\" >Kappa</th>        <th class=\"col_heading level0 col7\" >MCC</th>        <th class=\"col_heading level0 col8\" >TT (Sec)</th>    </tr></thead><tbody>\n",
       "                <tr>\n",
       "                        <th id=\"T_362ba_level0_row0\" class=\"row_heading level0 row0\" >rf</th>\n",
       "                        <td id=\"T_362ba_row0_col0\" class=\"data row0 col0\" >Random Forest Classifier</td>\n",
       "                        <td id=\"T_362ba_row0_col1\" class=\"data row0 col1\" >0.9973</td>\n",
       "                        <td id=\"T_362ba_row0_col2\" class=\"data row0 col2\" >0.7896</td>\n",
       "                        <td id=\"T_362ba_row0_col3\" class=\"data row0 col3\" >0.0000</td>\n",
       "                        <td id=\"T_362ba_row0_col4\" class=\"data row0 col4\" >0.0000</td>\n",
       "                        <td id=\"T_362ba_row0_col5\" class=\"data row0 col5\" >0.0000</td>\n",
       "                        <td id=\"T_362ba_row0_col6\" class=\"data row0 col6\" >-0.0002</td>\n",
       "                        <td id=\"T_362ba_row0_col7\" class=\"data row0 col7\" >-0.0005</td>\n",
       "                        <td id=\"T_362ba_row0_col8\" class=\"data row0 col8\" >8.3500</td>\n",
       "            </tr>\n",
       "            <tr>\n",
       "                        <th id=\"T_362ba_level0_row1\" class=\"row_heading level0 row1\" >et</th>\n",
       "                        <td id=\"T_362ba_row1_col0\" class=\"data row1 col0\" >Extra Trees Classifier</td>\n",
       "                        <td id=\"T_362ba_row1_col1\" class=\"data row1 col1\" >0.9971</td>\n",
       "                        <td id=\"T_362ba_row1_col2\" class=\"data row1 col2\" >0.7082</td>\n",
       "                        <td id=\"T_362ba_row1_col3\" class=\"data row1 col3\" >0.0000</td>\n",
       "                        <td id=\"T_362ba_row1_col4\" class=\"data row1 col4\" >0.0000</td>\n",
       "                        <td id=\"T_362ba_row1_col5\" class=\"data row1 col5\" >0.0000</td>\n",
       "                        <td id=\"T_362ba_row1_col6\" class=\"data row1 col6\" >-0.0007</td>\n",
       "                        <td id=\"T_362ba_row1_col7\" class=\"data row1 col7\" >-0.0010</td>\n",
       "                        <td id=\"T_362ba_row1_col8\" class=\"data row1 col8\" >9.1600</td>\n",
       "            </tr>\n",
       "            <tr>\n",
       "                        <th id=\"T_362ba_level0_row2\" class=\"row_heading level0 row2\" >lightgbm</th>\n",
       "                        <td id=\"T_362ba_row2_col0\" class=\"data row2 col0\" >Light Gradient Boosting Machine</td>\n",
       "                        <td id=\"T_362ba_row2_col1\" class=\"data row2 col1\" >0.9967</td>\n",
       "                        <td id=\"T_362ba_row2_col2\" class=\"data row2 col2\" >0.9718</td>\n",
       "                        <td id=\"T_362ba_row2_col3\" class=\"data row2 col3\" >0.0213</td>\n",
       "                        <td id=\"T_362ba_row2_col4\" class=\"data row2 col4\" >0.0625</td>\n",
       "                        <td id=\"T_362ba_row2_col5\" class=\"data row2 col5\" >0.0317</td>\n",
       "                        <td id=\"T_362ba_row2_col6\" class=\"data row2 col6\" >0.0305</td>\n",
       "                        <td id=\"T_362ba_row2_col7\" class=\"data row2 col7\" >0.0350</td>\n",
       "                        <td id=\"T_362ba_row2_col8\" class=\"data row2 col8\" >1.9500</td>\n",
       "            </tr>\n",
       "            <tr>\n",
       "                        <th id=\"T_362ba_level0_row3\" class=\"row_heading level0 row3\" >qda</th>\n",
       "                        <td id=\"T_362ba_row3_col0\" class=\"data row3 col0\" >Quadratic Discriminant Analysis</td>\n",
       "                        <td id=\"T_362ba_row3_col1\" class=\"data row3 col1\" >0.9956</td>\n",
       "                        <td id=\"T_362ba_row3_col2\" class=\"data row3 col2\" >0.5203</td>\n",
       "                        <td id=\"T_362ba_row3_col3\" class=\"data row3 col3\" >0.0426</td>\n",
       "                        <td id=\"T_362ba_row3_col4\" class=\"data row3 col4\" >0.0526</td>\n",
       "                        <td id=\"T_362ba_row3_col5\" class=\"data row3 col5\" >0.0471</td>\n",
       "                        <td id=\"T_362ba_row3_col6\" class=\"data row3 col6\" >0.0449</td>\n",
       "                        <td id=\"T_362ba_row3_col7\" class=\"data row3 col7\" >0.0451</td>\n",
       "                        <td id=\"T_362ba_row3_col8\" class=\"data row3 col8\" >1.6900</td>\n",
       "            </tr>\n",
       "            <tr>\n",
       "                        <th id=\"T_362ba_level0_row4\" class=\"row_heading level0 row4\" >dt</th>\n",
       "                        <td id=\"T_362ba_row4_col0\" class=\"data row4 col0\" >Decision Tree Classifier</td>\n",
       "                        <td id=\"T_362ba_row4_col1\" class=\"data row4 col1\" >0.9946</td>\n",
       "                        <td id=\"T_362ba_row4_col2\" class=\"data row4 col2\" >0.5092</td>\n",
       "                        <td id=\"T_362ba_row4_col3\" class=\"data row4 col3\" >0.0213</td>\n",
       "                        <td id=\"T_362ba_row4_col4\" class=\"data row4 col4\" >0.0185</td>\n",
       "                        <td id=\"T_362ba_row4_col5\" class=\"data row4 col5\" >0.0198</td>\n",
       "                        <td id=\"T_362ba_row4_col6\" class=\"data row4 col6\" >0.0171</td>\n",
       "                        <td id=\"T_362ba_row4_col7\" class=\"data row4 col7\" >0.0172</td>\n",
       "                        <td id=\"T_362ba_row4_col8\" class=\"data row4 col8\" >11.7000</td>\n",
       "            </tr>\n",
       "            <tr>\n",
       "                        <th id=\"T_362ba_level0_row5\" class=\"row_heading level0 row5\" >knn</th>\n",
       "                        <td id=\"T_362ba_row5_col0\" class=\"data row5 col0\" >K Neighbors Classifier</td>\n",
       "                        <td id=\"T_362ba_row5_col1\" class=\"data row5 col1\" >0.9860</td>\n",
       "                        <td id=\"T_362ba_row5_col2\" class=\"data row5 col2\" >0.5000</td>\n",
       "                        <td id=\"T_362ba_row5_col3\" class=\"data row5 col3\" >0.0213</td>\n",
       "                        <td id=\"T_362ba_row5_col4\" class=\"data row5 col4\" >0.0047</td>\n",
       "                        <td id=\"T_362ba_row5_col5\" class=\"data row5 col5\" >0.0077</td>\n",
       "                        <td id=\"T_362ba_row5_col6\" class=\"data row5 col6\" >0.0035</td>\n",
       "                        <td id=\"T_362ba_row5_col7\" class=\"data row5 col7\" >0.0046</td>\n",
       "                        <td id=\"T_362ba_row5_col8\" class=\"data row5 col8\" >11.9300</td>\n",
       "            </tr>\n",
       "            <tr>\n",
       "                        <th id=\"T_362ba_level0_row6\" class=\"row_heading level0 row6\" >ada</th>\n",
       "                        <td id=\"T_362ba_row6_col0\" class=\"data row6 col0\" >Ada Boost Classifier</td>\n",
       "                        <td id=\"T_362ba_row6_col1\" class=\"data row6 col1\" >0.9693</td>\n",
       "                        <td id=\"T_362ba_row6_col2\" class=\"data row6 col2\" >0.9738</td>\n",
       "                        <td id=\"T_362ba_row6_col3\" class=\"data row6 col3\" >0.5319</td>\n",
       "                        <td id=\"T_362ba_row6_col4\" class=\"data row6 col4\" >0.0439</td>\n",
       "                        <td id=\"T_362ba_row6_col5\" class=\"data row6 col5\" >0.0810</td>\n",
       "                        <td id=\"T_362ba_row6_col6\" class=\"data row6 col6\" >0.0767</td>\n",
       "                        <td id=\"T_362ba_row6_col7\" class=\"data row6 col7\" >0.1463</td>\n",
       "                        <td id=\"T_362ba_row6_col8\" class=\"data row6 col8\" >9.1300</td>\n",
       "            </tr>\n",
       "            <tr>\n",
       "                        <th id=\"T_362ba_level0_row7\" class=\"row_heading level0 row7\" >nb</th>\n",
       "                        <td id=\"T_362ba_row7_col0\" class=\"data row7 col0\" >Naive Bayes</td>\n",
       "                        <td id=\"T_362ba_row7_col1\" class=\"data row7 col1\" >0.9639</td>\n",
       "                        <td id=\"T_362ba_row7_col2\" class=\"data row7 col2\" >0.7485</td>\n",
       "                        <td id=\"T_362ba_row7_col3\" class=\"data row7 col3\" >0.5319</td>\n",
       "                        <td id=\"T_362ba_row7_col4\" class=\"data row7 col4\" >0.0373</td>\n",
       "                        <td id=\"T_362ba_row7_col5\" class=\"data row7 col5\" >0.0697</td>\n",
       "                        <td id=\"T_362ba_row7_col6\" class=\"data row7 col6\" >0.0653</td>\n",
       "                        <td id=\"T_362ba_row7_col7\" class=\"data row7 col7\" >0.1339</td>\n",
       "                        <td id=\"T_362ba_row7_col8\" class=\"data row7 col8\" >0.4400</td>\n",
       "            </tr>\n",
       "            <tr>\n",
       "                        <th id=\"T_362ba_level0_row8\" class=\"row_heading level0 row8\" >gbc</th>\n",
       "                        <td id=\"T_362ba_row8_col0\" class=\"data row8 col0\" >Gradient Boosting Classifier</td>\n",
       "                        <td id=\"T_362ba_row8_col1\" class=\"data row8 col1\" >0.9631</td>\n",
       "                        <td id=\"T_362ba_row8_col2\" class=\"data row8 col2\" >0.9728</td>\n",
       "                        <td id=\"T_362ba_row8_col3\" class=\"data row8 col3\" >0.7234</td>\n",
       "                        <td id=\"T_362ba_row8_col4\" class=\"data row8 col4\" >0.0484</td>\n",
       "                        <td id=\"T_362ba_row8_col5\" class=\"data row8 col5\" >0.0908</td>\n",
       "                        <td id=\"T_362ba_row8_col6\" class=\"data row8 col6\" >0.0864</td>\n",
       "                        <td id=\"T_362ba_row8_col7\" class=\"data row8 col7\" >0.1810</td>\n",
       "                        <td id=\"T_362ba_row8_col8\" class=\"data row8 col8\" >40.1000</td>\n",
       "            </tr>\n",
       "            <tr>\n",
       "                        <th id=\"T_362ba_level0_row9\" class=\"row_heading level0 row9\" >lr</th>\n",
       "                        <td id=\"T_362ba_row9_col0\" class=\"data row9 col0\" >Logistic Regression</td>\n",
       "                        <td id=\"T_362ba_row9_col1\" class=\"data row9 col1\" >0.9242</td>\n",
       "                        <td id=\"T_362ba_row9_col2\" class=\"data row9 col2\" >0.6814</td>\n",
       "                        <td id=\"T_362ba_row9_col3\" class=\"data row9 col3\" >0.2128</td>\n",
       "                        <td id=\"T_362ba_row9_col4\" class=\"data row9 col4\" >0.0073</td>\n",
       "                        <td id=\"T_362ba_row9_col5\" class=\"data row9 col5\" >0.0141</td>\n",
       "                        <td id=\"T_362ba_row9_col6\" class=\"data row9 col6\" >0.0092</td>\n",
       "                        <td id=\"T_362ba_row9_col7\" class=\"data row9 col7\" >0.0267</td>\n",
       "                        <td id=\"T_362ba_row9_col8\" class=\"data row9 col8\" >10.4200</td>\n",
       "            </tr>\n",
       "            <tr>\n",
       "                        <th id=\"T_362ba_level0_row10\" class=\"row_heading level0 row10\" >svm</th>\n",
       "                        <td id=\"T_362ba_row10_col0\" class=\"data row10 col0\" >SVM - Linear Kernel</td>\n",
       "                        <td id=\"T_362ba_row10_col1\" class=\"data row10 col1\" >0.9129</td>\n",
       "                        <td id=\"T_362ba_row10_col2\" class=\"data row10 col2\" >0.6062</td>\n",
       "                        <td id=\"T_362ba_row10_col3\" class=\"data row10 col3\" >0.2979</td>\n",
       "                        <td id=\"T_362ba_row10_col4\" class=\"data row10 col4\" >0.0088</td>\n",
       "                        <td id=\"T_362ba_row10_col5\" class=\"data row10 col5\" >0.0171</td>\n",
       "                        <td id=\"T_362ba_row10_col6\" class=\"data row10 col6\" >0.0122</td>\n",
       "                        <td id=\"T_362ba_row10_col7\" class=\"data row10 col7\" >0.0381</td>\n",
       "                        <td id=\"T_362ba_row10_col8\" class=\"data row10 col8\" >1.1700</td>\n",
       "            </tr>\n",
       "            <tr>\n",
       "                        <th id=\"T_362ba_level0_row11\" class=\"row_heading level0 row11\" >lda</th>\n",
       "                        <td id=\"T_362ba_row11_col0\" class=\"data row11 col0\" >Linear Discriminant Analysis</td>\n",
       "                        <td id=\"T_362ba_row11_col1\" class=\"data row11 col1\" >0.9014</td>\n",
       "                        <td id=\"T_362ba_row11_col2\" class=\"data row11 col2\" >0.6847</td>\n",
       "                        <td id=\"T_362ba_row11_col3\" class=\"data row11 col3\" >0.3191</td>\n",
       "                        <td id=\"T_362ba_row11_col4\" class=\"data row11 col4\" >0.0083</td>\n",
       "                        <td id=\"T_362ba_row11_col5\" class=\"data row11 col5\" >0.0162</td>\n",
       "                        <td id=\"T_362ba_row11_col6\" class=\"data row11 col6\" >0.0113</td>\n",
       "                        <td id=\"T_362ba_row11_col7\" class=\"data row11 col7\" >0.0377</td>\n",
       "                        <td id=\"T_362ba_row11_col8\" class=\"data row11 col8\" >2.7700</td>\n",
       "            </tr>\n",
       "            <tr>\n",
       "                        <th id=\"T_362ba_level0_row12\" class=\"row_heading level0 row12\" >ridge</th>\n",
       "                        <td id=\"T_362ba_row12_col0\" class=\"data row12 col0\" >Ridge Classifier</td>\n",
       "                        <td id=\"T_362ba_row12_col1\" class=\"data row12 col1\" >0.9011</td>\n",
       "                        <td id=\"T_362ba_row12_col2\" class=\"data row12 col2\" >0.6109</td>\n",
       "                        <td id=\"T_362ba_row12_col3\" class=\"data row12 col3\" >0.3191</td>\n",
       "                        <td id=\"T_362ba_row12_col4\" class=\"data row12 col4\" >0.0083</td>\n",
       "                        <td id=\"T_362ba_row12_col5\" class=\"data row12 col5\" >0.0161</td>\n",
       "                        <td id=\"T_362ba_row12_col6\" class=\"data row12 col6\" >0.0112</td>\n",
       "                        <td id=\"T_362ba_row12_col7\" class=\"data row12 col7\" >0.0376</td>\n",
       "                        <td id=\"T_362ba_row12_col8\" class=\"data row12 col8\" >0.5800</td>\n",
       "            </tr>\n",
       "    </tbody></table>"
      ],
      "text/plain": [
       "<pandas.io.formats.style.Styler at 0x7fb39c5f9b90>"
      ]
     },
     "metadata": {},
     "output_type": "display_data"
    }
   ],
   "source": [
    "# ref. \n",
    "#   -- https://pycaret.readthedocs.io/en/latest/api/classification.html?highlight=compare_models#pycaret.classification.compare_models\n",
    "#   -- https://machinelearningmastery.com/k-fold-cross-validation/\n",
    "\n",
    "best_model = compare_models(cross_validation=False)\n",
    "# best_model = compare_modelfold=old=3)"
   ]
  },
  {
   "cell_type": "markdown",
   "metadata": {},
   "source": [
    "# 4.) Create Model(s)"
   ]
  },
  {
   "cell_type": "markdown",
   "metadata": {},
   "source": [
    "## a. Random Forest Classifier"
   ]
  },
  {
   "cell_type": "code",
   "execution_count": 28,
   "metadata": {
    "collapsed": true,
    "jupyter": {
     "outputs_hidden": true
    }
   },
   "outputs": [
    {
     "data": {
      "text/html": [
       "<style  type=\"text/css\" >\n",
       "#T_c6e7e_row2_col0,#T_c6e7e_row2_col1,#T_c6e7e_row2_col2,#T_c6e7e_row2_col3,#T_c6e7e_row2_col4,#T_c6e7e_row2_col5,#T_c6e7e_row2_col6{\n",
       "            background:  yellow;\n",
       "        }</style><table id=\"T_c6e7e_\" ><thead>    <tr>        <th class=\"blank level0\" ></th>        <th class=\"col_heading level0 col0\" >Accuracy</th>        <th class=\"col_heading level0 col1\" >AUC</th>        <th class=\"col_heading level0 col2\" >Recall</th>        <th class=\"col_heading level0 col3\" >Prec.</th>        <th class=\"col_heading level0 col4\" >F1</th>        <th class=\"col_heading level0 col5\" >Kappa</th>        <th class=\"col_heading level0 col6\" >MCC</th>    </tr></thead><tbody>\n",
       "                <tr>\n",
       "                        <th id=\"T_c6e7e_level0_row0\" class=\"row_heading level0 row0\" >0</th>\n",
       "                        <td id=\"T_c6e7e_row0_col0\" class=\"data row0 col0\" >0.0000</td>\n",
       "                        <td id=\"T_c6e7e_row0_col1\" class=\"data row0 col1\" >0.0000</td>\n",
       "                        <td id=\"T_c6e7e_row0_col2\" class=\"data row0 col2\" >0.0000</td>\n",
       "                        <td id=\"T_c6e7e_row0_col3\" class=\"data row0 col3\" >0.0000</td>\n",
       "                        <td id=\"T_c6e7e_row0_col4\" class=\"data row0 col4\" >0.0000</td>\n",
       "                        <td id=\"T_c6e7e_row0_col5\" class=\"data row0 col5\" >0.0000</td>\n",
       "                        <td id=\"T_c6e7e_row0_col6\" class=\"data row0 col6\" >0.0000</td>\n",
       "            </tr>\n",
       "            <tr>\n",
       "                        <th id=\"T_c6e7e_level0_row1\" class=\"row_heading level0 row1\" >1</th>\n",
       "                        <td id=\"T_c6e7e_row1_col0\" class=\"data row1 col0\" >0.0000</td>\n",
       "                        <td id=\"T_c6e7e_row1_col1\" class=\"data row1 col1\" >0.0000</td>\n",
       "                        <td id=\"T_c6e7e_row1_col2\" class=\"data row1 col2\" >0.0000</td>\n",
       "                        <td id=\"T_c6e7e_row1_col3\" class=\"data row1 col3\" >0.0000</td>\n",
       "                        <td id=\"T_c6e7e_row1_col4\" class=\"data row1 col4\" >0.0000</td>\n",
       "                        <td id=\"T_c6e7e_row1_col5\" class=\"data row1 col5\" >0.0000</td>\n",
       "                        <td id=\"T_c6e7e_row1_col6\" class=\"data row1 col6\" >0.0000</td>\n",
       "            </tr>\n",
       "            <tr>\n",
       "                        <th id=\"T_c6e7e_level0_row2\" class=\"row_heading level0 row2\" >Mean</th>\n",
       "                        <td id=\"T_c6e7e_row2_col0\" class=\"data row2 col0\" >0.0000</td>\n",
       "                        <td id=\"T_c6e7e_row2_col1\" class=\"data row2 col1\" >0.0000</td>\n",
       "                        <td id=\"T_c6e7e_row2_col2\" class=\"data row2 col2\" >0.0000</td>\n",
       "                        <td id=\"T_c6e7e_row2_col3\" class=\"data row2 col3\" >0.0000</td>\n",
       "                        <td id=\"T_c6e7e_row2_col4\" class=\"data row2 col4\" >0.0000</td>\n",
       "                        <td id=\"T_c6e7e_row2_col5\" class=\"data row2 col5\" >0.0000</td>\n",
       "                        <td id=\"T_c6e7e_row2_col6\" class=\"data row2 col6\" >0.0000</td>\n",
       "            </tr>\n",
       "            <tr>\n",
       "                        <th id=\"T_c6e7e_level0_row3\" class=\"row_heading level0 row3\" >SD</th>\n",
       "                        <td id=\"T_c6e7e_row3_col0\" class=\"data row3 col0\" >0.0000</td>\n",
       "                        <td id=\"T_c6e7e_row3_col1\" class=\"data row3 col1\" >0.0000</td>\n",
       "                        <td id=\"T_c6e7e_row3_col2\" class=\"data row3 col2\" >0.0000</td>\n",
       "                        <td id=\"T_c6e7e_row3_col3\" class=\"data row3 col3\" >0.0000</td>\n",
       "                        <td id=\"T_c6e7e_row3_col4\" class=\"data row3 col4\" >0.0000</td>\n",
       "                        <td id=\"T_c6e7e_row3_col5\" class=\"data row3 col5\" >0.0000</td>\n",
       "                        <td id=\"T_c6e7e_row3_col6\" class=\"data row3 col6\" >0.0000</td>\n",
       "            </tr>\n",
       "    </tbody></table>"
      ],
      "text/plain": [
       "<pandas.io.formats.style.Styler at 0x7fb39c324fd0>"
      ]
     },
     "metadata": {},
     "output_type": "display_data"
    },
    {
     "name": "stdout",
     "output_type": "stream",
     "text": [
      "RandomForestClassifier(bootstrap=True, ccp_alpha=0.0, class_weight=None,\n",
      "                       criterion='gini', max_depth=None, max_features='auto',\n",
      "                       max_leaf_nodes=None, max_samples=None,\n",
      "                       min_impurity_decrease=0.0, min_impurity_split=None,\n",
      "                       min_samples_leaf=1, min_samples_split=2,\n",
      "                       min_weight_fraction_leaf=0.0, n_estimators=100,\n",
      "                       n_jobs=-1, oob_score=False, random_state=7973, verbose=0,\n",
      "                       warm_start=False)\n"
     ]
    }
   ],
   "source": [
    "rf = create_model('rf')\n",
    "# rf = create_model('rf', cross_validation=False)\n",
    "\n",
    "# trained model object is stored as `rf`\n",
    "# print(rf)"
   ]
  },
  {
   "cell_type": "markdown",
   "metadata": {},
   "source": [
    "## b. Extra Trees Classifier"
   ]
  },
  {
   "cell_type": "code",
   "execution_count": 31,
   "metadata": {
    "collapsed": true,
    "jupyter": {
     "outputs_hidden": true
    }
   },
   "outputs": [
    {
     "data": {
      "text/html": [
       "<style  type=\"text/css\" >\n",
       "#T_7cde7_row2_col0,#T_7cde7_row2_col1,#T_7cde7_row2_col2,#T_7cde7_row2_col3,#T_7cde7_row2_col4,#T_7cde7_row2_col5,#T_7cde7_row2_col6{\n",
       "            background:  yellow;\n",
       "        }</style><table id=\"T_7cde7_\" ><thead>    <tr>        <th class=\"blank level0\" ></th>        <th class=\"col_heading level0 col0\" >Accuracy</th>        <th class=\"col_heading level0 col1\" >AUC</th>        <th class=\"col_heading level0 col2\" >Recall</th>        <th class=\"col_heading level0 col3\" >Prec.</th>        <th class=\"col_heading level0 col4\" >F1</th>        <th class=\"col_heading level0 col5\" >Kappa</th>        <th class=\"col_heading level0 col6\" >MCC</th>    </tr></thead><tbody>\n",
       "                <tr>\n",
       "                        <th id=\"T_7cde7_level0_row0\" class=\"row_heading level0 row0\" >0</th>\n",
       "                        <td id=\"T_7cde7_row0_col0\" class=\"data row0 col0\" >0.0000</td>\n",
       "                        <td id=\"T_7cde7_row0_col1\" class=\"data row0 col1\" >0.0000</td>\n",
       "                        <td id=\"T_7cde7_row0_col2\" class=\"data row0 col2\" >0.0000</td>\n",
       "                        <td id=\"T_7cde7_row0_col3\" class=\"data row0 col3\" >0.0000</td>\n",
       "                        <td id=\"T_7cde7_row0_col4\" class=\"data row0 col4\" >0.0000</td>\n",
       "                        <td id=\"T_7cde7_row0_col5\" class=\"data row0 col5\" >0.0000</td>\n",
       "                        <td id=\"T_7cde7_row0_col6\" class=\"data row0 col6\" >0.0000</td>\n",
       "            </tr>\n",
       "            <tr>\n",
       "                        <th id=\"T_7cde7_level0_row1\" class=\"row_heading level0 row1\" >1</th>\n",
       "                        <td id=\"T_7cde7_row1_col0\" class=\"data row1 col0\" >0.0000</td>\n",
       "                        <td id=\"T_7cde7_row1_col1\" class=\"data row1 col1\" >0.0000</td>\n",
       "                        <td id=\"T_7cde7_row1_col2\" class=\"data row1 col2\" >0.0000</td>\n",
       "                        <td id=\"T_7cde7_row1_col3\" class=\"data row1 col3\" >0.0000</td>\n",
       "                        <td id=\"T_7cde7_row1_col4\" class=\"data row1 col4\" >0.0000</td>\n",
       "                        <td id=\"T_7cde7_row1_col5\" class=\"data row1 col5\" >0.0000</td>\n",
       "                        <td id=\"T_7cde7_row1_col6\" class=\"data row1 col6\" >0.0000</td>\n",
       "            </tr>\n",
       "            <tr>\n",
       "                        <th id=\"T_7cde7_level0_row2\" class=\"row_heading level0 row2\" >Mean</th>\n",
       "                        <td id=\"T_7cde7_row2_col0\" class=\"data row2 col0\" >0.0000</td>\n",
       "                        <td id=\"T_7cde7_row2_col1\" class=\"data row2 col1\" >0.0000</td>\n",
       "                        <td id=\"T_7cde7_row2_col2\" class=\"data row2 col2\" >0.0000</td>\n",
       "                        <td id=\"T_7cde7_row2_col3\" class=\"data row2 col3\" >0.0000</td>\n",
       "                        <td id=\"T_7cde7_row2_col4\" class=\"data row2 col4\" >0.0000</td>\n",
       "                        <td id=\"T_7cde7_row2_col5\" class=\"data row2 col5\" >0.0000</td>\n",
       "                        <td id=\"T_7cde7_row2_col6\" class=\"data row2 col6\" >0.0000</td>\n",
       "            </tr>\n",
       "            <tr>\n",
       "                        <th id=\"T_7cde7_level0_row3\" class=\"row_heading level0 row3\" >SD</th>\n",
       "                        <td id=\"T_7cde7_row3_col0\" class=\"data row3 col0\" >0.0000</td>\n",
       "                        <td id=\"T_7cde7_row3_col1\" class=\"data row3 col1\" >0.0000</td>\n",
       "                        <td id=\"T_7cde7_row3_col2\" class=\"data row3 col2\" >0.0000</td>\n",
       "                        <td id=\"T_7cde7_row3_col3\" class=\"data row3 col3\" >0.0000</td>\n",
       "                        <td id=\"T_7cde7_row3_col4\" class=\"data row3 col4\" >0.0000</td>\n",
       "                        <td id=\"T_7cde7_row3_col5\" class=\"data row3 col5\" >0.0000</td>\n",
       "                        <td id=\"T_7cde7_row3_col6\" class=\"data row3 col6\" >0.0000</td>\n",
       "            </tr>\n",
       "    </tbody></table>"
      ],
      "text/plain": [
       "<pandas.io.formats.style.Styler at 0x7fb39c32a490>"
      ]
     },
     "metadata": {},
     "output_type": "display_data"
    },
    {
     "name": "stdout",
     "output_type": "stream",
     "text": [
      "GradientBoostingClassifier(ccp_alpha=0.0, criterion='friedman_mse', init=None,\n",
      "                           learning_rate=0.1, loss='deviance', max_depth=3,\n",
      "                           max_features=None, max_leaf_nodes=None,\n",
      "                           min_impurity_decrease=0.0, min_impurity_split=None,\n",
      "                           min_samples_leaf=1, min_samples_split=2,\n",
      "                           min_weight_fraction_leaf=0.0, n_estimators=100,\n",
      "                           n_iter_no_change=None, presort='deprecated',\n",
      "                           random_state=7973, subsample=1.0, tol=0.0001,\n",
      "                           validation_fraction=0.1, verbose=0,\n",
      "                           warm_start=False)\n"
     ]
    }
   ],
   "source": [
    "et = create_model('et')\n",
    "# et = create_model('et', cross_validation=False)\n",
    "\n",
    "# trained model object is stored as `et`\n",
    "# print(et)"
   ]
  },
  {
   "cell_type": "markdown",
   "metadata": {},
   "source": [
    "## c. Light Gradient Boosting Machine"
   ]
  },
  {
   "cell_type": "code",
   "execution_count": 39,
   "metadata": {},
   "outputs": [
    {
     "data": {
      "text/html": [
       "<style  type=\"text/css\" >\n",
       "#T_2905d_row2_col0,#T_2905d_row2_col1,#T_2905d_row2_col2,#T_2905d_row2_col3,#T_2905d_row2_col4,#T_2905d_row2_col5,#T_2905d_row2_col6{\n",
       "            background:  yellow;\n",
       "        }</style><table id=\"T_2905d_\" ><thead>    <tr>        <th class=\"blank level0\" ></th>        <th class=\"col_heading level0 col0\" >Accuracy</th>        <th class=\"col_heading level0 col1\" >AUC</th>        <th class=\"col_heading level0 col2\" >Recall</th>        <th class=\"col_heading level0 col3\" >Prec.</th>        <th class=\"col_heading level0 col4\" >F1</th>        <th class=\"col_heading level0 col5\" >Kappa</th>        <th class=\"col_heading level0 col6\" >MCC</th>    </tr></thead><tbody>\n",
       "                <tr>\n",
       "                        <th id=\"T_2905d_level0_row0\" class=\"row_heading level0 row0\" >0</th>\n",
       "                        <td id=\"T_2905d_row0_col0\" class=\"data row0 col0\" >0.9973</td>\n",
       "                        <td id=\"T_2905d_row0_col1\" class=\"data row0 col1\" >0.9728</td>\n",
       "                        <td id=\"T_2905d_row0_col2\" class=\"data row0 col2\" >0.0204</td>\n",
       "                        <td id=\"T_2905d_row0_col3\" class=\"data row0 col3\" >0.0833</td>\n",
       "                        <td id=\"T_2905d_row0_col4\" class=\"data row0 col4\" >0.0328</td>\n",
       "                        <td id=\"T_2905d_row0_col5\" class=\"data row0 col5\" >0.0319</td>\n",
       "                        <td id=\"T_2905d_row0_col6\" class=\"data row0 col6\" >0.0402</td>\n",
       "            </tr>\n",
       "            <tr>\n",
       "                        <th id=\"T_2905d_level0_row1\" class=\"row_heading level0 row1\" >1</th>\n",
       "                        <td id=\"T_2905d_row1_col0\" class=\"data row1 col0\" >0.9975</td>\n",
       "                        <td id=\"T_2905d_row1_col1\" class=\"data row1 col1\" >0.9715</td>\n",
       "                        <td id=\"T_2905d_row1_col2\" class=\"data row1 col2\" >0.0204</td>\n",
       "                        <td id=\"T_2905d_row1_col3\" class=\"data row1 col3\" >0.1667</td>\n",
       "                        <td id=\"T_2905d_row1_col4\" class=\"data row1 col4\" >0.0364</td>\n",
       "                        <td id=\"T_2905d_row1_col5\" class=\"data row1 col5\" >0.0359</td>\n",
       "                        <td id=\"T_2905d_row1_col6\" class=\"data row1 col6\" >0.0576</td>\n",
       "            </tr>\n",
       "            <tr>\n",
       "                        <th id=\"T_2905d_level0_row2\" class=\"row_heading level0 row2\" >Mean</th>\n",
       "                        <td id=\"T_2905d_row2_col0\" class=\"data row2 col0\" >0.9974</td>\n",
       "                        <td id=\"T_2905d_row2_col1\" class=\"data row2 col1\" >0.9722</td>\n",
       "                        <td id=\"T_2905d_row2_col2\" class=\"data row2 col2\" >0.0204</td>\n",
       "                        <td id=\"T_2905d_row2_col3\" class=\"data row2 col3\" >0.1250</td>\n",
       "                        <td id=\"T_2905d_row2_col4\" class=\"data row2 col4\" >0.0346</td>\n",
       "                        <td id=\"T_2905d_row2_col5\" class=\"data row2 col5\" >0.0339</td>\n",
       "                        <td id=\"T_2905d_row2_col6\" class=\"data row2 col6\" >0.0489</td>\n",
       "            </tr>\n",
       "            <tr>\n",
       "                        <th id=\"T_2905d_level0_row3\" class=\"row_heading level0 row3\" >SD</th>\n",
       "                        <td id=\"T_2905d_row3_col0\" class=\"data row3 col0\" >0.0001</td>\n",
       "                        <td id=\"T_2905d_row3_col1\" class=\"data row3 col1\" >0.0007</td>\n",
       "                        <td id=\"T_2905d_row3_col2\" class=\"data row3 col2\" >0.0000</td>\n",
       "                        <td id=\"T_2905d_row3_col3\" class=\"data row3 col3\" >0.0417</td>\n",
       "                        <td id=\"T_2905d_row3_col4\" class=\"data row3 col4\" >0.0018</td>\n",
       "                        <td id=\"T_2905d_row3_col5\" class=\"data row3 col5\" >0.0020</td>\n",
       "                        <td id=\"T_2905d_row3_col6\" class=\"data row3 col6\" >0.0087</td>\n",
       "            </tr>\n",
       "    </tbody></table>"
      ],
      "text/plain": [
       "<pandas.io.formats.style.Styler at 0x7fb39c5a4310>"
      ]
     },
     "metadata": {},
     "output_type": "display_data"
    },
    {
     "name": "stdout",
     "output_type": "stream",
     "text": [
      "LGBMClassifier(boosting_type='gbdt', class_weight=None, colsample_bytree=1.0,\n",
      "               importance_type='split', learning_rate=0.1, max_depth=-1,\n",
      "               min_child_samples=20, min_child_weight=0.001, min_split_gain=0.0,\n",
      "               n_estimators=100, n_jobs=-1, num_leaves=31, objective=None,\n",
      "               random_state=7316, reg_alpha=0.0, reg_lambda=0.0, silent=True,\n",
      "               subsample=1.0, subsample_for_bin=200000, subsample_freq=0)\n"
     ]
    }
   ],
   "source": [
    "lightgbm = create_model('lightgbm')\n",
    "# lightgbm = create_model('lightgbm', cross_validation=False)\n",
    "\n",
    "# trained model object is stored as `lightgbm`\n",
    "print(lightgbm)"
   ]
  },
  {
   "cell_type": "markdown",
   "metadata": {},
   "source": [
    "# 5.) Tune Model(s)"
   ]
  },
  {
   "cell_type": "markdown",
   "metadata": {},
   "source": [
    "## a. Light Gradient Boosting Machine"
   ]
  },
  {
   "cell_type": "code",
   "execution_count": 40,
   "metadata": {},
   "outputs": [
    {
     "data": {
      "text/html": [
       "<style  type=\"text/css\" >\n",
       "#T_609c6_row2_col0,#T_609c6_row2_col1,#T_609c6_row2_col2,#T_609c6_row2_col3,#T_609c6_row2_col4,#T_609c6_row2_col5,#T_609c6_row2_col6{\n",
       "            background:  yellow;\n",
       "        }</style><table id=\"T_609c6_\" ><thead>    <tr>        <th class=\"blank level0\" ></th>        <th class=\"col_heading level0 col0\" >Accuracy</th>        <th class=\"col_heading level0 col1\" >AUC</th>        <th class=\"col_heading level0 col2\" >Recall</th>        <th class=\"col_heading level0 col3\" >Prec.</th>        <th class=\"col_heading level0 col4\" >F1</th>        <th class=\"col_heading level0 col5\" >Kappa</th>        <th class=\"col_heading level0 col6\" >MCC</th>    </tr></thead><tbody>\n",
       "                <tr>\n",
       "                        <th id=\"T_609c6_level0_row0\" class=\"row_heading level0 row0\" >0</th>\n",
       "                        <td id=\"T_609c6_row0_col0\" class=\"data row0 col0\" >0.9976</td>\n",
       "                        <td id=\"T_609c6_row0_col1\" class=\"data row0 col1\" >0.9773</td>\n",
       "                        <td id=\"T_609c6_row0_col2\" class=\"data row0 col2\" >0.0204</td>\n",
       "                        <td id=\"T_609c6_row0_col3\" class=\"data row0 col3\" >0.2500</td>\n",
       "                        <td id=\"T_609c6_row0_col4\" class=\"data row0 col4\" >0.0377</td>\n",
       "                        <td id=\"T_609c6_row0_col5\" class=\"data row0 col5\" >0.0374</td>\n",
       "                        <td id=\"T_609c6_row0_col6\" class=\"data row0 col6\" >0.0709</td>\n",
       "            </tr>\n",
       "            <tr>\n",
       "                        <th id=\"T_609c6_level0_row1\" class=\"row_heading level0 row1\" >1</th>\n",
       "                        <td id=\"T_609c6_row1_col0\" class=\"data row1 col0\" >0.9976</td>\n",
       "                        <td id=\"T_609c6_row1_col1\" class=\"data row1 col1\" >0.9728</td>\n",
       "                        <td id=\"T_609c6_row1_col2\" class=\"data row1 col2\" >0.0204</td>\n",
       "                        <td id=\"T_609c6_row1_col3\" class=\"data row1 col3\" >0.2000</td>\n",
       "                        <td id=\"T_609c6_row1_col4\" class=\"data row1 col4\" >0.0370</td>\n",
       "                        <td id=\"T_609c6_row1_col5\" class=\"data row1 col5\" >0.0366</td>\n",
       "                        <td id=\"T_609c6_row1_col6\" class=\"data row1 col6\" >0.0632</td>\n",
       "            </tr>\n",
       "            <tr>\n",
       "                        <th id=\"T_609c6_level0_row2\" class=\"row_heading level0 row2\" >Mean</th>\n",
       "                        <td id=\"T_609c6_row2_col0\" class=\"data row2 col0\" >0.9976</td>\n",
       "                        <td id=\"T_609c6_row2_col1\" class=\"data row2 col1\" >0.9751</td>\n",
       "                        <td id=\"T_609c6_row2_col2\" class=\"data row2 col2\" >0.0204</td>\n",
       "                        <td id=\"T_609c6_row2_col3\" class=\"data row2 col3\" >0.2250</td>\n",
       "                        <td id=\"T_609c6_row2_col4\" class=\"data row2 col4\" >0.0374</td>\n",
       "                        <td id=\"T_609c6_row2_col5\" class=\"data row2 col5\" >0.0370</td>\n",
       "                        <td id=\"T_609c6_row2_col6\" class=\"data row2 col6\" >0.0671</td>\n",
       "            </tr>\n",
       "            <tr>\n",
       "                        <th id=\"T_609c6_level0_row3\" class=\"row_heading level0 row3\" >SD</th>\n",
       "                        <td id=\"T_609c6_row3_col0\" class=\"data row3 col0\" >0.0000</td>\n",
       "                        <td id=\"T_609c6_row3_col1\" class=\"data row3 col1\" >0.0023</td>\n",
       "                        <td id=\"T_609c6_row3_col2\" class=\"data row3 col2\" >0.0000</td>\n",
       "                        <td id=\"T_609c6_row3_col3\" class=\"data row3 col3\" >0.0250</td>\n",
       "                        <td id=\"T_609c6_row3_col4\" class=\"data row3 col4\" >0.0003</td>\n",
       "                        <td id=\"T_609c6_row3_col5\" class=\"data row3 col5\" >0.0004</td>\n",
       "                        <td id=\"T_609c6_row3_col6\" class=\"data row3 col6\" >0.0038</td>\n",
       "            </tr>\n",
       "    </tbody></table>"
      ],
      "text/plain": [
       "<pandas.io.formats.style.Styler at 0x7fb2e719bdd0>"
      ]
     },
     "metadata": {},
     "output_type": "display_data"
    },
    {
     "name": "stdout",
     "output_type": "stream",
     "text": [
      "LGBMClassifier(bagging_fraction=0.5, bagging_freq=5, boosting_type='gbdt',\n",
      "               class_weight=None, colsample_bytree=1.0, feature_fraction=0.6,\n",
      "               importance_type='split', learning_rate=0.2, max_depth=-1,\n",
      "               min_child_samples=96, min_child_weight=0.001, min_split_gain=0.5,\n",
      "               n_estimators=260, n_jobs=-1, num_leaves=150, objective=None,\n",
      "               random_state=7316, reg_alpha=1e-06, reg_lambda=0.1, silent=True,\n",
      "               subsample=1.0, subsample_for_bin=200000, subsample_freq=0)\n"
     ]
    }
   ],
   "source": [
    "tuned_lightgbm = tune_model(lightgbm, n_iter=2, early_stopping=True)\n",
    "\n",
    "# tuned model object is stored as `tuned_lightgbm`\n",
    "print(tuned_lightgbm)"
   ]
  },
  {
   "cell_type": "markdown",
   "metadata": {},
   "source": [
    "# 6.) Models Performance"
   ]
  },
  {
   "cell_type": "markdown",
   "metadata": {},
   "source": [
    "## a. Light Gradient Boosting Machine"
   ]
  },
  {
   "cell_type": "markdown",
   "metadata": {},
   "source": [
    "### i. Features Importance"
   ]
  },
  {
   "cell_type": "code",
   "execution_count": 41,
   "metadata": {},
   "outputs": [
    {
     "data": {
      "image/png": "[encoded data removed]",
      "text/plain": [
       "<Figure size 800x500 with 1 Axes>"
      ]
     },
     "metadata": {},
     "output_type": "display_data"
    }
   ],
   "source": [
    "plot_model(tuned_lightgbm, plot='feature')"
   ]
  },
  {
   "cell_type": "markdown",
   "metadata": {},
   "source": [
    "### ii. Confusion Matrix"
   ]
  },
  {
   "cell_type": "code",
   "execution_count": 42,
   "metadata": {},
   "outputs": [
    {
     "data": {
      "image/png": "[encoded data removed]",
      "text/plain": [
       "<Figure size 576x396 with 1 Axes>"
      ]
     },
     "metadata": {},
     "output_type": "display_data"
    }
   ],
   "source": [
    "plot_model(tuned_lightgbm, plot = 'confusion_matrix')"
   ]
  },
  {
   "cell_type": "code",
   "execution_count": null,
   "metadata": {},
   "outputs": [],
   "source": []
  },
  {
   "cell_type": "code",
   "execution_count": null,
   "metadata": {},
   "outputs": [],
   "source": []
  }
 ],
 "metadata": {
  "instance_type": "ml.g4dn.xlarge",
  "kernelspec": {
   "display_name": "Python 3 (Data Science)",
   "language": "python",
   "name": "python3__SAGEMAKER_INTERNAL__arn:aws:sagemaker:us-west-2:236514542706:image/datascience-1.0"
  },
  "language_info": {
   "codemirror_mode": {
    "name": "ipython",
    "version": 3
   },
   "file_extension": ".py",
   "mimetype": "text/x-python",
   "name": "python",
   "nbconvert_exporter": "python",
   "pygments_lexer": "ipython3",
   "version": "3.7.10"
  }
 },
 "nbformat": 4,
 "nbformat_minor": 4
}
