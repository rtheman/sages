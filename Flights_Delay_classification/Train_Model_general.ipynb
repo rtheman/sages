{
 "cells": [
  {
   "cell_type": "markdown",
   "metadata": {},
   "source": [
    "Libraries & Parameters"
   ]
  },
  {
   "cell_type": "code",
   "execution_count": 1,
   "metadata": {},
   "outputs": [
    {
     "name": "stdout",
     "output_type": "stream",
     "text": [
      "/opt/conda/lib/python3.7/site-packages/secretstorage/dhcrypto.py:16: CryptographyDeprecationWarning: int_from_bytes is deprecated, use int.from_bytes instead\n",
      "  from cryptography.utils import int_from_bytes\n",
      "/opt/conda/lib/python3.7/site-packages/secretstorage/util.py:25: CryptographyDeprecationWarning: int_from_bytes is deprecated, use int.from_bytes instead\n",
      "  from cryptography.utils import int_from_bytes\n",
      "/opt/conda/lib/python3.7/site-packages/secretstorage/dhcrypto.py:16: CryptographyDeprecationWarning: int_from_bytes is deprecated, use int.from_bytes instead\n",
      "  from cryptography.utils import int_from_bytes\n",
      "/opt/conda/lib/python3.7/site-packages/secretstorage/util.py:25: CryptographyDeprecationWarning: int_from_bytes is deprecated, use int.from_bytes instead\n",
      "  from cryptography.utils import int_from_bytes\n"
     ]
    }
   ],
   "source": [
    "!pip install -q awswrangler\n",
    "\n",
    "import awswrangler as wr\n",
    "import pandas as pd\n",
    "\n",
    "import boto3\n",
    "import pytz\n",
    "\n",
    "import numpy as np\n",
    "!pip install -U -q seaborn\n",
    "import seaborn as sns\n",
    "import matplotlib.pyplot as plt\n",
    "\n",
    "import datetime\n",
    "from sagemaker import get_execution_role"
   ]
  },
  {
   "cell_type": "code",
   "execution_count": 2,
   "metadata": {},
   "outputs": [
    {
     "name": "stderr",
     "output_type": "stream",
     "text": [
      "Couldn't call 'get_role' to get Role ARN from role name AmazonSageMaker-ExecutionRole-20210503T205912 to get Role path.\n",
      "Assuming role was created in SageMaker AWS console, as the name contains `AmazonSageMaker-ExecutionRole`. Defaulting to Role ARN with service-role in path. If this Role ARN is incorrect, please add IAM read permissions to your role or supply the Role Arn directly.\n"
     ]
    },
    {
     "name": "stdout",
     "output_type": "stream",
     "text": [
      "arn:aws:iam::506926764659:role/service-role/AmazonSageMaker-ExecutionRole-20210503T205912\n"
     ]
    }
   ],
   "source": [
    "# Get Sagemaker Role\n",
    "role = get_execution_role()\n",
    "print(role)"
   ]
  },
  {
   "cell_type": "markdown",
   "metadata": {},
   "source": [
    "Runtime Parameters"
   ]
  },
  {
   "cell_type": "code",
   "execution_count": 3,
   "metadata": {},
   "outputs": [],
   "source": [
    "# airline_to_run = 'MQ'"
   ]
  },
  {
   "cell_type": "markdown",
   "metadata": {},
   "source": [
    "___\n",
    "# 1.) Download Data"
   ]
  },
  {
   "cell_type": "markdown",
   "metadata": {},
   "source": [
    "## S3 parameters"
   ]
  },
  {
   "cell_type": "code",
   "execution_count": 4,
   "metadata": {},
   "outputs": [],
   "source": [
    "# Flight data from Sagemaker Data Wrangler\n",
    "bucket = 'sagemaker-us-west-2-506926764659/export-flow-05-16-30-08-0c003aed/output/data-wrangler-flow-processing-05-16-30-08-0c003aed/b98f4f8c-ddaf-4ee1-99da-b0dd09f47a21/default'\n",
    "filename = 'part-00000-92fade68-00c4-41b3-9182-593084da2eae-c000.csv'\n",
    "path_to_file = 's3://{}/{}'.format(bucket, filename)\n",
    "\n",
    "# # Flight data from entire year of 2011\n",
    "# bucket = 'from-public-data/carrier-perf/transformed'\n",
    "# filename = 'airOT2011all.csv'\n",
    "# path_to_file = 's3://{}/{}'.format(bucket, filename)\n",
    "\n",
    "# # Flight data from 2011_01 \n",
    "# bucket = 'from-public-data/carrier-perf/transformed/airOT2011'\n",
    "# filename = 'airOT201101.csv'\n",
    "# path_to_file = 's3://{}/{}'.format(bucket, filename)\n",
    "\n",
    "\n",
    "# ________________________________________________________________\n",
    "# Supporting dataset useful for EDA and understanding data\n",
    "#   - airport codes\n",
    "#   - airline codes\n",
    "bucket2 = 'from-public-data/carrier-perf/raw'\n",
    "file_airport = 'airports.csv'\n",
    "file_airline = 'airlines.csv'\n",
    "\n",
    "path_to_file_airport = 's3://{}/{}'.format(bucket2, file_airport)\n",
    "path_to_file_airline = 's3://{}/{}'.format(bucket2, file_airline)"
   ]
  },
  {
   "cell_type": "markdown",
   "metadata": {},
   "source": [
    "=== === === === ===\n",
    "## Download data from S3"
   ]
  },
  {
   "cell_type": "markdown",
   "metadata": {},
   "source": [
    "### 1. Flights Performance dataset"
   ]
  },
  {
   "cell_type": "code",
   "execution_count": 5,
   "metadata": {},
   "outputs": [],
   "source": [
    "df = wr.s3.read_csv([path_to_file])\n",
    "# df"
   ]
  },
  {
   "cell_type": "markdown",
   "metadata": {},
   "source": [
    "A whopping 7,294,649 rows (records) of JUST year 2007!  Thanks to all the Sagemaker Data Wrangler, I was able to already do some data cleaning and adjustment:\n",
    "  - Create new variable `late_flight` depending on `DEP_DELAY`\n",
    "  - Trim value to remove outliers for `DEP_DLAY`\n",
    "  - Drop records for Cancelled flights `CANCELED` == 1 (doesn't make much sense to have flights that's irrelevant to flights delay when flight never occur)"
   ]
  },
  {
   "cell_type": "markdown",
   "metadata": {},
   "source": [
    "### 2. Airports & Airlines dataset"
   ]
  },
  {
   "cell_type": "code",
   "execution_count": 6,
   "metadata": {},
   "outputs": [],
   "source": [
    "df_airports = wr.s3.read_csv([path_to_file_airport])\n",
    "df_airlines = wr.s3.read_csv([path_to_file_airline])\n",
    "# df_airlines"
   ]
  },
  {
   "cell_type": "markdown",
   "metadata": {},
   "source": [
    "=== === === === ===\n",
    "## Initial Data Clean-up and Organization"
   ]
  },
  {
   "cell_type": "code",
   "execution_count": 7,
   "metadata": {},
   "outputs": [],
   "source": [
    "# rename 'DAY_OF_MONTH' column to 'DAY' (in prep of transforming to datetime format)\n",
    "df = df.rename(columns={'DAY_OF_MONTH': 'DAY'})\n",
    "# df"
   ]
  },
  {
   "cell_type": "markdown",
   "metadata": {},
   "source": [
    "### 1. Date / Time modifications\n",
    "\n",
    "Make date and time more appropriate.  This will make it easier when making plots."
   ]
  },
  {
   "cell_type": "code",
   "execution_count": 8,
   "metadata": {},
   "outputs": [],
   "source": [
    "# Create a datetime field `DATE`\n",
    "df['DATE'] = pd.to_datetime(df[['YEAR','MONTH','DAY']])"
   ]
  },
  {
   "cell_type": "code",
   "execution_count": 9,
   "metadata": {},
   "outputs": [],
   "source": [
    "# Convert 'HHMM' string to datetime.time\n",
    "def format_heure(chaine):\n",
    "    if pd.isnull(chaine):\n",
    "        return np.nan\n",
    "    else:\n",
    "        if chaine == 2400: chaine = 0\n",
    "        chaine = \"{0:04d}\".format(int(chaine))\n",
    "        heure = datetime.time(int(chaine[0:2]), int(chaine[2:4]))\n",
    "        return heure"
   ]
  },
  {
   "cell_type": "code",
   "execution_count": 10,
   "metadata": {},
   "outputs": [],
   "source": [
    "df['DEP_TIME'] = df['DEP_TIME'].apply(format_heure)\n",
    "df['ARR_TIME'] = df['ARR_TIME'].apply(format_heure)"
   ]
  },
  {
   "cell_type": "markdown",
   "metadata": {},
   "source": [
    "### 2. Organize Columns\n",
    "\n",
    "Let's organize columns (features) to be more logical"
   ]
  },
  {
   "cell_type": "code",
   "execution_count": 11,
   "metadata": {},
   "outputs": [],
   "source": [
    "variables_to_remove = ['ORIGIN_AIRPORT_ID', 'DEST_AIRPORT_ID']\n",
    "df.drop(variables_to_remove, axis = 1, inplace = True)\n",
    "\n",
    "df = df[[\n",
    "    'DATE',\n",
    "    'YEAR',\n",
    "    'MONTH',\n",
    "    'DAY',\n",
    "    'DAY_OF_WEEK',\n",
    "    'UNIQUE_CARRIER',\n",
    "    'ORIGIN',\n",
    "    'DEST',\n",
    "    'DEP_TIME',\n",
    "    'DEP_DELAY',\n",
    "    'DEP_DELAY_no_outlier',\n",
    "    'ACTUAL_ELAPSED_TIME',\n",
    "    'AIR_TIME',\n",
    "    'DISTANCE',\n",
    "    'ARR_TIME',\n",
    "    'ARR_DELAY',\n",
    "    'CARRIER_DELAY',\n",
    "    'WEATHER_DELAY',\n",
    "    'NAS_DELAY',\n",
    "    'SECURITY_DELAY',\n",
    "    'LATE_AIRCRAFT_DELAY',\n",
    "    'late_flight']]"
   ]
  },
  {
   "cell_type": "code",
   "execution_count": 12,
   "metadata": {},
   "outputs": [
    {
     "name": "stdout",
     "output_type": "stream",
     "text": [
      "New dataset has 7294649 records with 22 variables, containing only airlines ['9E' 'AA' 'KH' 'AS' 'B6' 'CO' 'DL' 'EV' 'F9' 'FL' 'HA' 'MQ' 'NW' 'OH'\n",
      " 'OO' 'UA' 'US' 'WN' 'XE' 'YV']\n"
     ]
    }
   ],
   "source": [
    "# REMOVED for a generalized ML model for all airline carriers\n",
    "# df_toTrain = df.loc[df['UNIQUE_CARRIER'] == airline_to_run]\n",
    "df_toTrain = df\n",
    "\n",
    "distinct_airlines = df_toTrain.UNIQUE_CARRIER.unique()\n",
    "print('New dataset has {0} records with {1} variables, containing only airlines {2}'.format(df_toTrain.shape[0], df_toTrain.shape[1], distinct_airlines))"
   ]
  },
  {
   "cell_type": "code",
   "execution_count": 13,
   "metadata": {},
   "outputs": [
    {
     "data": {
      "text/html": [
       "<div>\n",
       "<style scoped>\n",
       "    .dataframe tbody tr th:only-of-type {\n",
       "        vertical-align: middle;\n",
       "    }\n",
       "\n",
       "    .dataframe tbody tr th {\n",
       "        vertical-align: top;\n",
       "    }\n",
       "\n",
       "    .dataframe thead th {\n",
       "        text-align: right;\n",
       "    }\n",
       "</style>\n",
       "<table border=\"1\" class=\"dataframe\">\n",
       "  <thead>\n",
       "    <tr style=\"text-align: right;\">\n",
       "      <th></th>\n",
       "      <th>DATE</th>\n",
       "      <th>YEAR</th>\n",
       "      <th>MONTH</th>\n",
       "      <th>DAY</th>\n",
       "      <th>DAY_OF_WEEK</th>\n",
       "      <th>UNIQUE_CARRIER</th>\n",
       "      <th>ORIGIN</th>\n",
       "      <th>DEST</th>\n",
       "      <th>DEP_TIME</th>\n",
       "      <th>DEP_DELAY</th>\n",
       "      <th>...</th>\n",
       "      <th>AIR_TIME</th>\n",
       "      <th>DISTANCE</th>\n",
       "      <th>ARR_TIME</th>\n",
       "      <th>ARR_DELAY</th>\n",
       "      <th>CARRIER_DELAY</th>\n",
       "      <th>WEATHER_DELAY</th>\n",
       "      <th>NAS_DELAY</th>\n",
       "      <th>SECURITY_DELAY</th>\n",
       "      <th>LATE_AIRCRAFT_DELAY</th>\n",
       "      <th>late_flight</th>\n",
       "    </tr>\n",
       "  </thead>\n",
       "  <tbody>\n",
       "    <tr>\n",
       "      <th>0</th>\n",
       "      <td>2007-01-01</td>\n",
       "      <td>2007</td>\n",
       "      <td>1</td>\n",
       "      <td>1</td>\n",
       "      <td>1</td>\n",
       "      <td>9E</td>\n",
       "      <td>DCA</td>\n",
       "      <td>GRR</td>\n",
       "      <td>20:44:00</td>\n",
       "      <td>44.0</td>\n",
       "      <td>...</td>\n",
       "      <td>95.0</td>\n",
       "      <td>524.0</td>\n",
       "      <td>23:02:00</td>\n",
       "      <td>70.0</td>\n",
       "      <td>0.0</td>\n",
       "      <td>0.0</td>\n",
       "      <td>26.0</td>\n",
       "      <td>0.0</td>\n",
       "      <td>44.0</td>\n",
       "      <td>late</td>\n",
       "    </tr>\n",
       "    <tr>\n",
       "      <th>1</th>\n",
       "      <td>2007-01-01</td>\n",
       "      <td>2007</td>\n",
       "      <td>1</td>\n",
       "      <td>1</td>\n",
       "      <td>1</td>\n",
       "      <td>9E</td>\n",
       "      <td>MSP</td>\n",
       "      <td>CID</td>\n",
       "      <td>19:39:00</td>\n",
       "      <td>7.0</td>\n",
       "      <td>...</td>\n",
       "      <td>39.0</td>\n",
       "      <td>221.0</td>\n",
       "      <td>21:51:00</td>\n",
       "      <td>75.0</td>\n",
       "      <td>7.0</td>\n",
       "      <td>0.0</td>\n",
       "      <td>68.0</td>\n",
       "      <td>0.0</td>\n",
       "      <td>0.0</td>\n",
       "      <td>late</td>\n",
       "    </tr>\n",
       "    <tr>\n",
       "      <th>2</th>\n",
       "      <td>2007-01-01</td>\n",
       "      <td>2007</td>\n",
       "      <td>1</td>\n",
       "      <td>1</td>\n",
       "      <td>1</td>\n",
       "      <td>9E</td>\n",
       "      <td>MSP</td>\n",
       "      <td>FAR</td>\n",
       "      <td>09:13:00</td>\n",
       "      <td>-2.0</td>\n",
       "      <td>...</td>\n",
       "      <td>39.0</td>\n",
       "      <td>223.0</td>\n",
       "      <td>10:09:00</td>\n",
       "      <td>-19.0</td>\n",
       "      <td>NaN</td>\n",
       "      <td>NaN</td>\n",
       "      <td>NaN</td>\n",
       "      <td>NaN</td>\n",
       "      <td>NaN</td>\n",
       "      <td>late</td>\n",
       "    </tr>\n",
       "    <tr>\n",
       "      <th>3</th>\n",
       "      <td>2007-01-01</td>\n",
       "      <td>2007</td>\n",
       "      <td>1</td>\n",
       "      <td>1</td>\n",
       "      <td>1</td>\n",
       "      <td>9E</td>\n",
       "      <td>MSP</td>\n",
       "      <td>AZO</td>\n",
       "      <td>21:22:00</td>\n",
       "      <td>57.0</td>\n",
       "      <td>...</td>\n",
       "      <td>55.0</td>\n",
       "      <td>426.0</td>\n",
       "      <td>23:50:00</td>\n",
       "      <td>53.0</td>\n",
       "      <td>53.0</td>\n",
       "      <td>0.0</td>\n",
       "      <td>0.0</td>\n",
       "      <td>0.0</td>\n",
       "      <td>0.0</td>\n",
       "      <td>late</td>\n",
       "    </tr>\n",
       "    <tr>\n",
       "      <th>4</th>\n",
       "      <td>2007-01-01</td>\n",
       "      <td>2007</td>\n",
       "      <td>1</td>\n",
       "      <td>1</td>\n",
       "      <td>1</td>\n",
       "      <td>9E</td>\n",
       "      <td>MSP</td>\n",
       "      <td>DFW</td>\n",
       "      <td>14:10:00</td>\n",
       "      <td>10.0</td>\n",
       "      <td>...</td>\n",
       "      <td>123.0</td>\n",
       "      <td>852.0</td>\n",
       "      <td>16:28:00</td>\n",
       "      <td>-7.0</td>\n",
       "      <td>NaN</td>\n",
       "      <td>NaN</td>\n",
       "      <td>NaN</td>\n",
       "      <td>NaN</td>\n",
       "      <td>NaN</td>\n",
       "      <td>late</td>\n",
       "    </tr>\n",
       "    <tr>\n",
       "      <th>...</th>\n",
       "      <td>...</td>\n",
       "      <td>...</td>\n",
       "      <td>...</td>\n",
       "      <td>...</td>\n",
       "      <td>...</td>\n",
       "      <td>...</td>\n",
       "      <td>...</td>\n",
       "      <td>...</td>\n",
       "      <td>...</td>\n",
       "      <td>...</td>\n",
       "      <td>...</td>\n",
       "      <td>...</td>\n",
       "      <td>...</td>\n",
       "      <td>...</td>\n",
       "      <td>...</td>\n",
       "      <td>...</td>\n",
       "      <td>...</td>\n",
       "      <td>...</td>\n",
       "      <td>...</td>\n",
       "      <td>...</td>\n",
       "      <td>...</td>\n",
       "    </tr>\n",
       "    <tr>\n",
       "      <th>7294644</th>\n",
       "      <td>2007-12-31</td>\n",
       "      <td>2007</td>\n",
       "      <td>12</td>\n",
       "      <td>31</td>\n",
       "      <td>1</td>\n",
       "      <td>YV</td>\n",
       "      <td>YUM</td>\n",
       "      <td>PHX</td>\n",
       "      <td>07:50:00</td>\n",
       "      <td>-10.0</td>\n",
       "      <td>...</td>\n",
       "      <td>38.0</td>\n",
       "      <td>160.0</td>\n",
       "      <td>08:55:00</td>\n",
       "      <td>-12.0</td>\n",
       "      <td>NaN</td>\n",
       "      <td>NaN</td>\n",
       "      <td>NaN</td>\n",
       "      <td>NaN</td>\n",
       "      <td>NaN</td>\n",
       "      <td>late</td>\n",
       "    </tr>\n",
       "    <tr>\n",
       "      <th>7294645</th>\n",
       "      <td>2007-12-31</td>\n",
       "      <td>2007</td>\n",
       "      <td>12</td>\n",
       "      <td>31</td>\n",
       "      <td>1</td>\n",
       "      <td>YV</td>\n",
       "      <td>YUM</td>\n",
       "      <td>PHX</td>\n",
       "      <td>12:20:00</td>\n",
       "      <td>-14.0</td>\n",
       "      <td>...</td>\n",
       "      <td>33.0</td>\n",
       "      <td>160.0</td>\n",
       "      <td>13:14:00</td>\n",
       "      <td>-12.0</td>\n",
       "      <td>NaN</td>\n",
       "      <td>NaN</td>\n",
       "      <td>NaN</td>\n",
       "      <td>NaN</td>\n",
       "      <td>NaN</td>\n",
       "      <td>late</td>\n",
       "    </tr>\n",
       "    <tr>\n",
       "      <th>7294646</th>\n",
       "      <td>2007-12-31</td>\n",
       "      <td>2007</td>\n",
       "      <td>12</td>\n",
       "      <td>31</td>\n",
       "      <td>1</td>\n",
       "      <td>YV</td>\n",
       "      <td>YUM</td>\n",
       "      <td>PHX</td>\n",
       "      <td>16:00:00</td>\n",
       "      <td>-5.0</td>\n",
       "      <td>...</td>\n",
       "      <td>33.0</td>\n",
       "      <td>160.0</td>\n",
       "      <td>16:58:00</td>\n",
       "      <td>-2.0</td>\n",
       "      <td>NaN</td>\n",
       "      <td>NaN</td>\n",
       "      <td>NaN</td>\n",
       "      <td>NaN</td>\n",
       "      <td>NaN</td>\n",
       "      <td>late</td>\n",
       "    </tr>\n",
       "    <tr>\n",
       "      <th>7294647</th>\n",
       "      <td>2007-12-31</td>\n",
       "      <td>2007</td>\n",
       "      <td>12</td>\n",
       "      <td>31</td>\n",
       "      <td>1</td>\n",
       "      <td>YV</td>\n",
       "      <td>YUM</td>\n",
       "      <td>PHX</td>\n",
       "      <td>09:00:00</td>\n",
       "      <td>-30.0</td>\n",
       "      <td>...</td>\n",
       "      <td>31.0</td>\n",
       "      <td>160.0</td>\n",
       "      <td>10:14:00</td>\n",
       "      <td>-10.0</td>\n",
       "      <td>NaN</td>\n",
       "      <td>NaN</td>\n",
       "      <td>NaN</td>\n",
       "      <td>NaN</td>\n",
       "      <td>NaN</td>\n",
       "      <td>late</td>\n",
       "    </tr>\n",
       "    <tr>\n",
       "      <th>7294648</th>\n",
       "      <td>2007-12-31</td>\n",
       "      <td>2007</td>\n",
       "      <td>12</td>\n",
       "      <td>31</td>\n",
       "      <td>1</td>\n",
       "      <td>YV</td>\n",
       "      <td>YUM</td>\n",
       "      <td>PHX</td>\n",
       "      <td>17:40:00</td>\n",
       "      <td>-5.0</td>\n",
       "      <td>...</td>\n",
       "      <td>52.0</td>\n",
       "      <td>160.0</td>\n",
       "      <td>18:50:00</td>\n",
       "      <td>-3.0</td>\n",
       "      <td>NaN</td>\n",
       "      <td>NaN</td>\n",
       "      <td>NaN</td>\n",
       "      <td>NaN</td>\n",
       "      <td>NaN</td>\n",
       "      <td>late</td>\n",
       "    </tr>\n",
       "  </tbody>\n",
       "</table>\n",
       "<p>7294649 rows × 22 columns</p>\n",
       "</div>"
      ],
      "text/plain": [
       "              DATE  YEAR  MONTH  DAY  DAY_OF_WEEK UNIQUE_CARRIER ORIGIN DEST  \\\n",
       "0       2007-01-01  2007      1    1            1             9E    DCA  GRR   \n",
       "1       2007-01-01  2007      1    1            1             9E    MSP  CID   \n",
       "2       2007-01-01  2007      1    1            1             9E    MSP  FAR   \n",
       "3       2007-01-01  2007      1    1            1             9E    MSP  AZO   \n",
       "4       2007-01-01  2007      1    1            1             9E    MSP  DFW   \n",
       "...            ...   ...    ...  ...          ...            ...    ...  ...   \n",
       "7294644 2007-12-31  2007     12   31            1             YV    YUM  PHX   \n",
       "7294645 2007-12-31  2007     12   31            1             YV    YUM  PHX   \n",
       "7294646 2007-12-31  2007     12   31            1             YV    YUM  PHX   \n",
       "7294647 2007-12-31  2007     12   31            1             YV    YUM  PHX   \n",
       "7294648 2007-12-31  2007     12   31            1             YV    YUM  PHX   \n",
       "\n",
       "         DEP_TIME  DEP_DELAY  ...  AIR_TIME  DISTANCE  ARR_TIME  ARR_DELAY  \\\n",
       "0        20:44:00       44.0  ...      95.0     524.0  23:02:00       70.0   \n",
       "1        19:39:00        7.0  ...      39.0     221.0  21:51:00       75.0   \n",
       "2        09:13:00       -2.0  ...      39.0     223.0  10:09:00      -19.0   \n",
       "3        21:22:00       57.0  ...      55.0     426.0  23:50:00       53.0   \n",
       "4        14:10:00       10.0  ...     123.0     852.0  16:28:00       -7.0   \n",
       "...           ...        ...  ...       ...       ...       ...        ...   \n",
       "7294644  07:50:00      -10.0  ...      38.0     160.0  08:55:00      -12.0   \n",
       "7294645  12:20:00      -14.0  ...      33.0     160.0  13:14:00      -12.0   \n",
       "7294646  16:00:00       -5.0  ...      33.0     160.0  16:58:00       -2.0   \n",
       "7294647  09:00:00      -30.0  ...      31.0     160.0  10:14:00      -10.0   \n",
       "7294648  17:40:00       -5.0  ...      52.0     160.0  18:50:00       -3.0   \n",
       "\n",
       "        CARRIER_DELAY  WEATHER_DELAY  NAS_DELAY  SECURITY_DELAY  \\\n",
       "0                 0.0            0.0       26.0             0.0   \n",
       "1                 7.0            0.0       68.0             0.0   \n",
       "2                 NaN            NaN        NaN             NaN   \n",
       "3                53.0            0.0        0.0             0.0   \n",
       "4                 NaN            NaN        NaN             NaN   \n",
       "...               ...            ...        ...             ...   \n",
       "7294644           NaN            NaN        NaN             NaN   \n",
       "7294645           NaN            NaN        NaN             NaN   \n",
       "7294646           NaN            NaN        NaN             NaN   \n",
       "7294647           NaN            NaN        NaN             NaN   \n",
       "7294648           NaN            NaN        NaN             NaN   \n",
       "\n",
       "         LATE_AIRCRAFT_DELAY  late_flight  \n",
       "0                       44.0         late  \n",
       "1                        0.0         late  \n",
       "2                        NaN         late  \n",
       "3                        0.0         late  \n",
       "4                        NaN         late  \n",
       "...                      ...          ...  \n",
       "7294644                  NaN         late  \n",
       "7294645                  NaN         late  \n",
       "7294646                  NaN         late  \n",
       "7294647                  NaN         late  \n",
       "7294648                  NaN         late  \n",
       "\n",
       "[7294649 rows x 22 columns]"
      ]
     },
     "execution_count": 13,
     "metadata": {},
     "output_type": "execute_result"
    }
   ],
   "source": [
    "df_toTrain"
   ]
  },
  {
   "cell_type": "markdown",
   "metadata": {},
   "source": [
    "___\n",
    "# 2.) Explorational Data Analysis"
   ]
  },
  {
   "cell_type": "markdown",
   "metadata": {},
   "source": [
    "## Distribution of Target (dependent) Variable `late_flight`"
   ]
  },
  {
   "cell_type": "code",
   "execution_count": 14,
   "metadata": {},
   "outputs": [
    {
     "data": {
      "text/plain": [
       "<matplotlib.axes._subplots.AxesSubplot at 0x7fe7533d1750>"
      ]
     },
     "execution_count": 14,
     "metadata": {},
     "output_type": "execute_result"
    },
    {
     "data": {
      "image/png": "[encoded data removed]",
      "text/plain": [
       "<Figure size 432x288 with 1 Axes>"
      ]
     },
     "metadata": {
      "needs_background": "light"
     },
     "output_type": "display_data"
    }
   ],
   "source": [
    "df_toTrain.late_flight.value_counts().plot(kind='bar')"
   ]
  },
  {
   "cell_type": "code",
   "execution_count": 15,
   "metadata": {},
   "outputs": [
    {
     "data": {
      "text/plain": [
       "late        7263230\n",
       "not_late      31419\n",
       "Name: late_flight, dtype: int64"
      ]
     },
     "execution_count": 15,
     "metadata": {},
     "output_type": "execute_result"
    }
   ],
   "source": [
    "df_toTrain.late_flight.value_counts()"
   ]
  },
  {
   "cell_type": "markdown",
   "metadata": {},
   "source": [
    "**NOTE** Looks like a pretty imbalance distribution of target variable.  Will probably need to use SMOTE and create synthetic data for the minority class."
   ]
  },
  {
   "cell_type": "markdown",
   "metadata": {},
   "source": [
    "## Corrleations"
   ]
  },
  {
   "cell_type": "code",
   "execution_count": 16,
   "metadata": {},
   "outputs": [
    {
     "data": {
      "text/plain": [
       "Text(0.5, 1, 'Correlation Heatmap')"
      ]
     },
     "execution_count": 16,
     "metadata": {},
     "output_type": "execute_result"
    },
    {
     "data": {
      "image/png": "[encoded data removed]",
      "text/plain": [
       "<Figure size 936x648 with 2 Axes>"
      ]
     },
     "metadata": {
      "needs_background": "light"
     },
     "output_type": "display_data"
    }
   ],
   "source": [
    "# increase figure size\n",
    "plt.figure(figsize=(13, 9))\n",
    "heatmap = sns.heatmap(df_toTrain.corr(), vmin=-1, vmax=1, annot=True, cmap=\"YlGnBu\")\n",
    "\n",
    "# define title\n",
    "heatmap.set_title('Correlation Heatmap', fontdict={'fontsize':15}, pad=12)\n",
    "\n",
    "# ref. https://medium.com/@szabo.bibor/how-to-create-a-seaborn-correlation-heatmap-in-python-834c0686b88e"
   ]
  },
  {
   "cell_type": "markdown",
   "metadata": {},
   "source": [
    "**NOTE** Looks like high correlation between:\n",
    "  - `DEP_DELAY_no_outlier` :: `ARR_DELAY`, which could makes logical sense because if you are late departing, then you are likely to be late arriving\n",
    "  - `ACTUAL_ELAPSED_TIME` :: `DISTANCE` :: `AIR_TIME`, which make sense as each 3-variables are referencing same part of flight"
   ]
  },
  {
   "cell_type": "markdown",
   "metadata": {},
   "source": [
    "# 3.) Train Model"
   ]
  },
  {
   "cell_type": "code",
   "execution_count": 17,
   "metadata": {},
   "outputs": [
    {
     "name": "stdout",
     "output_type": "stream",
     "text": [
      "/opt/conda/lib/python3.7/site-packages/secretstorage/dhcrypto.py:16: CryptographyDeprecationWarning: int_from_bytes is deprecated, use int.from_bytes instead\n",
      "  from cryptography.utils import int_from_bytes\n",
      "/opt/conda/lib/python3.7/site-packages/secretstorage/util.py:25: CryptographyDeprecationWarning: int_from_bytes is deprecated, use int.from_bytes instead\n",
      "  from cryptography.utils import int_from_bytes\n"
     ]
    }
   ],
   "source": [
    "# Download PyCaret\n",
    "!pip install pycaret --quiet"
   ]
  },
  {
   "cell_type": "markdown",
   "metadata": {},
   "source": [
    "## a. Get the Data"
   ]
  },
  {
   "cell_type": "code",
   "execution_count": 18,
   "metadata": {},
   "outputs": [
    {
     "name": "stdout",
     "output_type": "stream",
     "text": [
      "Data for Modeling: (72946, 22)\n",
      "Unseen Data For Predictions: (7221703, 22)\n"
     ]
    }
   ],
   "source": [
    "data = df_toTrain.sample(frac=0.01, random_state=123)\n",
    "data_unseen = df.drop(data.index)\n",
    "\n",
    "data.reset_index(inplace=True, drop=True)\n",
    "data_unseen.reset_index(inplace=True, drop=True)\n",
    "\n",
    "print('Data for Modeling: ' + str(data.shape))\n",
    "print('Unseen Data For Predictions: ' + str(data_unseen.shape))"
   ]
  },
  {
   "cell_type": "markdown",
   "metadata": {},
   "source": [
    "## b. Setting Up Environment in PyCaret"
   ]
  },
  {
   "cell_type": "code",
   "execution_count": 19,
   "metadata": {},
   "outputs": [
    {
     "data": {
      "text/html": [
       "<style  type=\"text/css\" >\n",
       "#T_067df_row5_col1,#T_067df_row18_col1,#T_067df_row29_col1,#T_067df_row31_col1,#T_067df_row36_col1,#T_067df_row42_col1,#T_067df_row57_col1{\n",
       "            background-color:  lightgreen;\n",
       "        }</style><table id=\"T_067df_\" ><thead>    <tr>        <th class=\"blank level0\" ></th>        <th class=\"col_heading level0 col0\" >Description</th>        <th class=\"col_heading level0 col1\" >Value</th>    </tr></thead><tbody>\n",
       "                <tr>\n",
       "                        <th id=\"T_067df_level0_row0\" class=\"row_heading level0 row0\" >0</th>\n",
       "                        <td id=\"T_067df_row0_col0\" class=\"data row0 col0\" >session_id</td>\n",
       "                        <td id=\"T_067df_row0_col1\" class=\"data row0 col1\" >156</td>\n",
       "            </tr>\n",
       "            <tr>\n",
       "                        <th id=\"T_067df_level0_row1\" class=\"row_heading level0 row1\" >1</th>\n",
       "                        <td id=\"T_067df_row1_col0\" class=\"data row1 col0\" >Target</td>\n",
       "                        <td id=\"T_067df_row1_col1\" class=\"data row1 col1\" >late_flight</td>\n",
       "            </tr>\n",
       "            <tr>\n",
       "                        <th id=\"T_067df_level0_row2\" class=\"row_heading level0 row2\" >2</th>\n",
       "                        <td id=\"T_067df_row2_col0\" class=\"data row2 col0\" >Target Type</td>\n",
       "                        <td id=\"T_067df_row2_col1\" class=\"data row2 col1\" >Binary</td>\n",
       "            </tr>\n",
       "            <tr>\n",
       "                        <th id=\"T_067df_level0_row3\" class=\"row_heading level0 row3\" >3</th>\n",
       "                        <td id=\"T_067df_row3_col0\" class=\"data row3 col0\" >Label Encoded</td>\n",
       "                        <td id=\"T_067df_row3_col1\" class=\"data row3 col1\" >late: 0, not_late: 1</td>\n",
       "            </tr>\n",
       "            <tr>\n",
       "                        <th id=\"T_067df_level0_row4\" class=\"row_heading level0 row4\" >4</th>\n",
       "                        <td id=\"T_067df_row4_col0\" class=\"data row4 col0\" >Original Data</td>\n",
       "                        <td id=\"T_067df_row4_col1\" class=\"data row4 col1\" >(72946, 22)</td>\n",
       "            </tr>\n",
       "            <tr>\n",
       "                        <th id=\"T_067df_level0_row5\" class=\"row_heading level0 row5\" >5</th>\n",
       "                        <td id=\"T_067df_row5_col0\" class=\"data row5 col0\" >Missing Values</td>\n",
       "                        <td id=\"T_067df_row5_col1\" class=\"data row5 col1\" >True</td>\n",
       "            </tr>\n",
       "            <tr>\n",
       "                        <th id=\"T_067df_level0_row6\" class=\"row_heading level0 row6\" >6</th>\n",
       "                        <td id=\"T_067df_row6_col0\" class=\"data row6 col0\" >Numeric Features</td>\n",
       "                        <td id=\"T_067df_row6_col1\" class=\"data row6 col1\" >11</td>\n",
       "            </tr>\n",
       "            <tr>\n",
       "                        <th id=\"T_067df_level0_row7\" class=\"row_heading level0 row7\" >7</th>\n",
       "                        <td id=\"T_067df_row7_col0\" class=\"data row7 col0\" >Categorical Features</td>\n",
       "                        <td id=\"T_067df_row7_col1\" class=\"data row7 col1\" >4</td>\n",
       "            </tr>\n",
       "            <tr>\n",
       "                        <th id=\"T_067df_level0_row8\" class=\"row_heading level0 row8\" >8</th>\n",
       "                        <td id=\"T_067df_row8_col0\" class=\"data row8 col0\" >Ordinal Features</td>\n",
       "                        <td id=\"T_067df_row8_col1\" class=\"data row8 col1\" >False</td>\n",
       "            </tr>\n",
       "            <tr>\n",
       "                        <th id=\"T_067df_level0_row9\" class=\"row_heading level0 row9\" >9</th>\n",
       "                        <td id=\"T_067df_row9_col0\" class=\"data row9 col0\" >High Cardinality Features</td>\n",
       "                        <td id=\"T_067df_row9_col1\" class=\"data row9 col1\" >False</td>\n",
       "            </tr>\n",
       "            <tr>\n",
       "                        <th id=\"T_067df_level0_row10\" class=\"row_heading level0 row10\" >10</th>\n",
       "                        <td id=\"T_067df_row10_col0\" class=\"data row10 col0\" >High Cardinality Method</td>\n",
       "                        <td id=\"T_067df_row10_col1\" class=\"data row10 col1\" >None</td>\n",
       "            </tr>\n",
       "            <tr>\n",
       "                        <th id=\"T_067df_level0_row11\" class=\"row_heading level0 row11\" >11</th>\n",
       "                        <td id=\"T_067df_row11_col0\" class=\"data row11 col0\" >Transformed Train Set</td>\n",
       "                        <td id=\"T_067df_row11_col1\" class=\"data row11 col1\" >(51062, 339)</td>\n",
       "            </tr>\n",
       "            <tr>\n",
       "                        <th id=\"T_067df_level0_row12\" class=\"row_heading level0 row12\" >12</th>\n",
       "                        <td id=\"T_067df_row12_col0\" class=\"data row12 col0\" >Transformed Test Set</td>\n",
       "                        <td id=\"T_067df_row12_col1\" class=\"data row12 col1\" >(21884, 339)</td>\n",
       "            </tr>\n",
       "            <tr>\n",
       "                        <th id=\"T_067df_level0_row13\" class=\"row_heading level0 row13\" >13</th>\n",
       "                        <td id=\"T_067df_row13_col0\" class=\"data row13 col0\" >Shuffle Train-Test</td>\n",
       "                        <td id=\"T_067df_row13_col1\" class=\"data row13 col1\" >True</td>\n",
       "            </tr>\n",
       "            <tr>\n",
       "                        <th id=\"T_067df_level0_row14\" class=\"row_heading level0 row14\" >14</th>\n",
       "                        <td id=\"T_067df_row14_col0\" class=\"data row14 col0\" >Stratify Train-Test</td>\n",
       "                        <td id=\"T_067df_row14_col1\" class=\"data row14 col1\" >False</td>\n",
       "            </tr>\n",
       "            <tr>\n",
       "                        <th id=\"T_067df_level0_row15\" class=\"row_heading level0 row15\" >15</th>\n",
       "                        <td id=\"T_067df_row15_col0\" class=\"data row15 col0\" >Fold Generator</td>\n",
       "                        <td id=\"T_067df_row15_col1\" class=\"data row15 col1\" >StratifiedKFold</td>\n",
       "            </tr>\n",
       "            <tr>\n",
       "                        <th id=\"T_067df_level0_row16\" class=\"row_heading level0 row16\" >16</th>\n",
       "                        <td id=\"T_067df_row16_col0\" class=\"data row16 col0\" >Fold Number</td>\n",
       "                        <td id=\"T_067df_row16_col1\" class=\"data row16 col1\" >2</td>\n",
       "            </tr>\n",
       "            <tr>\n",
       "                        <th id=\"T_067df_level0_row17\" class=\"row_heading level0 row17\" >17</th>\n",
       "                        <td id=\"T_067df_row17_col0\" class=\"data row17 col0\" >CPU Jobs</td>\n",
       "                        <td id=\"T_067df_row17_col1\" class=\"data row17 col1\" >-1</td>\n",
       "            </tr>\n",
       "            <tr>\n",
       "                        <th id=\"T_067df_level0_row18\" class=\"row_heading level0 row18\" >18</th>\n",
       "                        <td id=\"T_067df_row18_col0\" class=\"data row18 col0\" >Use GPU</td>\n",
       "                        <td id=\"T_067df_row18_col1\" class=\"data row18 col1\" >True</td>\n",
       "            </tr>\n",
       "            <tr>\n",
       "                        <th id=\"T_067df_level0_row19\" class=\"row_heading level0 row19\" >19</th>\n",
       "                        <td id=\"T_067df_row19_col0\" class=\"data row19 col0\" >Log Experiment</td>\n",
       "                        <td id=\"T_067df_row19_col1\" class=\"data row19 col1\" >False</td>\n",
       "            </tr>\n",
       "            <tr>\n",
       "                        <th id=\"T_067df_level0_row20\" class=\"row_heading level0 row20\" >20</th>\n",
       "                        <td id=\"T_067df_row20_col0\" class=\"data row20 col0\" >Experiment Name</td>\n",
       "                        <td id=\"T_067df_row20_col1\" class=\"data row20 col1\" >clf-default-name</td>\n",
       "            </tr>\n",
       "            <tr>\n",
       "                        <th id=\"T_067df_level0_row21\" class=\"row_heading level0 row21\" >21</th>\n",
       "                        <td id=\"T_067df_row21_col0\" class=\"data row21 col0\" >USI</td>\n",
       "                        <td id=\"T_067df_row21_col1\" class=\"data row21 col1\" >040d</td>\n",
       "            </tr>\n",
       "            <tr>\n",
       "                        <th id=\"T_067df_level0_row22\" class=\"row_heading level0 row22\" >22</th>\n",
       "                        <td id=\"T_067df_row22_col0\" class=\"data row22 col0\" >Imputation Type</td>\n",
       "                        <td id=\"T_067df_row22_col1\" class=\"data row22 col1\" >simple</td>\n",
       "            </tr>\n",
       "            <tr>\n",
       "                        <th id=\"T_067df_level0_row23\" class=\"row_heading level0 row23\" >23</th>\n",
       "                        <td id=\"T_067df_row23_col0\" class=\"data row23 col0\" >Iterative Imputation Iteration</td>\n",
       "                        <td id=\"T_067df_row23_col1\" class=\"data row23 col1\" >None</td>\n",
       "            </tr>\n",
       "            <tr>\n",
       "                        <th id=\"T_067df_level0_row24\" class=\"row_heading level0 row24\" >24</th>\n",
       "                        <td id=\"T_067df_row24_col0\" class=\"data row24 col0\" >Numeric Imputer</td>\n",
       "                        <td id=\"T_067df_row24_col1\" class=\"data row24 col1\" >mean</td>\n",
       "            </tr>\n",
       "            <tr>\n",
       "                        <th id=\"T_067df_level0_row25\" class=\"row_heading level0 row25\" >25</th>\n",
       "                        <td id=\"T_067df_row25_col0\" class=\"data row25 col0\" >Iterative Imputation Numeric Model</td>\n",
       "                        <td id=\"T_067df_row25_col1\" class=\"data row25 col1\" >None</td>\n",
       "            </tr>\n",
       "            <tr>\n",
       "                        <th id=\"T_067df_level0_row26\" class=\"row_heading level0 row26\" >26</th>\n",
       "                        <td id=\"T_067df_row26_col0\" class=\"data row26 col0\" >Categorical Imputer</td>\n",
       "                        <td id=\"T_067df_row26_col1\" class=\"data row26 col1\" >constant</td>\n",
       "            </tr>\n",
       "            <tr>\n",
       "                        <th id=\"T_067df_level0_row27\" class=\"row_heading level0 row27\" >27</th>\n",
       "                        <td id=\"T_067df_row27_col0\" class=\"data row27 col0\" >Iterative Imputation Categorical Model</td>\n",
       "                        <td id=\"T_067df_row27_col1\" class=\"data row27 col1\" >None</td>\n",
       "            </tr>\n",
       "            <tr>\n",
       "                        <th id=\"T_067df_level0_row28\" class=\"row_heading level0 row28\" >28</th>\n",
       "                        <td id=\"T_067df_row28_col0\" class=\"data row28 col0\" >Unknown Categoricals Handling</td>\n",
       "                        <td id=\"T_067df_row28_col1\" class=\"data row28 col1\" >least_frequent</td>\n",
       "            </tr>\n",
       "            <tr>\n",
       "                        <th id=\"T_067df_level0_row29\" class=\"row_heading level0 row29\" >29</th>\n",
       "                        <td id=\"T_067df_row29_col0\" class=\"data row29 col0\" >Normalize</td>\n",
       "                        <td id=\"T_067df_row29_col1\" class=\"data row29 col1\" >True</td>\n",
       "            </tr>\n",
       "            <tr>\n",
       "                        <th id=\"T_067df_level0_row30\" class=\"row_heading level0 row30\" >30</th>\n",
       "                        <td id=\"T_067df_row30_col0\" class=\"data row30 col0\" >Normalize Method</td>\n",
       "                        <td id=\"T_067df_row30_col1\" class=\"data row30 col1\" >zscore</td>\n",
       "            </tr>\n",
       "            <tr>\n",
       "                        <th id=\"T_067df_level0_row31\" class=\"row_heading level0 row31\" >31</th>\n",
       "                        <td id=\"T_067df_row31_col0\" class=\"data row31 col0\" >Transformation</td>\n",
       "                        <td id=\"T_067df_row31_col1\" class=\"data row31 col1\" >True</td>\n",
       "            </tr>\n",
       "            <tr>\n",
       "                        <th id=\"T_067df_level0_row32\" class=\"row_heading level0 row32\" >32</th>\n",
       "                        <td id=\"T_067df_row32_col0\" class=\"data row32 col0\" >Transformation Method</td>\n",
       "                        <td id=\"T_067df_row32_col1\" class=\"data row32 col1\" >yeo-johnson</td>\n",
       "            </tr>\n",
       "            <tr>\n",
       "                        <th id=\"T_067df_level0_row33\" class=\"row_heading level0 row33\" >33</th>\n",
       "                        <td id=\"T_067df_row33_col0\" class=\"data row33 col0\" >PCA</td>\n",
       "                        <td id=\"T_067df_row33_col1\" class=\"data row33 col1\" >False</td>\n",
       "            </tr>\n",
       "            <tr>\n",
       "                        <th id=\"T_067df_level0_row34\" class=\"row_heading level0 row34\" >34</th>\n",
       "                        <td id=\"T_067df_row34_col0\" class=\"data row34 col0\" >PCA Method</td>\n",
       "                        <td id=\"T_067df_row34_col1\" class=\"data row34 col1\" >None</td>\n",
       "            </tr>\n",
       "            <tr>\n",
       "                        <th id=\"T_067df_level0_row35\" class=\"row_heading level0 row35\" >35</th>\n",
       "                        <td id=\"T_067df_row35_col0\" class=\"data row35 col0\" >PCA Components</td>\n",
       "                        <td id=\"T_067df_row35_col1\" class=\"data row35 col1\" >None</td>\n",
       "            </tr>\n",
       "            <tr>\n",
       "                        <th id=\"T_067df_level0_row36\" class=\"row_heading level0 row36\" >36</th>\n",
       "                        <td id=\"T_067df_row36_col0\" class=\"data row36 col0\" >Ignore Low Variance</td>\n",
       "                        <td id=\"T_067df_row36_col1\" class=\"data row36 col1\" >True</td>\n",
       "            </tr>\n",
       "            <tr>\n",
       "                        <th id=\"T_067df_level0_row37\" class=\"row_heading level0 row37\" >37</th>\n",
       "                        <td id=\"T_067df_row37_col0\" class=\"data row37 col0\" >Combine Rare Levels</td>\n",
       "                        <td id=\"T_067df_row37_col1\" class=\"data row37 col1\" >False</td>\n",
       "            </tr>\n",
       "            <tr>\n",
       "                        <th id=\"T_067df_level0_row38\" class=\"row_heading level0 row38\" >38</th>\n",
       "                        <td id=\"T_067df_row38_col0\" class=\"data row38 col0\" >Rare Level Threshold</td>\n",
       "                        <td id=\"T_067df_row38_col1\" class=\"data row38 col1\" >None</td>\n",
       "            </tr>\n",
       "            <tr>\n",
       "                        <th id=\"T_067df_level0_row39\" class=\"row_heading level0 row39\" >39</th>\n",
       "                        <td id=\"T_067df_row39_col0\" class=\"data row39 col0\" >Numeric Binning</td>\n",
       "                        <td id=\"T_067df_row39_col1\" class=\"data row39 col1\" >False</td>\n",
       "            </tr>\n",
       "            <tr>\n",
       "                        <th id=\"T_067df_level0_row40\" class=\"row_heading level0 row40\" >40</th>\n",
       "                        <td id=\"T_067df_row40_col0\" class=\"data row40 col0\" >Remove Outliers</td>\n",
       "                        <td id=\"T_067df_row40_col1\" class=\"data row40 col1\" >False</td>\n",
       "            </tr>\n",
       "            <tr>\n",
       "                        <th id=\"T_067df_level0_row41\" class=\"row_heading level0 row41\" >41</th>\n",
       "                        <td id=\"T_067df_row41_col0\" class=\"data row41 col0\" >Outliers Threshold</td>\n",
       "                        <td id=\"T_067df_row41_col1\" class=\"data row41 col1\" >None</td>\n",
       "            </tr>\n",
       "            <tr>\n",
       "                        <th id=\"T_067df_level0_row42\" class=\"row_heading level0 row42\" >42</th>\n",
       "                        <td id=\"T_067df_row42_col0\" class=\"data row42 col0\" >Remove Multicollinearity</td>\n",
       "                        <td id=\"T_067df_row42_col1\" class=\"data row42 col1\" >True</td>\n",
       "            </tr>\n",
       "            <tr>\n",
       "                        <th id=\"T_067df_level0_row43\" class=\"row_heading level0 row43\" >43</th>\n",
       "                        <td id=\"T_067df_row43_col0\" class=\"data row43 col0\" >Multicollinearity Threshold</td>\n",
       "                        <td id=\"T_067df_row43_col1\" class=\"data row43 col1\" >0.950000</td>\n",
       "            </tr>\n",
       "            <tr>\n",
       "                        <th id=\"T_067df_level0_row44\" class=\"row_heading level0 row44\" >44</th>\n",
       "                        <td id=\"T_067df_row44_col0\" class=\"data row44 col0\" >Clustering</td>\n",
       "                        <td id=\"T_067df_row44_col1\" class=\"data row44 col1\" >False</td>\n",
       "            </tr>\n",
       "            <tr>\n",
       "                        <th id=\"T_067df_level0_row45\" class=\"row_heading level0 row45\" >45</th>\n",
       "                        <td id=\"T_067df_row45_col0\" class=\"data row45 col0\" >Clustering Iteration</td>\n",
       "                        <td id=\"T_067df_row45_col1\" class=\"data row45 col1\" >None</td>\n",
       "            </tr>\n",
       "            <tr>\n",
       "                        <th id=\"T_067df_level0_row46\" class=\"row_heading level0 row46\" >46</th>\n",
       "                        <td id=\"T_067df_row46_col0\" class=\"data row46 col0\" >Polynomial Features</td>\n",
       "                        <td id=\"T_067df_row46_col1\" class=\"data row46 col1\" >False</td>\n",
       "            </tr>\n",
       "            <tr>\n",
       "                        <th id=\"T_067df_level0_row47\" class=\"row_heading level0 row47\" >47</th>\n",
       "                        <td id=\"T_067df_row47_col0\" class=\"data row47 col0\" >Polynomial Degree</td>\n",
       "                        <td id=\"T_067df_row47_col1\" class=\"data row47 col1\" >None</td>\n",
       "            </tr>\n",
       "            <tr>\n",
       "                        <th id=\"T_067df_level0_row48\" class=\"row_heading level0 row48\" >48</th>\n",
       "                        <td id=\"T_067df_row48_col0\" class=\"data row48 col0\" >Trignometry Features</td>\n",
       "                        <td id=\"T_067df_row48_col1\" class=\"data row48 col1\" >False</td>\n",
       "            </tr>\n",
       "            <tr>\n",
       "                        <th id=\"T_067df_level0_row49\" class=\"row_heading level0 row49\" >49</th>\n",
       "                        <td id=\"T_067df_row49_col0\" class=\"data row49 col0\" >Polynomial Threshold</td>\n",
       "                        <td id=\"T_067df_row49_col1\" class=\"data row49 col1\" >None</td>\n",
       "            </tr>\n",
       "            <tr>\n",
       "                        <th id=\"T_067df_level0_row50\" class=\"row_heading level0 row50\" >50</th>\n",
       "                        <td id=\"T_067df_row50_col0\" class=\"data row50 col0\" >Group Features</td>\n",
       "                        <td id=\"T_067df_row50_col1\" class=\"data row50 col1\" >False</td>\n",
       "            </tr>\n",
       "            <tr>\n",
       "                        <th id=\"T_067df_level0_row51\" class=\"row_heading level0 row51\" >51</th>\n",
       "                        <td id=\"T_067df_row51_col0\" class=\"data row51 col0\" >Feature Selection</td>\n",
       "                        <td id=\"T_067df_row51_col1\" class=\"data row51 col1\" >False</td>\n",
       "            </tr>\n",
       "            <tr>\n",
       "                        <th id=\"T_067df_level0_row52\" class=\"row_heading level0 row52\" >52</th>\n",
       "                        <td id=\"T_067df_row52_col0\" class=\"data row52 col0\" >Feature Selection Method</td>\n",
       "                        <td id=\"T_067df_row52_col1\" class=\"data row52 col1\" >classic</td>\n",
       "            </tr>\n",
       "            <tr>\n",
       "                        <th id=\"T_067df_level0_row53\" class=\"row_heading level0 row53\" >53</th>\n",
       "                        <td id=\"T_067df_row53_col0\" class=\"data row53 col0\" >Features Selection Threshold</td>\n",
       "                        <td id=\"T_067df_row53_col1\" class=\"data row53 col1\" >None</td>\n",
       "            </tr>\n",
       "            <tr>\n",
       "                        <th id=\"T_067df_level0_row54\" class=\"row_heading level0 row54\" >54</th>\n",
       "                        <td id=\"T_067df_row54_col0\" class=\"data row54 col0\" >Feature Interaction</td>\n",
       "                        <td id=\"T_067df_row54_col1\" class=\"data row54 col1\" >False</td>\n",
       "            </tr>\n",
       "            <tr>\n",
       "                        <th id=\"T_067df_level0_row55\" class=\"row_heading level0 row55\" >55</th>\n",
       "                        <td id=\"T_067df_row55_col0\" class=\"data row55 col0\" >Feature Ratio</td>\n",
       "                        <td id=\"T_067df_row55_col1\" class=\"data row55 col1\" >False</td>\n",
       "            </tr>\n",
       "            <tr>\n",
       "                        <th id=\"T_067df_level0_row56\" class=\"row_heading level0 row56\" >56</th>\n",
       "                        <td id=\"T_067df_row56_col0\" class=\"data row56 col0\" >Interaction Threshold</td>\n",
       "                        <td id=\"T_067df_row56_col1\" class=\"data row56 col1\" >None</td>\n",
       "            </tr>\n",
       "            <tr>\n",
       "                        <th id=\"T_067df_level0_row57\" class=\"row_heading level0 row57\" >57</th>\n",
       "                        <td id=\"T_067df_row57_col0\" class=\"data row57 col0\" >Fix Imbalance</td>\n",
       "                        <td id=\"T_067df_row57_col1\" class=\"data row57 col1\" >True</td>\n",
       "            </tr>\n",
       "            <tr>\n",
       "                        <th id=\"T_067df_level0_row58\" class=\"row_heading level0 row58\" >58</th>\n",
       "                        <td id=\"T_067df_row58_col0\" class=\"data row58 col0\" >Fix Imbalance Method</td>\n",
       "                        <td id=\"T_067df_row58_col1\" class=\"data row58 col1\" >SMOTE</td>\n",
       "            </tr>\n",
       "    </tbody></table>"
      ],
      "text/plain": [
       "<pandas.io.formats.style.Styler at 0x7fe751076710>"
      ]
     },
     "metadata": {},
     "output_type": "display_data"
    }
   ],
   "source": [
    "from pycaret.classification import *\n",
    "exp = setup(data = data, \n",
    "            numeric_features = ['YEAR', 'MONTH','DAY','DAY_OF_WEEK'],\n",
    "            ignore_features = ['DEP_DELAY', 'ARR_DELAY', 'AIR_TIME', 'ACTUAL_ELAPSED_TIME', 'ARR_TIME'],\n",
    "            target = 'late_flight',\n",
    "            fix_imbalance = True,\n",
    "            normalize = True,\n",
    "            transformation = True,\n",
    "            ignore_low_variance = True,\n",
    "            remove_multicollinearity = True,\n",
    "            multicollinearity_threshold = 0.95,\n",
    "            use_gpu = True,\n",
    "            fold = 2\n",
    "           )"
   ]
  },
  {
   "cell_type": "markdown",
   "metadata": {},
   "source": [
    "## c. Comparing all models"
   ]
  },
  {
   "cell_type": "code",
   "execution_count": 20,
   "metadata": {},
   "outputs": [
    {
     "data": {
      "text/html": [
       "<style  type=\"text/css\" >\n",
       "    #T_545b5_ th {\n",
       "          text-align: left;\n",
       "    }#T_545b5_row0_col0,#T_545b5_row0_col2,#T_545b5_row0_col3,#T_545b5_row0_col4,#T_545b5_row0_col5,#T_545b5_row0_col6,#T_545b5_row0_col7,#T_545b5_row1_col0,#T_545b5_row1_col1,#T_545b5_row1_col2,#T_545b5_row1_col3,#T_545b5_row1_col4,#T_545b5_row1_col5,#T_545b5_row1_col6,#T_545b5_row1_col7,#T_545b5_row2_col0,#T_545b5_row2_col1,#T_545b5_row2_col2,#T_545b5_row2_col3,#T_545b5_row2_col4,#T_545b5_row2_col5,#T_545b5_row2_col6,#T_545b5_row2_col7,#T_545b5_row3_col0,#T_545b5_row3_col1,#T_545b5_row3_col2,#T_545b5_row3_col3,#T_545b5_row3_col5,#T_545b5_row3_col6,#T_545b5_row3_col7,#T_545b5_row4_col0,#T_545b5_row4_col1,#T_545b5_row4_col2,#T_545b5_row4_col3,#T_545b5_row4_col4,#T_545b5_row4_col5,#T_545b5_row4_col6,#T_545b5_row4_col7,#T_545b5_row5_col0,#T_545b5_row5_col1,#T_545b5_row5_col2,#T_545b5_row5_col3,#T_545b5_row5_col4,#T_545b5_row5_col5,#T_545b5_row5_col6,#T_545b5_row5_col7,#T_545b5_row6_col0,#T_545b5_row6_col1,#T_545b5_row6_col3,#T_545b5_row6_col4,#T_545b5_row6_col7,#T_545b5_row7_col0,#T_545b5_row7_col1,#T_545b5_row7_col2,#T_545b5_row7_col3,#T_545b5_row7_col4,#T_545b5_row7_col5,#T_545b5_row7_col6,#T_545b5_row7_col7,#T_545b5_row8_col0,#T_545b5_row8_col1,#T_545b5_row8_col2,#T_545b5_row8_col4,#T_545b5_row8_col5,#T_545b5_row8_col6,#T_545b5_row9_col0,#T_545b5_row9_col1,#T_545b5_row9_col2,#T_545b5_row9_col3,#T_545b5_row9_col4,#T_545b5_row9_col5,#T_545b5_row9_col6,#T_545b5_row9_col7,#T_545b5_row10_col0,#T_545b5_row10_col1,#T_545b5_row10_col2,#T_545b5_row10_col3,#T_545b5_row10_col4,#T_545b5_row10_col5,#T_545b5_row10_col6,#T_545b5_row10_col7,#T_545b5_row11_col0,#T_545b5_row11_col1,#T_545b5_row11_col2,#T_545b5_row11_col3,#T_545b5_row11_col4,#T_545b5_row11_col5,#T_545b5_row11_col6,#T_545b5_row11_col7,#T_545b5_row12_col0,#T_545b5_row12_col1,#T_545b5_row12_col2,#T_545b5_row12_col3,#T_545b5_row12_col4,#T_545b5_row12_col5,#T_545b5_row12_col6,#T_545b5_row12_col7{\n",
       "            text-align:  left;\n",
       "            text-align:  left;\n",
       "        }#T_545b5_row0_col1,#T_545b5_row3_col4,#T_545b5_row6_col2,#T_545b5_row6_col5,#T_545b5_row6_col6,#T_545b5_row8_col3,#T_545b5_row8_col7{\n",
       "            text-align:  left;\n",
       "            text-align:  left;\n",
       "            background-color:  yellow;\n",
       "        }#T_545b5_row0_col8,#T_545b5_row1_col8,#T_545b5_row2_col8,#T_545b5_row3_col8,#T_545b5_row4_col8,#T_545b5_row5_col8,#T_545b5_row6_col8,#T_545b5_row8_col8,#T_545b5_row9_col8,#T_545b5_row10_col8,#T_545b5_row11_col8,#T_545b5_row12_col8{\n",
       "            text-align:  left;\n",
       "            text-align:  left;\n",
       "            background-color:  lightgrey;\n",
       "        }#T_545b5_row7_col8{\n",
       "            text-align:  left;\n",
       "            text-align:  left;\n",
       "            background-color:  yellow;\n",
       "            background-color:  lightgrey;\n",
       "        }</style><table id=\"T_545b5_\" ><thead>    <tr>        <th class=\"blank level0\" ></th>        <th class=\"col_heading level0 col0\" >Model</th>        <th class=\"col_heading level0 col1\" >Accuracy</th>        <th class=\"col_heading level0 col2\" >AUC</th>        <th class=\"col_heading level0 col3\" >Recall</th>        <th class=\"col_heading level0 col4\" >Prec.</th>        <th class=\"col_heading level0 col5\" >F1</th>        <th class=\"col_heading level0 col6\" >Kappa</th>        <th class=\"col_heading level0 col7\" >MCC</th>        <th class=\"col_heading level0 col8\" >TT (Sec)</th>    </tr></thead><tbody>\n",
       "                <tr>\n",
       "                        <th id=\"T_545b5_level0_row0\" class=\"row_heading level0 row0\" >rf</th>\n",
       "                        <td id=\"T_545b5_row0_col0\" class=\"data row0 col0\" >Random Forest Classifier</td>\n",
       "                        <td id=\"T_545b5_row0_col1\" class=\"data row0 col1\" >0.9955</td>\n",
       "                        <td id=\"T_545b5_row0_col2\" class=\"data row0 col2\" >0.9119</td>\n",
       "                        <td id=\"T_545b5_row0_col3\" class=\"data row0 col3\" >0.0000</td>\n",
       "                        <td id=\"T_545b5_row0_col4\" class=\"data row0 col4\" >0.0000</td>\n",
       "                        <td id=\"T_545b5_row0_col5\" class=\"data row0 col5\" >0.0000</td>\n",
       "                        <td id=\"T_545b5_row0_col6\" class=\"data row0 col6\" >-0.0001</td>\n",
       "                        <td id=\"T_545b5_row0_col7\" class=\"data row0 col7\" >-0.0005</td>\n",
       "                        <td id=\"T_545b5_row0_col8\" class=\"data row0 col8\" >13.6400</td>\n",
       "            </tr>\n",
       "            <tr>\n",
       "                        <th id=\"T_545b5_level0_row1\" class=\"row_heading level0 row1\" >et</th>\n",
       "                        <td id=\"T_545b5_row1_col0\" class=\"data row1 col0\" >Extra Trees Classifier</td>\n",
       "                        <td id=\"T_545b5_row1_col1\" class=\"data row1 col1\" >0.9954</td>\n",
       "                        <td id=\"T_545b5_row1_col2\" class=\"data row1 col2\" >0.7620</td>\n",
       "                        <td id=\"T_545b5_row1_col3\" class=\"data row1 col3\" >0.0000</td>\n",
       "                        <td id=\"T_545b5_row1_col4\" class=\"data row1 col4\" >0.0000</td>\n",
       "                        <td id=\"T_545b5_row1_col5\" class=\"data row1 col5\" >0.0000</td>\n",
       "                        <td id=\"T_545b5_row1_col6\" class=\"data row1 col6\" >-0.0004</td>\n",
       "                        <td id=\"T_545b5_row1_col7\" class=\"data row1 col7\" >-0.0009</td>\n",
       "                        <td id=\"T_545b5_row1_col8\" class=\"data row1 col8\" >19.0600</td>\n",
       "            </tr>\n",
       "            <tr>\n",
       "                        <th id=\"T_545b5_level0_row2\" class=\"row_heading level0 row2\" >lightgbm</th>\n",
       "                        <td id=\"T_545b5_row2_col0\" class=\"data row2 col0\" >Light Gradient Boosting Machine</td>\n",
       "                        <td id=\"T_545b5_row2_col1\" class=\"data row2 col1\" >0.9941</td>\n",
       "                        <td id=\"T_545b5_row2_col2\" class=\"data row2 col2\" >0.9674</td>\n",
       "                        <td id=\"T_545b5_row2_col3\" class=\"data row2 col3\" >0.0000</td>\n",
       "                        <td id=\"T_545b5_row2_col4\" class=\"data row2 col4\" >0.0000</td>\n",
       "                        <td id=\"T_545b5_row2_col5\" class=\"data row2 col5\" >0.0000</td>\n",
       "                        <td id=\"T_545b5_row2_col6\" class=\"data row2 col6\" >-0.0023</td>\n",
       "                        <td id=\"T_545b5_row2_col7\" class=\"data row2 col7\" >-0.0026</td>\n",
       "                        <td id=\"T_545b5_row2_col8\" class=\"data row2 col8\" >3.4200</td>\n",
       "            </tr>\n",
       "            <tr>\n",
       "                        <th id=\"T_545b5_level0_row3\" class=\"row_heading level0 row3\" >dt</th>\n",
       "                        <td id=\"T_545b5_row3_col0\" class=\"data row3 col0\" >Decision Tree Classifier</td>\n",
       "                        <td id=\"T_545b5_row3_col1\" class=\"data row3 col1\" >0.9923</td>\n",
       "                        <td id=\"T_545b5_row3_col2\" class=\"data row3 col2\" >0.5497</td>\n",
       "                        <td id=\"T_545b5_row3_col3\" class=\"data row3 col3\" >0.1031</td>\n",
       "                        <td id=\"T_545b5_row3_col4\" class=\"data row3 col4\" >0.1087</td>\n",
       "                        <td id=\"T_545b5_row3_col5\" class=\"data row3 col5\" >0.1058</td>\n",
       "                        <td id=\"T_545b5_row3_col6\" class=\"data row3 col6\" >0.1019</td>\n",
       "                        <td id=\"T_545b5_row3_col7\" class=\"data row3 col7\" >0.1020</td>\n",
       "                        <td id=\"T_545b5_row3_col8\" class=\"data row3 col8\" >22.6600</td>\n",
       "            </tr>\n",
       "            <tr>\n",
       "                        <th id=\"T_545b5_level0_row4\" class=\"row_heading level0 row4\" >qda</th>\n",
       "                        <td id=\"T_545b5_row4_col0\" class=\"data row4 col0\" >Quadratic Discriminant Analysis</td>\n",
       "                        <td id=\"T_545b5_row4_col1\" class=\"data row4 col1\" >0.9806</td>\n",
       "                        <td id=\"T_545b5_row4_col2\" class=\"data row4 col2\" >0.6054</td>\n",
       "                        <td id=\"T_545b5_row4_col3\" class=\"data row4 col3\" >0.2268</td>\n",
       "                        <td id=\"T_545b5_row4_col4\" class=\"data row4 col4\" >0.0591</td>\n",
       "                        <td id=\"T_545b5_row4_col5\" class=\"data row4 col5\" >0.0938</td>\n",
       "                        <td id=\"T_545b5_row4_col6\" class=\"data row4 col6\" >0.0874</td>\n",
       "                        <td id=\"T_545b5_row4_col7\" class=\"data row4 col7\" >0.1083</td>\n",
       "                        <td id=\"T_545b5_row4_col8\" class=\"data row4 col8\" >3.4800</td>\n",
       "            </tr>\n",
       "            <tr>\n",
       "                        <th id=\"T_545b5_level0_row5\" class=\"row_heading level0 row5\" >knn</th>\n",
       "                        <td id=\"T_545b5_row5_col0\" class=\"data row5 col0\" >K Neighbors Classifier</td>\n",
       "                        <td id=\"T_545b5_row5_col1\" class=\"data row5 col1\" >0.9618</td>\n",
       "                        <td id=\"T_545b5_row5_col2\" class=\"data row5 col2\" >0.6035</td>\n",
       "                        <td id=\"T_545b5_row5_col3\" class=\"data row5 col3\" >0.1753</td>\n",
       "                        <td id=\"T_545b5_row5_col4\" class=\"data row5 col4\" >0.0220</td>\n",
       "                        <td id=\"T_545b5_row5_col5\" class=\"data row5 col5\" >0.0391</td>\n",
       "                        <td id=\"T_545b5_row5_col6\" class=\"data row5 col6\" >0.0315</td>\n",
       "                        <td id=\"T_545b5_row5_col7\" class=\"data row5 col7\" >0.0506</td>\n",
       "                        <td id=\"T_545b5_row5_col8\" class=\"data row5 col8\" >12.8900</td>\n",
       "            </tr>\n",
       "            <tr>\n",
       "                        <th id=\"T_545b5_level0_row6\" class=\"row_heading level0 row6\" >ada</th>\n",
       "                        <td id=\"T_545b5_row6_col0\" class=\"data row6 col0\" >Ada Boost Classifier</td>\n",
       "                        <td id=\"T_545b5_row6_col1\" class=\"data row6 col1\" >0.9491</td>\n",
       "                        <td id=\"T_545b5_row6_col2\" class=\"data row6 col2\" >0.9694</td>\n",
       "                        <td id=\"T_545b5_row6_col3\" class=\"data row6 col3\" >0.7320</td>\n",
       "                        <td id=\"T_545b5_row6_col4\" class=\"data row6 col4\" >0.0613</td>\n",
       "                        <td id=\"T_545b5_row6_col5\" class=\"data row6 col5\" >0.1131</td>\n",
       "                        <td id=\"T_545b5_row6_col6\" class=\"data row6 col6\" >0.1058</td>\n",
       "                        <td id=\"T_545b5_row6_col7\" class=\"data row6 col7\" >0.2024</td>\n",
       "                        <td id=\"T_545b5_row6_col8\" class=\"data row6 col8\" >14.7400</td>\n",
       "            </tr>\n",
       "            <tr>\n",
       "                        <th id=\"T_545b5_level0_row7\" class=\"row_heading level0 row7\" >nb</th>\n",
       "                        <td id=\"T_545b5_row7_col0\" class=\"data row7 col0\" >Naive Bayes</td>\n",
       "                        <td id=\"T_545b5_row7_col1\" class=\"data row7 col1\" >0.9449</td>\n",
       "                        <td id=\"T_545b5_row7_col2\" class=\"data row7 col2\" >0.8286</td>\n",
       "                        <td id=\"T_545b5_row7_col3\" class=\"data row7 col3\" >0.7113</td>\n",
       "                        <td id=\"T_545b5_row7_col4\" class=\"data row7 col4\" >0.0553</td>\n",
       "                        <td id=\"T_545b5_row7_col5\" class=\"data row7 col5\" >0.1027</td>\n",
       "                        <td id=\"T_545b5_row7_col6\" class=\"data row7 col6\" >0.0952</td>\n",
       "                        <td id=\"T_545b5_row7_col7\" class=\"data row7 col7\" >0.1884</td>\n",
       "                        <td id=\"T_545b5_row7_col8\" class=\"data row7 col8\" >0.8500</td>\n",
       "            </tr>\n",
       "            <tr>\n",
       "                        <th id=\"T_545b5_level0_row8\" class=\"row_heading level0 row8\" >gbc</th>\n",
       "                        <td id=\"T_545b5_row8_col0\" class=\"data row8 col0\" >Gradient Boosting Classifier</td>\n",
       "                        <td id=\"T_545b5_row8_col1\" class=\"data row8 col1\" >0.9406</td>\n",
       "                        <td id=\"T_545b5_row8_col2\" class=\"data row8 col2\" >0.9665</td>\n",
       "                        <td id=\"T_545b5_row8_col3\" class=\"data row8 col3\" >0.8041</td>\n",
       "                        <td id=\"T_545b5_row8_col4\" class=\"data row8 col4\" >0.0574</td>\n",
       "                        <td id=\"T_545b5_row8_col5\" class=\"data row8 col5\" >0.1072</td>\n",
       "                        <td id=\"T_545b5_row8_col6\" class=\"data row8 col6\" >0.0998</td>\n",
       "                        <td id=\"T_545b5_row8_col7\" class=\"data row8 col7\" >0.2052</td>\n",
       "                        <td id=\"T_545b5_row8_col8\" class=\"data row8 col8\" >65.7800</td>\n",
       "            </tr>\n",
       "            <tr>\n",
       "                        <th id=\"T_545b5_level0_row9\" class=\"row_heading level0 row9\" >lr</th>\n",
       "                        <td id=\"T_545b5_row9_col0\" class=\"data row9 col0\" >Logistic Regression</td>\n",
       "                        <td id=\"T_545b5_row9_col1\" class=\"data row9 col1\" >0.8860</td>\n",
       "                        <td id=\"T_545b5_row9_col2\" class=\"data row9 col2\" >0.7789</td>\n",
       "                        <td id=\"T_545b5_row9_col3\" class=\"data row9 col3\" >0.4124</td>\n",
       "                        <td id=\"T_545b5_row9_col4\" class=\"data row9 col4\" >0.0161</td>\n",
       "                        <td id=\"T_545b5_row9_col5\" class=\"data row9 col5\" >0.0311</td>\n",
       "                        <td id=\"T_545b5_row9_col6\" class=\"data row9 col6\" >0.0227</td>\n",
       "                        <td id=\"T_545b5_row9_col7\" class=\"data row9 col7\" >0.0630</td>\n",
       "                        <td id=\"T_545b5_row9_col8\" class=\"data row9 col8\" >15.6000</td>\n",
       "            </tr>\n",
       "            <tr>\n",
       "                        <th id=\"T_545b5_level0_row10\" class=\"row_heading level0 row10\" >svm</th>\n",
       "                        <td id=\"T_545b5_row10_col0\" class=\"data row10 col0\" >SVM - Linear Kernel</td>\n",
       "                        <td id=\"T_545b5_row10_col1\" class=\"data row10 col1\" >0.8686</td>\n",
       "                        <td id=\"T_545b5_row10_col2\" class=\"data row10 col2\" >0.6979</td>\n",
       "                        <td id=\"T_545b5_row10_col3\" class=\"data row10 col3\" >0.5258</td>\n",
       "                        <td id=\"T_545b5_row10_col4\" class=\"data row10 col4\" >0.0177</td>\n",
       "                        <td id=\"T_545b5_row10_col5\" class=\"data row10 col5\" >0.0343</td>\n",
       "                        <td id=\"T_545b5_row10_col6\" class=\"data row10 col6\" >0.0259</td>\n",
       "                        <td id=\"T_545b5_row10_col7\" class=\"data row10 col7\" >0.0778</td>\n",
       "                        <td id=\"T_545b5_row10_col8\" class=\"data row10 col8\" >1.9900</td>\n",
       "            </tr>\n",
       "            <tr>\n",
       "                        <th id=\"T_545b5_level0_row11\" class=\"row_heading level0 row11\" >ridge</th>\n",
       "                        <td id=\"T_545b5_row11_col0\" class=\"data row11 col0\" >Ridge Classifier</td>\n",
       "                        <td id=\"T_545b5_row11_col1\" class=\"data row11 col1\" >0.8680</td>\n",
       "                        <td id=\"T_545b5_row11_col2\" class=\"data row11 col2\" >0.7285</td>\n",
       "                        <td id=\"T_545b5_row11_col3\" class=\"data row11 col3\" >0.5876</td>\n",
       "                        <td id=\"T_545b5_row11_col4\" class=\"data row11 col4\" >0.0196</td>\n",
       "                        <td id=\"T_545b5_row11_col5\" class=\"data row11 col5\" >0.0380</td>\n",
       "                        <td id=\"T_545b5_row11_col6\" class=\"data row11 col6\" >0.0297</td>\n",
       "                        <td id=\"T_545b5_row11_col7\" class=\"data row11 col7\" >0.0895</td>\n",
       "                        <td id=\"T_545b5_row11_col8\" class=\"data row11 col8\" >1.1300</td>\n",
       "            </tr>\n",
       "            <tr>\n",
       "                        <th id=\"T_545b5_level0_row12\" class=\"row_heading level0 row12\" >lda</th>\n",
       "                        <td id=\"T_545b5_row12_col0\" class=\"data row12 col0\" >Linear Discriminant Analysis</td>\n",
       "                        <td id=\"T_545b5_row12_col1\" class=\"data row12 col1\" >0.8680</td>\n",
       "                        <td id=\"T_545b5_row12_col2\" class=\"data row12 col2\" >0.7912</td>\n",
       "                        <td id=\"T_545b5_row12_col3\" class=\"data row12 col3\" >0.5876</td>\n",
       "                        <td id=\"T_545b5_row12_col4\" class=\"data row12 col4\" >0.0196</td>\n",
       "                        <td id=\"T_545b5_row12_col5\" class=\"data row12 col5\" >0.0380</td>\n",
       "                        <td id=\"T_545b5_row12_col6\" class=\"data row12 col6\" >0.0296</td>\n",
       "                        <td id=\"T_545b5_row12_col7\" class=\"data row12 col7\" >0.0894</td>\n",
       "                        <td id=\"T_545b5_row12_col8\" class=\"data row12 col8\" >5.5100</td>\n",
       "            </tr>\n",
       "    </tbody></table>"
      ],
      "text/plain": [
       "<pandas.io.formats.style.Styler at 0x7fe750fe4850>"
      ]
     },
     "metadata": {},
     "output_type": "display_data"
    }
   ],
   "source": [
    "# ref. \n",
    "#   -- https://pycaret.readthedocs.io/en/latest/api/classification.html?highlight=compare_models#pycaret.classification.compare_models\n",
    "#   -- https://machinelearningmastery.com/k-fold-cross-validation/\n",
    "\n",
    "best_model = compare_models(cross_validation=False)\n",
    "# best_model = compare_modelfold=old=3)"
   ]
  },
  {
   "cell_type": "markdown",
   "metadata": {},
   "source": [
    "# 4.) Create Model(s)"
   ]
  },
  {
   "cell_type": "markdown",
   "metadata": {},
   "source": [
    "## a. Random Forest Classifier"
   ]
  },
  {
   "cell_type": "code",
   "execution_count": 21,
   "metadata": {},
   "outputs": [
    {
     "data": {
      "text/html": [
       "<style  type=\"text/css\" >\n",
       "#T_ffbdd_row2_col0,#T_ffbdd_row2_col1,#T_ffbdd_row2_col2,#T_ffbdd_row2_col3,#T_ffbdd_row2_col4,#T_ffbdd_row2_col5,#T_ffbdd_row2_col6{\n",
       "            background:  yellow;\n",
       "        }</style><table id=\"T_ffbdd_\" ><thead>    <tr>        <th class=\"blank level0\" ></th>        <th class=\"col_heading level0 col0\" >Accuracy</th>        <th class=\"col_heading level0 col1\" >AUC</th>        <th class=\"col_heading level0 col2\" >Recall</th>        <th class=\"col_heading level0 col3\" >Prec.</th>        <th class=\"col_heading level0 col4\" >F1</th>        <th class=\"col_heading level0 col5\" >Kappa</th>        <th class=\"col_heading level0 col6\" >MCC</th>    </tr></thead><tbody>\n",
       "                <tr>\n",
       "                        <th id=\"T_ffbdd_level0_row0\" class=\"row_heading level0 row0\" >0</th>\n",
       "                        <td id=\"T_ffbdd_row0_col0\" class=\"data row0 col0\" >0.9953</td>\n",
       "                        <td id=\"T_ffbdd_row0_col1\" class=\"data row0 col1\" >0.8569</td>\n",
       "                        <td id=\"T_ffbdd_row0_col2\" class=\"data row0 col2\" >0.0000</td>\n",
       "                        <td id=\"T_ffbdd_row0_col3\" class=\"data row0 col3\" >0.0000</td>\n",
       "                        <td id=\"T_ffbdd_row0_col4\" class=\"data row0 col4\" >0.0000</td>\n",
       "                        <td id=\"T_ffbdd_row0_col5\" class=\"data row0 col5\" >-0.0003</td>\n",
       "                        <td id=\"T_ffbdd_row0_col6\" class=\"data row0 col6\" >-0.0008</td>\n",
       "            </tr>\n",
       "            <tr>\n",
       "                        <th id=\"T_ffbdd_level0_row1\" class=\"row_heading level0 row1\" >1</th>\n",
       "                        <td id=\"T_ffbdd_row1_col0\" class=\"data row1 col0\" >0.9953</td>\n",
       "                        <td id=\"T_ffbdd_row1_col1\" class=\"data row1 col1\" >0.8571</td>\n",
       "                        <td id=\"T_ffbdd_row1_col2\" class=\"data row1 col2\" >0.0000</td>\n",
       "                        <td id=\"T_ffbdd_row1_col3\" class=\"data row1 col3\" >0.0000</td>\n",
       "                        <td id=\"T_ffbdd_row1_col4\" class=\"data row1 col4\" >0.0000</td>\n",
       "                        <td id=\"T_ffbdd_row1_col5\" class=\"data row1 col5\" >-0.0002</td>\n",
       "                        <td id=\"T_ffbdd_row1_col6\" class=\"data row1 col6\" >-0.0006</td>\n",
       "            </tr>\n",
       "            <tr>\n",
       "                        <th id=\"T_ffbdd_level0_row2\" class=\"row_heading level0 row2\" >Mean</th>\n",
       "                        <td id=\"T_ffbdd_row2_col0\" class=\"data row2 col0\" >0.9953</td>\n",
       "                        <td id=\"T_ffbdd_row2_col1\" class=\"data row2 col1\" >0.8570</td>\n",
       "                        <td id=\"T_ffbdd_row2_col2\" class=\"data row2 col2\" >0.0000</td>\n",
       "                        <td id=\"T_ffbdd_row2_col3\" class=\"data row2 col3\" >0.0000</td>\n",
       "                        <td id=\"T_ffbdd_row2_col4\" class=\"data row2 col4\" >0.0000</td>\n",
       "                        <td id=\"T_ffbdd_row2_col5\" class=\"data row2 col5\" >-0.0002</td>\n",
       "                        <td id=\"T_ffbdd_row2_col6\" class=\"data row2 col6\" >-0.0007</td>\n",
       "            </tr>\n",
       "            <tr>\n",
       "                        <th id=\"T_ffbdd_level0_row3\" class=\"row_heading level0 row3\" >SD</th>\n",
       "                        <td id=\"T_ffbdd_row3_col0\" class=\"data row3 col0\" >0.0000</td>\n",
       "                        <td id=\"T_ffbdd_row3_col1\" class=\"data row3 col1\" >0.0001</td>\n",
       "                        <td id=\"T_ffbdd_row3_col2\" class=\"data row3 col2\" >0.0000</td>\n",
       "                        <td id=\"T_ffbdd_row3_col3\" class=\"data row3 col3\" >0.0000</td>\n",
       "                        <td id=\"T_ffbdd_row3_col4\" class=\"data row3 col4\" >0.0000</td>\n",
       "                        <td id=\"T_ffbdd_row3_col5\" class=\"data row3 col5\" >0.0001</td>\n",
       "                        <td id=\"T_ffbdd_row3_col6\" class=\"data row3 col6\" >0.0001</td>\n",
       "            </tr>\n",
       "    </tbody></table>"
      ],
      "text/plain": [
       "<pandas.io.formats.style.Styler at 0x7fe750aaca90>"
      ]
     },
     "metadata": {},
     "output_type": "display_data"
    }
   ],
   "source": [
    "rf = create_model('rf')\n",
    "# rf = create_model('rf', cross_validation=False)\n",
    "\n",
    "# trained model object is stored as `rf`\n",
    "# print(rf)"
   ]
  },
  {
   "cell_type": "markdown",
   "metadata": {},
   "source": [
    "## b. Ada Boost Classifier"
   ]
  },
  {
   "cell_type": "code",
   "execution_count": 22,
   "metadata": {},
   "outputs": [
    {
     "data": {
      "text/html": [
       "<style  type=\"text/css\" >\n",
       "#T_7795d_row2_col0,#T_7795d_row2_col1,#T_7795d_row2_col2,#T_7795d_row2_col3,#T_7795d_row2_col4,#T_7795d_row2_col5,#T_7795d_row2_col6{\n",
       "            background:  yellow;\n",
       "        }</style><table id=\"T_7795d_\" ><thead>    <tr>        <th class=\"blank level0\" ></th>        <th class=\"col_heading level0 col0\" >Accuracy</th>        <th class=\"col_heading level0 col1\" >AUC</th>        <th class=\"col_heading level0 col2\" >Recall</th>        <th class=\"col_heading level0 col3\" >Prec.</th>        <th class=\"col_heading level0 col4\" >F1</th>        <th class=\"col_heading level0 col5\" >Kappa</th>        <th class=\"col_heading level0 col6\" >MCC</th>    </tr></thead><tbody>\n",
       "                <tr>\n",
       "                        <th id=\"T_7795d_level0_row0\" class=\"row_heading level0 row0\" >0</th>\n",
       "                        <td id=\"T_7795d_row0_col0\" class=\"data row0 col0\" >0.9655</td>\n",
       "                        <td id=\"T_7795d_row0_col1\" class=\"data row0 col1\" >0.9666</td>\n",
       "                        <td id=\"T_7795d_row0_col2\" class=\"data row0 col2\" >0.5043</td>\n",
       "                        <td id=\"T_7795d_row0_col3\" class=\"data row0 col3\" >0.0669</td>\n",
       "                        <td id=\"T_7795d_row0_col4\" class=\"data row0 col4\" >0.1181</td>\n",
       "                        <td id=\"T_7795d_row0_col5\" class=\"data row0 col5\" >0.1109</td>\n",
       "                        <td id=\"T_7795d_row0_col6\" class=\"data row0 col6\" >0.1745</td>\n",
       "            </tr>\n",
       "            <tr>\n",
       "                        <th id=\"T_7795d_level0_row1\" class=\"row_heading level0 row1\" >1</th>\n",
       "                        <td id=\"T_7795d_row1_col0\" class=\"data row1 col0\" >0.9559</td>\n",
       "                        <td id=\"T_7795d_row1_col1\" class=\"data row1 col1\" >0.9652</td>\n",
       "                        <td id=\"T_7795d_row1_col2\" class=\"data row1 col2\" >0.6525</td>\n",
       "                        <td id=\"T_7795d_row1_col3\" class=\"data row1 col3\" >0.0663</td>\n",
       "                        <td id=\"T_7795d_row1_col4\" class=\"data row1 col4\" >0.1203</td>\n",
       "                        <td id=\"T_7795d_row1_col5\" class=\"data row1 col5\" >0.1129</td>\n",
       "                        <td id=\"T_7795d_row1_col6\" class=\"data row1 col6\" >0.1985</td>\n",
       "            </tr>\n",
       "            <tr>\n",
       "                        <th id=\"T_7795d_level0_row2\" class=\"row_heading level0 row2\" >Mean</th>\n",
       "                        <td id=\"T_7795d_row2_col0\" class=\"data row2 col0\" >0.9607</td>\n",
       "                        <td id=\"T_7795d_row2_col1\" class=\"data row2 col1\" >0.9659</td>\n",
       "                        <td id=\"T_7795d_row2_col2\" class=\"data row2 col2\" >0.5784</td>\n",
       "                        <td id=\"T_7795d_row2_col3\" class=\"data row2 col3\" >0.0666</td>\n",
       "                        <td id=\"T_7795d_row2_col4\" class=\"data row2 col4\" >0.1192</td>\n",
       "                        <td id=\"T_7795d_row2_col5\" class=\"data row2 col5\" >0.1119</td>\n",
       "                        <td id=\"T_7795d_row2_col6\" class=\"data row2 col6\" >0.1865</td>\n",
       "            </tr>\n",
       "            <tr>\n",
       "                        <th id=\"T_7795d_level0_row3\" class=\"row_heading level0 row3\" >SD</th>\n",
       "                        <td id=\"T_7795d_row3_col0\" class=\"data row3 col0\" >0.0048</td>\n",
       "                        <td id=\"T_7795d_row3_col1\" class=\"data row3 col1\" >0.0007</td>\n",
       "                        <td id=\"T_7795d_row3_col2\" class=\"data row3 col2\" >0.0741</td>\n",
       "                        <td id=\"T_7795d_row3_col3\" class=\"data row3 col3\" >0.0003</td>\n",
       "                        <td id=\"T_7795d_row3_col4\" class=\"data row3 col4\" >0.0011</td>\n",
       "                        <td id=\"T_7795d_row3_col5\" class=\"data row3 col5\" >0.0010</td>\n",
       "                        <td id=\"T_7795d_row3_col6\" class=\"data row3 col6\" >0.0120</td>\n",
       "            </tr>\n",
       "    </tbody></table>"
      ],
      "text/plain": [
       "<pandas.io.formats.style.Styler at 0x7fe75122ae50>"
      ]
     },
     "metadata": {},
     "output_type": "display_data"
    }
   ],
   "source": [
    "ada = create_model('ada')\n",
    "# ada = create_model('ada', cross_validation=False)\n",
    "\n",
    "# trained model object is stored as `ada`\n",
    "# print(ada)"
   ]
  },
  {
   "cell_type": "markdown",
   "metadata": {},
   "source": [
    "## c. Light Gradient Boosting Machine"
   ]
  },
  {
   "cell_type": "code",
   "execution_count": 23,
   "metadata": {},
   "outputs": [
    {
     "data": {
      "text/html": [
       "<style  type=\"text/css\" >\n",
       "#T_b7e91_row2_col0,#T_b7e91_row2_col1,#T_b7e91_row2_col2,#T_b7e91_row2_col3,#T_b7e91_row2_col4,#T_b7e91_row2_col5,#T_b7e91_row2_col6{\n",
       "            background:  yellow;\n",
       "        }</style><table id=\"T_b7e91_\" ><thead>    <tr>        <th class=\"blank level0\" ></th>        <th class=\"col_heading level0 col0\" >Accuracy</th>        <th class=\"col_heading level0 col1\" >AUC</th>        <th class=\"col_heading level0 col2\" >Recall</th>        <th class=\"col_heading level0 col3\" >Prec.</th>        <th class=\"col_heading level0 col4\" >F1</th>        <th class=\"col_heading level0 col5\" >Kappa</th>        <th class=\"col_heading level0 col6\" >MCC</th>    </tr></thead><tbody>\n",
       "                <tr>\n",
       "                        <th id=\"T_b7e91_level0_row0\" class=\"row_heading level0 row0\" >0</th>\n",
       "                        <td id=\"T_b7e91_row0_col0\" class=\"data row0 col0\" >0.9940</td>\n",
       "                        <td id=\"T_b7e91_row0_col1\" class=\"data row0 col1\" >0.9641</td>\n",
       "                        <td id=\"T_b7e91_row0_col2\" class=\"data row0 col2\" >0.0085</td>\n",
       "                        <td id=\"T_b7e91_row0_col3\" class=\"data row0 col3\" >0.0256</td>\n",
       "                        <td id=\"T_b7e91_row0_col4\" class=\"data row0 col4\" >0.0128</td>\n",
       "                        <td id=\"T_b7e91_row0_col5\" class=\"data row0 col5\" >0.0106</td>\n",
       "                        <td id=\"T_b7e91_row0_col6\" class=\"data row0 col6\" >0.0122</td>\n",
       "            </tr>\n",
       "            <tr>\n",
       "                        <th id=\"T_b7e91_level0_row1\" class=\"row_heading level0 row1\" >1</th>\n",
       "                        <td id=\"T_b7e91_row1_col0\" class=\"data row1 col0\" >0.9941</td>\n",
       "                        <td id=\"T_b7e91_row1_col1\" class=\"data row1 col1\" >0.9633</td>\n",
       "                        <td id=\"T_b7e91_row1_col2\" class=\"data row1 col2\" >0.0000</td>\n",
       "                        <td id=\"T_b7e91_row1_col3\" class=\"data row1 col3\" >0.0000</td>\n",
       "                        <td id=\"T_b7e91_row1_col4\" class=\"data row1 col4\" >0.0000</td>\n",
       "                        <td id=\"T_b7e91_row1_col5\" class=\"data row1 col5\" >-0.0020</td>\n",
       "                        <td id=\"T_b7e91_row1_col6\" class=\"data row1 col6\" >-0.0025</td>\n",
       "            </tr>\n",
       "            <tr>\n",
       "                        <th id=\"T_b7e91_level0_row2\" class=\"row_heading level0 row2\" >Mean</th>\n",
       "                        <td id=\"T_b7e91_row2_col0\" class=\"data row2 col0\" >0.9940</td>\n",
       "                        <td id=\"T_b7e91_row2_col1\" class=\"data row2 col1\" >0.9637</td>\n",
       "                        <td id=\"T_b7e91_row2_col2\" class=\"data row2 col2\" >0.0043</td>\n",
       "                        <td id=\"T_b7e91_row2_col3\" class=\"data row2 col3\" >0.0128</td>\n",
       "                        <td id=\"T_b7e91_row2_col4\" class=\"data row2 col4\" >0.0064</td>\n",
       "                        <td id=\"T_b7e91_row2_col5\" class=\"data row2 col5\" >0.0043</td>\n",
       "                        <td id=\"T_b7e91_row2_col6\" class=\"data row2 col6\" >0.0049</td>\n",
       "            </tr>\n",
       "            <tr>\n",
       "                        <th id=\"T_b7e91_level0_row3\" class=\"row_heading level0 row3\" >SD</th>\n",
       "                        <td id=\"T_b7e91_row3_col0\" class=\"data row3 col0\" >0.0001</td>\n",
       "                        <td id=\"T_b7e91_row3_col1\" class=\"data row3 col1\" >0.0004</td>\n",
       "                        <td id=\"T_b7e91_row3_col2\" class=\"data row3 col2\" >0.0043</td>\n",
       "                        <td id=\"T_b7e91_row3_col3\" class=\"data row3 col3\" >0.0128</td>\n",
       "                        <td id=\"T_b7e91_row3_col4\" class=\"data row3 col4\" >0.0064</td>\n",
       "                        <td id=\"T_b7e91_row3_col5\" class=\"data row3 col5\" >0.0063</td>\n",
       "                        <td id=\"T_b7e91_row3_col6\" class=\"data row3 col6\" >0.0073</td>\n",
       "            </tr>\n",
       "    </tbody></table>"
      ],
      "text/plain": [
       "<pandas.io.formats.style.Styler at 0x7fe75264e750>"
      ]
     },
     "metadata": {},
     "output_type": "display_data"
    }
   ],
   "source": [
    "lightgbm = create_model('lightgbm')\n",
    "# lightgbm = create_model('lightgbm', cross_validation=False)\n",
    "\n",
    "# trained model object is stored as `lightgbm`\n",
    "# print(lightgbm)"
   ]
  },
  {
   "cell_type": "markdown",
   "metadata": {},
   "source": [
    "# 5.) Tune Model(s)"
   ]
  },
  {
   "cell_type": "markdown",
   "metadata": {},
   "source": [
    "## b. Ada Boost Classifier"
   ]
  },
  {
   "cell_type": "code",
   "execution_count": 33,
   "metadata": {},
   "outputs": [
    {
     "data": {
      "text/html": [
       "<style  type=\"text/css\" >\n",
       "#T_ade3c_row2_col0,#T_ade3c_row2_col1,#T_ade3c_row2_col2,#T_ade3c_row2_col3,#T_ade3c_row2_col4,#T_ade3c_row2_col5,#T_ade3c_row2_col6{\n",
       "            background:  yellow;\n",
       "        }</style><table id=\"T_ade3c_\" ><thead>    <tr>        <th class=\"blank level0\" ></th>        <th class=\"col_heading level0 col0\" >Accuracy</th>        <th class=\"col_heading level0 col1\" >AUC</th>        <th class=\"col_heading level0 col2\" >Recall</th>        <th class=\"col_heading level0 col3\" >Prec.</th>        <th class=\"col_heading level0 col4\" >F1</th>        <th class=\"col_heading level0 col5\" >Kappa</th>        <th class=\"col_heading level0 col6\" >MCC</th>    </tr></thead><tbody>\n",
       "                <tr>\n",
       "                        <th id=\"T_ade3c_level0_row0\" class=\"row_heading level0 row0\" >0</th>\n",
       "                        <td id=\"T_ade3c_row0_col0\" class=\"data row0 col0\" >0.9537</td>\n",
       "                        <td id=\"T_ade3c_row0_col1\" class=\"data row0 col1\" >0.9673</td>\n",
       "                        <td id=\"T_ade3c_row0_col2\" class=\"data row0 col2\" >0.6838</td>\n",
       "                        <td id=\"T_ade3c_row0_col3\" class=\"data row0 col3\" >0.0653</td>\n",
       "                        <td id=\"T_ade3c_row0_col4\" class=\"data row0 col4\" >0.1192</td>\n",
       "                        <td id=\"T_ade3c_row0_col5\" class=\"data row0 col5\" >0.1118</td>\n",
       "                        <td id=\"T_ade3c_row0_col6\" class=\"data row0 col6\" >0.2018</td>\n",
       "            </tr>\n",
       "            <tr>\n",
       "                        <th id=\"T_ade3c_level0_row1\" class=\"row_heading level0 row1\" >1</th>\n",
       "                        <td id=\"T_ade3c_row1_col0\" class=\"data row1 col0\" >0.9500</td>\n",
       "                        <td id=\"T_ade3c_row1_col1\" class=\"data row1 col1\" >0.9671</td>\n",
       "                        <td id=\"T_ade3c_row1_col2\" class=\"data row1 col2\" >0.7203</td>\n",
       "                        <td id=\"T_ade3c_row1_col3\" class=\"data row1 col3\" >0.0640</td>\n",
       "                        <td id=\"T_ade3c_row1_col4\" class=\"data row1 col4\" >0.1175</td>\n",
       "                        <td id=\"T_ade3c_row1_col5\" class=\"data row1 col5\" >0.1099</td>\n",
       "                        <td id=\"T_ade3c_row1_col6\" class=\"data row1 col6\" >0.2050</td>\n",
       "            </tr>\n",
       "            <tr>\n",
       "                        <th id=\"T_ade3c_level0_row2\" class=\"row_heading level0 row2\" >Mean</th>\n",
       "                        <td id=\"T_ade3c_row2_col0\" class=\"data row2 col0\" >0.9518</td>\n",
       "                        <td id=\"T_ade3c_row2_col1\" class=\"data row2 col1\" >0.9672</td>\n",
       "                        <td id=\"T_ade3c_row2_col2\" class=\"data row2 col2\" >0.7020</td>\n",
       "                        <td id=\"T_ade3c_row2_col3\" class=\"data row2 col3\" >0.0646</td>\n",
       "                        <td id=\"T_ade3c_row2_col4\" class=\"data row2 col4\" >0.1184</td>\n",
       "                        <td id=\"T_ade3c_row2_col5\" class=\"data row2 col5\" >0.1109</td>\n",
       "                        <td id=\"T_ade3c_row2_col6\" class=\"data row2 col6\" >0.2034</td>\n",
       "            </tr>\n",
       "            <tr>\n",
       "                        <th id=\"T_ade3c_level0_row3\" class=\"row_heading level0 row3\" >SD</th>\n",
       "                        <td id=\"T_ade3c_row3_col0\" class=\"data row3 col0\" >0.0019</td>\n",
       "                        <td id=\"T_ade3c_row3_col1\" class=\"data row3 col1\" >0.0001</td>\n",
       "                        <td id=\"T_ade3c_row3_col2\" class=\"data row3 col2\" >0.0183</td>\n",
       "                        <td id=\"T_ade3c_row3_col3\" class=\"data row3 col3\" >0.0007</td>\n",
       "                        <td id=\"T_ade3c_row3_col4\" class=\"data row3 col4\" >0.0009</td>\n",
       "                        <td id=\"T_ade3c_row3_col5\" class=\"data row3 col5\" >0.0009</td>\n",
       "                        <td id=\"T_ade3c_row3_col6\" class=\"data row3 col6\" >0.0016</td>\n",
       "            </tr>\n",
       "    </tbody></table>"
      ],
      "text/plain": [
       "<pandas.io.formats.style.Styler at 0x7fe7518fe890>"
      ]
     },
     "metadata": {},
     "output_type": "display_data"
    }
   ],
   "source": [
    "tuned_ada = tune_model(ada, n_iter=2, early_stopping=True)\n",
    "\n",
    "# tuned model object is stored as `tuned_ada`\n",
    "# print(tuned_ada)"
   ]
  },
  {
   "cell_type": "markdown",
   "metadata": {},
   "source": [
    "# 6.) Models Performance"
   ]
  },
  {
   "cell_type": "markdown",
   "metadata": {},
   "source": [
    "## b. Ada Boost Classifier"
   ]
  },
  {
   "cell_type": "markdown",
   "metadata": {},
   "source": [
    "### i. Confusion Matrix"
   ]
  },
  {
   "cell_type": "code",
   "execution_count": 34,
   "metadata": {},
   "outputs": [
    {
     "data": {
      "image/png": "[encoded data removed]",
      "text/plain": [
       "<Figure size 576x396 with 1 Axes>"
      ]
     },
     "metadata": {},
     "output_type": "display_data"
    }
   ],
   "source": [
    "plot_model(tuned_ada, plot = 'confusion_matrix')"
   ]
  },
  {
   "cell_type": "markdown",
   "metadata": {},
   "source": [
    "### ii. Features Importance"
   ]
  },
  {
   "cell_type": "code",
   "execution_count": 35,
   "metadata": {},
   "outputs": [
    {
     "data": {
      "image/png": "[encoded data removed]",
      "text/plain": [
       "<Figure size 800x500 with 1 Axes>"
      ]
     },
     "metadata": {},
     "output_type": "display_data"
    }
   ],
   "source": [
    "plot_model(tuned_ada, plot='feature')"
   ]
  },
  {
   "cell_type": "markdown",
   "metadata": {},
   "source": [
    "Features that has greatest explanatory power are:\n",
    "\n",
    "* `DISTANCE`\n",
    "* `DAY` of the month\n",
    "* (closely by) `MONTH`"
   ]
  },
  {
   "cell_type": "markdown",
   "metadata": {},
   "source": [
    "### iii. Intrepret Model's with SHAP\n",
    "\n",
    "ref. \n",
    "\n",
    "* https://www.analyticsvidhya.com/blog/2020/05/pycaret-machine-learning-model-seconds/\n",
    "* https://www.analyticsvidhya.com/blog/2019/11/shapley-value-machine-learning-interpretability-game-theory/?utm_source=blog&utm_medium=pycaret-machine-learning-model-seconds"
   ]
  },
  {
   "cell_type": "code",
   "execution_count": 36,
   "metadata": {},
   "outputs": [
    {
     "name": "stdout",
     "output_type": "stream",
     "text": [
      "Get:1 http://security.debian.org/debian-security buster/updates InRelease [65.4 kB]\n",
      "Hit:2 http://deb.debian.org/debian buster InRelease         \n",
      "Hit:3 http://deb.debian.org/debian buster-updates InRelease \n",
      "Fetched 65.4 kB in 0s (208 kB/s)\n",
      "Reading package lists... Done\n",
      "Reading package lists...\n",
      "Building dependency tree...\n",
      "Reading state information...\n",
      "build-essential is already the newest version (12.6).\n",
      "0 upgraded, 0 newly installed, 0 to remove and 24 not upgraded.\n",
      "/opt/conda/lib/python3.7/site-packages/secretstorage/dhcrypto.py:16: CryptographyDeprecationWarning: int_from_bytes is deprecated, use int.from_bytes instead\n",
      "  from cryptography.utils import int_from_bytes\n",
      "/opt/conda/lib/python3.7/site-packages/secretstorage/util.py:25: CryptographyDeprecationWarning: int_from_bytes is deprecated, use int.from_bytes instead\n",
      "  from cryptography.utils import int_from_bytes\n"
     ]
    }
   ],
   "source": [
    "!apt-get update && apt-get install -y build-essential -q\n",
    "!python -m pip install -q shap"
   ]
  },
  {
   "cell_type": "code",
   "execution_count": 37,
   "metadata": {},
   "outputs": [
    {
     "ename": "TypeError",
     "evalue": "This function only supports tree based models for binary classification: lightgbm, et, rf, dt.",
     "output_type": "error",
     "traceback": [
      "\u001b[0;31m---------------------------------------------------------------------------\u001b[0m",
      "\u001b[0;31mTypeError\u001b[0m                                 Traceback (most recent call last)",
      "\u001b[0;32m<ipython-input-37-c692215e0e0b>\u001b[0m in \u001b[0;36m<module>\u001b[0;34m\u001b[0m\n\u001b[0;32m----> 1\u001b[0;31m \u001b[0minterpret_model\u001b[0m\u001b[0;34m(\u001b[0m\u001b[0mtuned_ada\u001b[0m\u001b[0;34m,\u001b[0m \u001b[0mplot\u001b[0m\u001b[0;34m=\u001b[0m\u001b[0;34m'summary'\u001b[0m\u001b[0;34m)\u001b[0m\u001b[0;34m\u001b[0m\u001b[0;34m\u001b[0m\u001b[0m\n\u001b[0m",
      "\u001b[0;32m/opt/conda/lib/python3.7/site-packages/pycaret/classification.py\u001b[0m in \u001b[0;36minterpret_model\u001b[0;34m(estimator, plot, feature, observation, use_train_data, X_new_sample, save, **kwargs)\u001b[0m\n\u001b[1;32m   1697\u001b[0m         \u001b[0mX_new_sample\u001b[0m\u001b[0;34m=\u001b[0m\u001b[0mX_new_sample\u001b[0m\u001b[0;34m,\u001b[0m\u001b[0;34m\u001b[0m\u001b[0;34m\u001b[0m\u001b[0m\n\u001b[1;32m   1698\u001b[0m         \u001b[0msave\u001b[0m\u001b[0;34m=\u001b[0m\u001b[0msave\u001b[0m\u001b[0;34m,\u001b[0m\u001b[0;34m\u001b[0m\u001b[0;34m\u001b[0m\u001b[0m\n\u001b[0;32m-> 1699\u001b[0;31m         \u001b[0;34m**\u001b[0m\u001b[0mkwargs\u001b[0m\u001b[0;34m,\u001b[0m\u001b[0;34m\u001b[0m\u001b[0;34m\u001b[0m\u001b[0m\n\u001b[0m\u001b[1;32m   1700\u001b[0m     )\n\u001b[1;32m   1701\u001b[0m \u001b[0;34m\u001b[0m\u001b[0m\n",
      "\u001b[0;32m/opt/conda/lib/python3.7/site-packages/pycaret/internal/tabular.py\u001b[0m in \u001b[0;36minterpret_model\u001b[0;34m(estimator, plot, feature, observation, use_train_data, X_new_sample, save, **kwargs)\u001b[0m\n\u001b[1;32m   7434\u001b[0m     \u001b[0;32mif\u001b[0m \u001b[0mmodel_id\u001b[0m \u001b[0;32mnot\u001b[0m \u001b[0;32min\u001b[0m \u001b[0mshap_models_ids\u001b[0m\u001b[0;34m:\u001b[0m\u001b[0;34m\u001b[0m\u001b[0;34m\u001b[0m\u001b[0m\n\u001b[1;32m   7435\u001b[0m         raise TypeError(\n\u001b[0;32m-> 7436\u001b[0;31m             \u001b[0;34mf\"This function only supports tree based models for binary classification: {', '.join(shap_models_ids)}.\"\u001b[0m\u001b[0;34m\u001b[0m\u001b[0;34m\u001b[0m\u001b[0m\n\u001b[0m\u001b[1;32m   7437\u001b[0m         )\n\u001b[1;32m   7438\u001b[0m \u001b[0;34m\u001b[0m\u001b[0m\n",
      "\u001b[0;31mTypeError\u001b[0m: This function only supports tree based models for binary classification: lightgbm, et, rf, dt."
     ]
    }
   ],
   "source": [
    "interpret_model(tuned_ada, plot='summary')"
   ]
  },
  {
   "cell_type": "code",
   "execution_count": 38,
   "metadata": {},
   "outputs": [
    {
     "ename": "TypeError",
     "evalue": "This function only supports tree based models for binary classification: lightgbm, et, rf, dt.",
     "output_type": "error",
     "traceback": [
      "\u001b[0;31m---------------------------------------------------------------------------\u001b[0m",
      "\u001b[0;31mTypeError\u001b[0m                                 Traceback (most recent call last)",
      "\u001b[0;32m<ipython-input-38-de33cfccf98f>\u001b[0m in \u001b[0;36m<module>\u001b[0;34m\u001b[0m\n\u001b[0;32m----> 1\u001b[0;31m \u001b[0minterpret_model\u001b[0m\u001b[0;34m(\u001b[0m\u001b[0mtuned_ada\u001b[0m\u001b[0;34m,\u001b[0m \u001b[0mplot\u001b[0m\u001b[0;34m=\u001b[0m\u001b[0;34m'correlation'\u001b[0m\u001b[0;34m)\u001b[0m\u001b[0;34m\u001b[0m\u001b[0;34m\u001b[0m\u001b[0m\n\u001b[0m",
      "\u001b[0;32m/opt/conda/lib/python3.7/site-packages/pycaret/classification.py\u001b[0m in \u001b[0;36minterpret_model\u001b[0;34m(estimator, plot, feature, observation, use_train_data, X_new_sample, save, **kwargs)\u001b[0m\n\u001b[1;32m   1697\u001b[0m         \u001b[0mX_new_sample\u001b[0m\u001b[0;34m=\u001b[0m\u001b[0mX_new_sample\u001b[0m\u001b[0;34m,\u001b[0m\u001b[0;34m\u001b[0m\u001b[0;34m\u001b[0m\u001b[0m\n\u001b[1;32m   1698\u001b[0m         \u001b[0msave\u001b[0m\u001b[0;34m=\u001b[0m\u001b[0msave\u001b[0m\u001b[0;34m,\u001b[0m\u001b[0;34m\u001b[0m\u001b[0;34m\u001b[0m\u001b[0m\n\u001b[0;32m-> 1699\u001b[0;31m         \u001b[0;34m**\u001b[0m\u001b[0mkwargs\u001b[0m\u001b[0;34m,\u001b[0m\u001b[0;34m\u001b[0m\u001b[0;34m\u001b[0m\u001b[0m\n\u001b[0m\u001b[1;32m   1700\u001b[0m     )\n\u001b[1;32m   1701\u001b[0m \u001b[0;34m\u001b[0m\u001b[0m\n",
      "\u001b[0;32m/opt/conda/lib/python3.7/site-packages/pycaret/internal/tabular.py\u001b[0m in \u001b[0;36minterpret_model\u001b[0;34m(estimator, plot, feature, observation, use_train_data, X_new_sample, save, **kwargs)\u001b[0m\n\u001b[1;32m   7434\u001b[0m     \u001b[0;32mif\u001b[0m \u001b[0mmodel_id\u001b[0m \u001b[0;32mnot\u001b[0m \u001b[0;32min\u001b[0m \u001b[0mshap_models_ids\u001b[0m\u001b[0;34m:\u001b[0m\u001b[0;34m\u001b[0m\u001b[0;34m\u001b[0m\u001b[0m\n\u001b[1;32m   7435\u001b[0m         raise TypeError(\n\u001b[0;32m-> 7436\u001b[0;31m             \u001b[0;34mf\"This function only supports tree based models for binary classification: {', '.join(shap_models_ids)}.\"\u001b[0m\u001b[0;34m\u001b[0m\u001b[0;34m\u001b[0m\u001b[0m\n\u001b[0m\u001b[1;32m   7437\u001b[0m         )\n\u001b[1;32m   7438\u001b[0m \u001b[0;34m\u001b[0m\u001b[0m\n",
      "\u001b[0;31mTypeError\u001b[0m: This function only supports tree based models for binary classification: lightgbm, et, rf, dt."
     ]
    }
   ],
   "source": [
    "interpret_model(tuned_ada, plot='correlation')"
   ]
  },
  {
   "cell_type": "markdown",
   "metadata": {},
   "source": [
    "# 8.) Predict of Test Data Sample"
   ]
  },
  {
   "cell_type": "markdown",
   "metadata": {},
   "source": [
    "## a. Ada Boost Classifier"
   ]
  },
  {
   "cell_type": "code",
   "execution_count": 39,
   "metadata": {},
   "outputs": [
    {
     "data": {
      "text/html": [
       "<style  type=\"text/css\" >\n",
       "</style><table id=\"T_00a49_\" ><thead>    <tr>        <th class=\"blank level0\" ></th>        <th class=\"col_heading level0 col0\" >Model</th>        <th class=\"col_heading level0 col1\" >Accuracy</th>        <th class=\"col_heading level0 col2\" >AUC</th>        <th class=\"col_heading level0 col3\" >Recall</th>        <th class=\"col_heading level0 col4\" >Prec.</th>        <th class=\"col_heading level0 col5\" >F1</th>        <th class=\"col_heading level0 col6\" >Kappa</th>        <th class=\"col_heading level0 col7\" >MCC</th>    </tr></thead><tbody>\n",
       "                <tr>\n",
       "                        <th id=\"T_00a49_level0_row0\" class=\"row_heading level0 row0\" >0</th>\n",
       "                        <td id=\"T_00a49_row0_col0\" class=\"data row0 col0\" >Ada Boost Classifier</td>\n",
       "                        <td id=\"T_00a49_row0_col1\" class=\"data row0 col1\" >0.9373</td>\n",
       "                        <td id=\"T_00a49_row0_col2\" class=\"data row0 col2\" >0.9673</td>\n",
       "                        <td id=\"T_00a49_row0_col3\" class=\"data row0 col3\" >0.8969</td>\n",
       "                        <td id=\"T_00a49_row0_col4\" class=\"data row0 col4\" >0.0600</td>\n",
       "                        <td id=\"T_00a49_row0_col5\" class=\"data row0 col5\" >0.1125</td>\n",
       "                        <td id=\"T_00a49_row0_col6\" class=\"data row0 col6\" >0.1051</td>\n",
       "                        <td id=\"T_00a49_row0_col7\" class=\"data row0 col7\" >0.2229</td>\n",
       "            </tr>\n",
       "    </tbody></table>"
      ],
      "text/plain": [
       "<pandas.io.formats.style.Styler at 0x7fe75146f550>"
      ]
     },
     "metadata": {},
     "output_type": "display_data"
    },
    {
     "data": {
      "text/html": [
       "<div>\n",
       "<style scoped>\n",
       "    .dataframe tbody tr th:only-of-type {\n",
       "        vertical-align: middle;\n",
       "    }\n",
       "\n",
       "    .dataframe tbody tr th {\n",
       "        vertical-align: top;\n",
       "    }\n",
       "\n",
       "    .dataframe thead th {\n",
       "        text-align: right;\n",
       "    }\n",
       "</style>\n",
       "<table border=\"1\" class=\"dataframe\">\n",
       "  <thead>\n",
       "    <tr style=\"text-align: right;\">\n",
       "      <th></th>\n",
       "      <th>MONTH</th>\n",
       "      <th>DAY</th>\n",
       "      <th>DAY_OF_WEEK</th>\n",
       "      <th>DEP_DELAY_no_outlier</th>\n",
       "      <th>DISTANCE</th>\n",
       "      <th>CARRIER_DELAY</th>\n",
       "      <th>WEATHER_DELAY</th>\n",
       "      <th>NAS_DELAY</th>\n",
       "      <th>SECURITY_DELAY</th>\n",
       "      <th>LATE_AIRCRAFT_DELAY</th>\n",
       "      <th>...</th>\n",
       "      <th>DATE_weekday_2</th>\n",
       "      <th>DATE_weekday_3</th>\n",
       "      <th>DATE_weekday_4</th>\n",
       "      <th>DATE_weekday_5</th>\n",
       "      <th>DATE_weekday_6</th>\n",
       "      <th>DATE_is_month_end_1</th>\n",
       "      <th>DATE_is_month_start_1</th>\n",
       "      <th>late_flight</th>\n",
       "      <th>Label</th>\n",
       "      <th>Score</th>\n",
       "    </tr>\n",
       "  </thead>\n",
       "  <tbody>\n",
       "    <tr>\n",
       "      <th>0</th>\n",
       "      <td>1.312284</td>\n",
       "      <td>1.054281</td>\n",
       "      <td>1.516228</td>\n",
       "      <td>1.735268</td>\n",
       "      <td>-0.494496</td>\n",
       "      <td>0.373444</td>\n",
       "      <td>-1.690478</td>\n",
       "      <td>-2.291831</td>\n",
       "      <td>-1.688602</td>\n",
       "      <td>1.039598</td>\n",
       "      <td>...</td>\n",
       "      <td>0.0</td>\n",
       "      <td>0.0</td>\n",
       "      <td>0.0</td>\n",
       "      <td>0.0</td>\n",
       "      <td>1.0</td>\n",
       "      <td>0.0</td>\n",
       "      <td>0.0</td>\n",
       "      <td>late</td>\n",
       "      <td>late</td>\n",
       "      <td>0.5901</td>\n",
       "    </tr>\n",
       "    <tr>\n",
       "      <th>1</th>\n",
       "      <td>-1.615367</td>\n",
       "      <td>-0.879898</td>\n",
       "      <td>-1.494599</td>\n",
       "      <td>-0.683318</td>\n",
       "      <td>0.507538</td>\n",
       "      <td>0.262685</td>\n",
       "      <td>0.448728</td>\n",
       "      <td>0.224113</td>\n",
       "      <td>0.542092</td>\n",
       "      <td>0.235038</td>\n",
       "      <td>...</td>\n",
       "      <td>0.0</td>\n",
       "      <td>0.0</td>\n",
       "      <td>0.0</td>\n",
       "      <td>0.0</td>\n",
       "      <td>0.0</td>\n",
       "      <td>0.0</td>\n",
       "      <td>0.0</td>\n",
       "      <td>late</td>\n",
       "      <td>late</td>\n",
       "      <td>0.6169</td>\n",
       "    </tr>\n",
       "    <tr>\n",
       "      <th>2</th>\n",
       "      <td>-1.615367</td>\n",
       "      <td>-0.538024</td>\n",
       "      <td>0.042792</td>\n",
       "      <td>-0.084434</td>\n",
       "      <td>0.290964</td>\n",
       "      <td>0.262685</td>\n",
       "      <td>0.448728</td>\n",
       "      <td>0.224113</td>\n",
       "      <td>0.542092</td>\n",
       "      <td>0.235038</td>\n",
       "      <td>...</td>\n",
       "      <td>0.0</td>\n",
       "      <td>1.0</td>\n",
       "      <td>0.0</td>\n",
       "      <td>0.0</td>\n",
       "      <td>0.0</td>\n",
       "      <td>0.0</td>\n",
       "      <td>0.0</td>\n",
       "      <td>late</td>\n",
       "      <td>late</td>\n",
       "      <td>0.5545</td>\n",
       "    </tr>\n",
       "    <tr>\n",
       "      <th>3</th>\n",
       "      <td>-0.742595</td>\n",
       "      <td>-0.310219</td>\n",
       "      <td>0.539995</td>\n",
       "      <td>0.018263</td>\n",
       "      <td>-1.937314</td>\n",
       "      <td>0.262685</td>\n",
       "      <td>0.448728</td>\n",
       "      <td>0.224113</td>\n",
       "      <td>0.542092</td>\n",
       "      <td>0.235038</td>\n",
       "      <td>...</td>\n",
       "      <td>0.0</td>\n",
       "      <td>0.0</td>\n",
       "      <td>1.0</td>\n",
       "      <td>0.0</td>\n",
       "      <td>0.0</td>\n",
       "      <td>0.0</td>\n",
       "      <td>0.0</td>\n",
       "      <td>late</td>\n",
       "      <td>late</td>\n",
       "      <td>0.5610</td>\n",
       "    </tr>\n",
       "    <tr>\n",
       "      <th>4</th>\n",
       "      <td>-1.033893</td>\n",
       "      <td>-0.424109</td>\n",
       "      <td>-1.494599</td>\n",
       "      <td>-0.426100</td>\n",
       "      <td>0.004189</td>\n",
       "      <td>0.262685</td>\n",
       "      <td>0.448728</td>\n",
       "      <td>0.224113</td>\n",
       "      <td>0.542092</td>\n",
       "      <td>0.235038</td>\n",
       "      <td>...</td>\n",
       "      <td>0.0</td>\n",
       "      <td>0.0</td>\n",
       "      <td>0.0</td>\n",
       "      <td>0.0</td>\n",
       "      <td>0.0</td>\n",
       "      <td>0.0</td>\n",
       "      <td>0.0</td>\n",
       "      <td>late</td>\n",
       "      <td>late</td>\n",
       "      <td>0.5889</td>\n",
       "    </tr>\n",
       "    <tr>\n",
       "      <th>...</th>\n",
       "      <td>...</td>\n",
       "      <td>...</td>\n",
       "      <td>...</td>\n",
       "      <td>...</td>\n",
       "      <td>...</td>\n",
       "      <td>...</td>\n",
       "      <td>...</td>\n",
       "      <td>...</td>\n",
       "      <td>...</td>\n",
       "      <td>...</td>\n",
       "      <td>...</td>\n",
       "      <td>...</td>\n",
       "      <td>...</td>\n",
       "      <td>...</td>\n",
       "      <td>...</td>\n",
       "      <td>...</td>\n",
       "      <td>...</td>\n",
       "      <td>...</td>\n",
       "      <td>...</td>\n",
       "      <td>...</td>\n",
       "      <td>...</td>\n",
       "    </tr>\n",
       "    <tr>\n",
       "      <th>21879</th>\n",
       "      <td>-1.033893</td>\n",
       "      <td>0.940699</td>\n",
       "      <td>1.030560</td>\n",
       "      <td>1.445624</td>\n",
       "      <td>-0.852383</td>\n",
       "      <td>1.367430</td>\n",
       "      <td>-1.690478</td>\n",
       "      <td>-2.291831</td>\n",
       "      <td>-1.688602</td>\n",
       "      <td>-2.101039</td>\n",
       "      <td>...</td>\n",
       "      <td>0.0</td>\n",
       "      <td>0.0</td>\n",
       "      <td>0.0</td>\n",
       "      <td>1.0</td>\n",
       "      <td>0.0</td>\n",
       "      <td>0.0</td>\n",
       "      <td>0.0</td>\n",
       "      <td>late</td>\n",
       "      <td>late</td>\n",
       "      <td>0.5990</td>\n",
       "    </tr>\n",
       "    <tr>\n",
       "      <th>21880</th>\n",
       "      <td>-0.158529</td>\n",
       "      <td>0.145049</td>\n",
       "      <td>1.516228</td>\n",
       "      <td>0.376984</td>\n",
       "      <td>-0.739655</td>\n",
       "      <td>0.262685</td>\n",
       "      <td>0.448728</td>\n",
       "      <td>0.224113</td>\n",
       "      <td>0.542092</td>\n",
       "      <td>0.235038</td>\n",
       "      <td>...</td>\n",
       "      <td>0.0</td>\n",
       "      <td>0.0</td>\n",
       "      <td>0.0</td>\n",
       "      <td>0.0</td>\n",
       "      <td>1.0</td>\n",
       "      <td>0.0</td>\n",
       "      <td>0.0</td>\n",
       "      <td>late</td>\n",
       "      <td>late</td>\n",
       "      <td>0.5568</td>\n",
       "    </tr>\n",
       "    <tr>\n",
       "      <th>21881</th>\n",
       "      <td>0.134470</td>\n",
       "      <td>-0.196356</td>\n",
       "      <td>1.030560</td>\n",
       "      <td>1.843122</td>\n",
       "      <td>-0.937419</td>\n",
       "      <td>-1.534880</td>\n",
       "      <td>-1.690478</td>\n",
       "      <td>-2.291831</td>\n",
       "      <td>-1.688602</td>\n",
       "      <td>2.027989</td>\n",
       "      <td>...</td>\n",
       "      <td>0.0</td>\n",
       "      <td>0.0</td>\n",
       "      <td>0.0</td>\n",
       "      <td>1.0</td>\n",
       "      <td>0.0</td>\n",
       "      <td>0.0</td>\n",
       "      <td>0.0</td>\n",
       "      <td>late</td>\n",
       "      <td>late</td>\n",
       "      <td>0.6048</td>\n",
       "    </tr>\n",
       "    <tr>\n",
       "      <th>21882</th>\n",
       "      <td>1.312284</td>\n",
       "      <td>1.394928</td>\n",
       "      <td>-0.463156</td>\n",
       "      <td>-0.192630</td>\n",
       "      <td>-1.229765</td>\n",
       "      <td>0.262685</td>\n",
       "      <td>0.448728</td>\n",
       "      <td>0.224113</td>\n",
       "      <td>0.542092</td>\n",
       "      <td>0.235038</td>\n",
       "      <td>...</td>\n",
       "      <td>1.0</td>\n",
       "      <td>0.0</td>\n",
       "      <td>0.0</td>\n",
       "      <td>0.0</td>\n",
       "      <td>0.0</td>\n",
       "      <td>0.0</td>\n",
       "      <td>0.0</td>\n",
       "      <td>late</td>\n",
       "      <td>not_late</td>\n",
       "      <td>0.5000</td>\n",
       "    </tr>\n",
       "    <tr>\n",
       "      <th>21883</th>\n",
       "      <td>0.428167</td>\n",
       "      <td>1.621951</td>\n",
       "      <td>0.042792</td>\n",
       "      <td>-0.551667</td>\n",
       "      <td>-1.566295</td>\n",
       "      <td>0.262685</td>\n",
       "      <td>0.448728</td>\n",
       "      <td>0.224113</td>\n",
       "      <td>0.542092</td>\n",
       "      <td>0.235038</td>\n",
       "      <td>...</td>\n",
       "      <td>0.0</td>\n",
       "      <td>1.0</td>\n",
       "      <td>0.0</td>\n",
       "      <td>0.0</td>\n",
       "      <td>0.0</td>\n",
       "      <td>0.0</td>\n",
       "      <td>0.0</td>\n",
       "      <td>late</td>\n",
       "      <td>late</td>\n",
       "      <td>0.5988</td>\n",
       "    </tr>\n",
       "  </tbody>\n",
       "</table>\n",
       "<p>21884 rows × 342 columns</p>\n",
       "</div>"
      ],
      "text/plain": [
       "          MONTH       DAY  DAY_OF_WEEK  DEP_DELAY_no_outlier  DISTANCE  \\\n",
       "0      1.312284  1.054281     1.516228              1.735268 -0.494496   \n",
       "1     -1.615367 -0.879898    -1.494599             -0.683318  0.507538   \n",
       "2     -1.615367 -0.538024     0.042792             -0.084434  0.290964   \n",
       "3     -0.742595 -0.310219     0.539995              0.018263 -1.937314   \n",
       "4     -1.033893 -0.424109    -1.494599             -0.426100  0.004189   \n",
       "...         ...       ...          ...                   ...       ...   \n",
       "21879 -1.033893  0.940699     1.030560              1.445624 -0.852383   \n",
       "21880 -0.158529  0.145049     1.516228              0.376984 -0.739655   \n",
       "21881  0.134470 -0.196356     1.030560              1.843122 -0.937419   \n",
       "21882  1.312284  1.394928    -0.463156             -0.192630 -1.229765   \n",
       "21883  0.428167  1.621951     0.042792             -0.551667 -1.566295   \n",
       "\n",
       "       CARRIER_DELAY  WEATHER_DELAY  NAS_DELAY  SECURITY_DELAY  \\\n",
       "0           0.373444      -1.690478  -2.291831       -1.688602   \n",
       "1           0.262685       0.448728   0.224113        0.542092   \n",
       "2           0.262685       0.448728   0.224113        0.542092   \n",
       "3           0.262685       0.448728   0.224113        0.542092   \n",
       "4           0.262685       0.448728   0.224113        0.542092   \n",
       "...              ...            ...        ...             ...   \n",
       "21879       1.367430      -1.690478  -2.291831       -1.688602   \n",
       "21880       0.262685       0.448728   0.224113        0.542092   \n",
       "21881      -1.534880      -1.690478  -2.291831       -1.688602   \n",
       "21882       0.262685       0.448728   0.224113        0.542092   \n",
       "21883       0.262685       0.448728   0.224113        0.542092   \n",
       "\n",
       "       LATE_AIRCRAFT_DELAY  ...  DATE_weekday_2  DATE_weekday_3  \\\n",
       "0                 1.039598  ...             0.0             0.0   \n",
       "1                 0.235038  ...             0.0             0.0   \n",
       "2                 0.235038  ...             0.0             1.0   \n",
       "3                 0.235038  ...             0.0             0.0   \n",
       "4                 0.235038  ...             0.0             0.0   \n",
       "...                    ...  ...             ...             ...   \n",
       "21879            -2.101039  ...             0.0             0.0   \n",
       "21880             0.235038  ...             0.0             0.0   \n",
       "21881             2.027989  ...             0.0             0.0   \n",
       "21882             0.235038  ...             1.0             0.0   \n",
       "21883             0.235038  ...             0.0             1.0   \n",
       "\n",
       "       DATE_weekday_4  DATE_weekday_5  DATE_weekday_6  DATE_is_month_end_1  \\\n",
       "0                 0.0             0.0             1.0                  0.0   \n",
       "1                 0.0             0.0             0.0                  0.0   \n",
       "2                 0.0             0.0             0.0                  0.0   \n",
       "3                 1.0             0.0             0.0                  0.0   \n",
       "4                 0.0             0.0             0.0                  0.0   \n",
       "...               ...             ...             ...                  ...   \n",
       "21879             0.0             1.0             0.0                  0.0   \n",
       "21880             0.0             0.0             1.0                  0.0   \n",
       "21881             0.0             1.0             0.0                  0.0   \n",
       "21882             0.0             0.0             0.0                  0.0   \n",
       "21883             0.0             0.0             0.0                  0.0   \n",
       "\n",
       "       DATE_is_month_start_1  late_flight     Label   Score  \n",
       "0                        0.0         late      late  0.5901  \n",
       "1                        0.0         late      late  0.6169  \n",
       "2                        0.0         late      late  0.5545  \n",
       "3                        0.0         late      late  0.5610  \n",
       "4                        0.0         late      late  0.5889  \n",
       "...                      ...          ...       ...     ...  \n",
       "21879                    0.0         late      late  0.5990  \n",
       "21880                    0.0         late      late  0.5568  \n",
       "21881                    0.0         late      late  0.6048  \n",
       "21882                    0.0         late  not_late  0.5000  \n",
       "21883                    0.0         late      late  0.5988  \n",
       "\n",
       "[21884 rows x 342 columns]"
      ]
     },
     "execution_count": 39,
     "metadata": {},
     "output_type": "execute_result"
    }
   ],
   "source": [
    "predict_model(tuned_ada)"
   ]
  },
  {
   "cell_type": "markdown",
   "metadata": {},
   "source": [
    "# 9.) Deploy Model (finalized)"
   ]
  },
  {
   "cell_type": "markdown",
   "metadata": {},
   "source": [
    "## a. Ada Boost Classifier"
   ]
  },
  {
   "cell_type": "code",
   "execution_count": 40,
   "metadata": {},
   "outputs": [
    {
     "name": "stdout",
     "output_type": "stream",
     "text": [
      "AdaBoostClassifier(algorithm='SAMME.R', base_estimator=None, learning_rate=0.15,\n",
      "                   n_estimators=270, random_state=156)\n"
     ]
    }
   ],
   "source": [
    "final_ada = finalize_model(tuned_ada)\n",
    "\n",
    "#Final model's parameters for deployment\n",
    "print(final_ada)"
   ]
  },
  {
   "cell_type": "markdown",
   "metadata": {},
   "source": [
    "**Caution**: Once the model is finalized using `finalize_model()`, the entire dataset including the test/hold-out set is used for training. As a result, if the model is used for predictions on the hold-out set after `finalize_model()` is used, the information grid printed will be misleading as you are trying to predict on the same data that was used for modeling."
   ]
  },
  {
   "cell_type": "code",
   "execution_count": null,
   "metadata": {},
   "outputs": [],
   "source": [
    "predict_model(final_ada)"
   ]
  },
  {
   "cell_type": "markdown",
   "metadata": {},
   "source": [
    "# 10.) Predict on Unseen Dataset"
   ]
  },
  {
   "cell_type": "code",
   "execution_count": null,
   "metadata": {},
   "outputs": [],
   "source": [
    "unseen_predictions = predict_model(final_lightgbm, data=data_unseen)\n",
    "unseen_predictions"
   ]
  },
  {
   "cell_type": "code",
   "execution_count": null,
   "metadata": {},
   "outputs": [],
   "source": [
    "KPI = 'Accuracy'\n",
    "from pycaret.utils import check_metric\n",
    "# check_metric(unseen_predictions['late_flight'], unseen_predictions['Label'])\n",
    "check_metric(unseen_predictions['late_flight'], unseen_predictions['Label'], metric=KPI)"
   ]
  },
  {
   "cell_type": "markdown",
   "metadata": {},
   "source": [
    "# 11.) Persist Model"
   ]
  },
  {
   "cell_type": "code",
   "execution_count": null,
   "metadata": {},
   "outputs": [],
   "source": [
    "today = datetime.datetime.now()\n",
    "today_datetime = today.strftime(\"%d-%m-%Y %H:%M:%S\")\n",
    "pkl_filename = 'Final_model___' + 'ada' + '___for_all_airlines_' + today_datetime\n",
    "\n",
    "save_model(final_lightgbm, pkl_filename)"
   ]
  }
 ],
 "metadata": {
  "instance_type": "ml.g4dn.xlarge",
  "kernelspec": {
   "display_name": "Python 3 (Data Science)",
   "language": "python",
   "name": "python3__SAGEMAKER_INTERNAL__arn:aws:sagemaker:us-west-2:236514542706:image/datascience-1.0"
  },
  "language_info": {
   "codemirror_mode": {
    "name": "ipython",
    "version": 3
   },
   "file_extension": ".py",
   "mimetype": "text/x-python",
   "name": "python",
   "nbconvert_exporter": "python",
   "pygments_lexer": "ipython3",
   "version": "3.7.10"
  }
 },
 "nbformat": 4,
 "nbformat_minor": 4
}
